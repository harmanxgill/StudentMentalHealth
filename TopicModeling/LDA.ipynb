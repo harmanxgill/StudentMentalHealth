{
  "cells": [
    {
      "cell_type": "markdown",
      "metadata": {
        "id": "kPzj8NxeOiNL"
      },
      "source": [
        "# Student Mental Health\n",
        "## Data Filtering - Topic Modelling\n",
        "Author: Harman Gill\n",
        "\n"
      ]
    },
    {
      "cell_type": "markdown",
      "source": [
        "## Install Libraries"
      ],
      "metadata": {
        "id": "0INH3DwSyP3u"
      }
    },
    {
      "cell_type": "code",
      "execution_count": null,
      "metadata": {
        "colab": {
          "base_uri": "https://localhost:8080/"
        },
        "id": "34lf7ERn2GqQ",
        "outputId": "83d90716-148a-46be-b739-58e2fc18089c"
      },
      "outputs": [
        {
          "output_type": "stream",
          "name": "stdout",
          "text": [
            "Looking in indexes: https://pypi.org/simple, https://us-python.pkg.dev/colab-wheels/public/simple/\n",
            "Requirement already satisfied: gensim in /usr/local/lib/python3.7/dist-packages (3.6.0)\n",
            "Requirement already satisfied: six>=1.5.0 in /usr/local/lib/python3.7/dist-packages (from gensim) (1.15.0)\n",
            "Requirement already satisfied: smart-open>=1.2.1 in /usr/local/lib/python3.7/dist-packages (from gensim) (5.2.1)\n",
            "Requirement already satisfied: numpy>=1.11.3 in /usr/local/lib/python3.7/dist-packages (from gensim) (1.21.6)\n",
            "Requirement already satisfied: scipy>=0.18.1 in /usr/local/lib/python3.7/dist-packages (from gensim) (1.7.3)\n",
            "Looking in indexes: https://pypi.org/simple, https://us-python.pkg.dev/colab-wheels/public/simple/\n",
            "Collecting pyLDAvis\n",
            "  Downloading pyLDAvis-3.3.1.tar.gz (1.7 MB)\n",
            "\u001b[K     |████████████████████████████████| 1.7 MB 6.9 MB/s \n",
            "\u001b[?25h  Installing build dependencies ... \u001b[?25l\u001b[?25hdone\n",
            "  Getting requirements to build wheel ... \u001b[?25l\u001b[?25hdone\n",
            "  Installing backend dependencies ... \u001b[?25l\u001b[?25hdone\n",
            "    Preparing wheel metadata ... \u001b[?25l\u001b[?25hdone\n",
            "Requirement already satisfied: sklearn in /usr/local/lib/python3.7/dist-packages (from pyLDAvis) (0.0)\n",
            "Requirement already satisfied: scikit-learn in /usr/local/lib/python3.7/dist-packages (from pyLDAvis) (1.0.2)\n",
            "Requirement already satisfied: joblib in /usr/local/lib/python3.7/dist-packages (from pyLDAvis) (1.1.0)\n",
            "Requirement already satisfied: pandas>=1.2.0 in /usr/local/lib/python3.7/dist-packages (from pyLDAvis) (1.3.5)\n",
            "Requirement already satisfied: scipy in /usr/local/lib/python3.7/dist-packages (from pyLDAvis) (1.7.3)\n",
            "Requirement already satisfied: future in /usr/local/lib/python3.7/dist-packages (from pyLDAvis) (0.16.0)\n",
            "Requirement already satisfied: numexpr in /usr/local/lib/python3.7/dist-packages (from pyLDAvis) (2.8.3)\n",
            "Requirement already satisfied: setuptools in /usr/local/lib/python3.7/dist-packages (from pyLDAvis) (57.4.0)\n",
            "Requirement already satisfied: gensim in /usr/local/lib/python3.7/dist-packages (from pyLDAvis) (3.6.0)\n",
            "Requirement already satisfied: jinja2 in /usr/local/lib/python3.7/dist-packages (from pyLDAvis) (2.11.3)\n",
            "Requirement already satisfied: numpy>=1.20.0 in /usr/local/lib/python3.7/dist-packages (from pyLDAvis) (1.21.6)\n",
            "Collecting funcy\n",
            "  Downloading funcy-1.17-py2.py3-none-any.whl (33 kB)\n",
            "Requirement already satisfied: pytz>=2017.3 in /usr/local/lib/python3.7/dist-packages (from pandas>=1.2.0->pyLDAvis) (2022.1)\n",
            "Requirement already satisfied: python-dateutil>=2.7.3 in /usr/local/lib/python3.7/dist-packages (from pandas>=1.2.0->pyLDAvis) (2.8.2)\n",
            "Requirement already satisfied: six>=1.5 in /usr/local/lib/python3.7/dist-packages (from python-dateutil>=2.7.3->pandas>=1.2.0->pyLDAvis) (1.15.0)\n",
            "Requirement already satisfied: smart-open>=1.2.1 in /usr/local/lib/python3.7/dist-packages (from gensim->pyLDAvis) (5.2.1)\n",
            "Requirement already satisfied: MarkupSafe>=0.23 in /usr/local/lib/python3.7/dist-packages (from jinja2->pyLDAvis) (2.0.1)\n",
            "Requirement already satisfied: packaging in /usr/local/lib/python3.7/dist-packages (from numexpr->pyLDAvis) (21.3)\n",
            "Requirement already satisfied: pyparsing!=3.0.5,>=2.0.2 in /usr/local/lib/python3.7/dist-packages (from packaging->numexpr->pyLDAvis) (3.0.9)\n",
            "Requirement already satisfied: threadpoolctl>=2.0.0 in /usr/local/lib/python3.7/dist-packages (from scikit-learn->pyLDAvis) (3.1.0)\n",
            "Building wheels for collected packages: pyLDAvis\n",
            "  Building wheel for pyLDAvis (PEP 517) ... \u001b[?25l\u001b[?25hdone\n",
            "  Created wheel for pyLDAvis: filename=pyLDAvis-3.3.1-py2.py3-none-any.whl size=136898 sha256=9990335ad7d958bbaaa3a6855836d8bb9784d8f85e1ad7e6b680789f0f0a15ab\n",
            "  Stored in directory: /root/.cache/pip/wheels/c9/21/f6/17bcf2667e8a68532ba2fbf6d5c72fdf4c7f7d9abfa4852d2f\n",
            "Successfully built pyLDAvis\n",
            "Installing collected packages: funcy, pyLDAvis\n",
            "Successfully installed funcy-1.17 pyLDAvis-3.3.1\n"
          ]
        }
      ],
      "source": [
        "!pip install gensim\n",
        "!pip install pyLDAvis"
      ]
    },
    {
      "cell_type": "markdown",
      "metadata": {
        "id": "GBu69DfmfOxd"
      },
      "source": [
        "## Import Libraries"
      ]
    },
    {
      "cell_type": "code",
      "execution_count": null,
      "metadata": {
        "id": "9EAjp45l18NK",
        "colab": {
          "base_uri": "https://localhost:8080/"
        },
        "outputId": "8452bce3-2795-4015-e4dd-e5b916551ffd"
      },
      "outputs": [
        {
          "output_type": "stream",
          "name": "stderr",
          "text": [
            "/usr/local/lib/python3.7/dist-packages/past/types/oldstr.py:5: DeprecationWarning: Using or importing the ABCs from 'collections' instead of from 'collections.abc' is deprecated since Python 3.3,and in 3.9 it will stop working\n",
            "  from collections import Iterable\n"
          ]
        }
      ],
      "source": [
        "import pandas as pd\n",
        "import numpy as np\n",
        "from google.colab import files\n",
        "\n",
        "import gensim\n",
        "from gensim import corpora\n",
        "from ast import literal_eval\n",
        "import matplotlib.pyplot as plt\n",
        "import pyLDAvis\n",
        "import pyLDAvis.gensim_models\n",
        "from gensim.test.utils import datapath\n",
        "from gensim import models"
      ]
    },
    {
      "cell_type": "markdown",
      "metadata": {
        "id": "9UulfEYkRSJq"
      },
      "source": [
        "## Load the Data"
      ]
    },
    {
      "cell_type": "code",
      "execution_count": null,
      "metadata": {
        "colab": {
          "base_uri": "https://localhost:8080/",
          "height": 73,
          "resources": {
            "http://localhost:8080/nbextensions/google.colab/files.js": {
              "data": "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",
              "headers": [
                [
                  "content-type",
                  "application/javascript"
                ]
              ],
              "ok": true,
              "status": 200,
              "status_text": ""
            }
          }
        },
        "id": "sGYN9Esj2jUC",
        "outputId": "4997e412-afed-4f4a-c606-44a98cb3cd08"
      },
      "outputs": [
        {
          "output_type": "display_data",
          "data": {
            "text/plain": [
              "<IPython.core.display.HTML object>"
            ],
            "text/html": [
              "\n",
              "     <input type=\"file\" id=\"files-682888f7-f7f7-4702-b728-4937a2b64553\" name=\"files[]\" multiple disabled\n",
              "        style=\"border:none\" />\n",
              "     <output id=\"result-682888f7-f7f7-4702-b728-4937a2b64553\">\n",
              "      Upload widget is only available when the cell has been executed in the\n",
              "      current browser session. Please rerun this cell to enable.\n",
              "      </output>\n",
              "      <script src=\"/nbextensions/google.colab/files.js\"></script> "
            ]
          },
          "metadata": {}
        },
        {
          "output_type": "stream",
          "name": "stdout",
          "text": [
            "Saving PreprocessedPosts.json to PreprocessedPosts.json\n"
          ]
        }
      ],
      "source": [
        "file = files.upload()"
      ]
    },
    {
      "cell_type": "code",
      "execution_count": null,
      "metadata": {
        "id": "a4Tekh39RU9q",
        "colab": {
          "base_uri": "https://localhost:8080/"
        },
        "outputId": "994f752a-98fb-45e4-b1d8-1f4fe07c2c64"
      },
      "outputs": [
        {
          "output_type": "stream",
          "name": "stdout",
          "text": [
            "           id                author  \\\n",
            "0      abcz5u           lit12345yxz   \n",
            "1      abd016        PolysciStudent   \n",
            "2      abdm2o       doyouevenschool   \n",
            "3      abev8w         ilovedogs1017   \n",
            "4      abewo8              delciopp   \n",
            "...       ...                   ...   \n",
            "56256  vodkit             vivian352   \n",
            "56257  vodxga           WildWiggety   \n",
            "56258  voh3lj             Kermolion   \n",
            "56259  vojc2e                nurkee   \n",
            "56260  voky74  Mysterious-Chart-930   \n",
            "\n",
            "                                    author_flair_text  \\\n",
            "0                                                None   \n",
            "1                                                None   \n",
            "2                                                None   \n",
            "3                                                None   \n",
            "4                                        MEC E Year 2   \n",
            "...                                               ...   \n",
            "56256                                            None   \n",
            "56257    Prospective Student - Faculty of Engineering   \n",
            "56258         Undergraduate Student - Faculty of Arts   \n",
            "56259  Undergraduate Student - Faculty of Engineering   \n",
            "56260          Prospective Student - Faculty of _____   \n",
            "\n",
            "                         created_utc  num_comments  \\\n",
            "0      1970-01-01 00:00:01.546301594             1   \n",
            "1      1970-01-01 00:00:01.546301745            18   \n",
            "2      1970-01-01 00:00:01.546306023             9   \n",
            "3      1970-01-01 00:00:01.546316423             2   \n",
            "4      1970-01-01 00:00:01.546316766            11   \n",
            "...                              ...           ...   \n",
            "56256  1970-01-01 00:00:01.656609253             0   \n",
            "56257  1970-01-01 00:00:01.656610197             0   \n",
            "56258  1970-01-01 00:00:01.656618394             0   \n",
            "56259  1970-01-01 00:00:01.656624297             0   \n",
            "56260  1970-01-01 00:00:01.656628556             0   \n",
            "\n",
            "                                                    post  \\\n",
            "0      PharmD Application. I was hoping anything that...   \n",
            "1      Happy New Years. I wish you all a happy new ye...   \n",
            "2      New Year’s Resolution.... Learn to accept that...   \n",
            "3      Winter Term Midterms. Does anyone know if midt...   \n",
            "4                    What's your New Years resolution?.    \n",
            "...                                                  ...   \n",
            "56256  Are starbucks, tim hortons...etc always hiring...   \n",
            "56257  Laptop/Computer for Engineer. I am seeking rec...   \n",
            "56258  Computer Game Development Certificate Question...   \n",
            "56259  Unofficial Second Year ENG GPA Submission. Fir...   \n",
            "56260  Student Health Care. Can anyone explain the pr...   \n",
            "\n",
            "                                       preprocessed_post  \n",
            "0      [pharmd, application, hop, anything, applied, ...  \n",
            "1      [happy, new, year, wish, happy, new, year, lea...  \n",
            "2      [new, year, resolution, learn, accept, polysci...  \n",
            "3      [winter, term, midterm, anyone, know, midterm,...  \n",
            "4                                [new, year, resolution]  \n",
            "...                                                  ...  \n",
            "56256  [starbucks, tim, hortons, etc, always, hire, i...  \n",
            "56257  [laptop, computer, engineer, seek, recommendat...  \n",
            "56258  [computer, game, development, certificate, que...  \n",
            "56259  [unofficial, second, year, eng, gpa, submissio...  \n",
            "56260  [student, health, care, anyone, explain, proce...  \n",
            "\n",
            "[56261 rows x 7 columns]\n"
          ]
        }
      ],
      "source": [
        "df = pd.read_json('PreprocessedPosts.json')\n",
        "print(df)"
      ]
    },
    {
      "cell_type": "code",
      "execution_count": null,
      "metadata": {
        "id": "4dPo1NwSYEL8"
      },
      "outputs": [],
      "source": [
        "posts = df.preprocessed_post"
      ]
    },
    {
      "cell_type": "code",
      "execution_count": null,
      "metadata": {
        "colab": {
          "base_uri": "https://localhost:8080/"
        },
        "id": "gigRamaoFujc",
        "outputId": "0428d8f3-416d-4697-c415-272177d12e03"
      },
      "outputs": [
        {
          "output_type": "stream",
          "name": "stdout",
          "text": [
            "0        [pharmd, application, hop, anything, applied, ...\n",
            "1        [happy, new, year, wish, happy, new, year, lea...\n",
            "2        [new, year, resolution, learn, accept, polysci...\n",
            "3        [winter, term, midterm, anyone, know, midterm,...\n",
            "4                                  [new, year, resolution]\n",
            "                               ...                        \n",
            "56256    [starbucks, tim, hortons, etc, always, hire, i...\n",
            "56257    [laptop, computer, engineer, seek, recommendat...\n",
            "56258    [computer, game, development, certificate, que...\n",
            "56259    [unofficial, second, year, eng, gpa, submissio...\n",
            "56260    [student, health, care, anyone, explain, proce...\n",
            "Name: preprocessed_post, Length: 56261, dtype: object\n"
          ]
        }
      ],
      "source": [
        "print(posts)"
      ]
    },
    {
      "cell_type": "markdown",
      "metadata": {
        "id": "YEVqDGo7Q5oF"
      },
      "source": [
        "## LDA Model"
      ]
    },
    {
      "cell_type": "code",
      "execution_count": null,
      "metadata": {
        "id": "_IfHm7Y2Q7RN"
      },
      "outputs": [],
      "source": [
        "dictionary = corpora.Dictionary(posts)"
      ]
    },
    {
      "cell_type": "code",
      "execution_count": null,
      "metadata": {
        "id": "Ac6cgWmCb1pm"
      },
      "outputs": [],
      "source": [
        "doc_term_matrix = [dictionary.doc2bow(doc) for doc in posts]"
      ]
    },
    {
      "cell_type": "markdown",
      "metadata": {
        "id": "G9nHl89kcyid"
      },
      "source": [
        "### Optimize number of topics"
      ]
    },
    {
      "cell_type": "code",
      "execution_count": null,
      "metadata": {
        "id": "eA5TAtYAc1CM",
        "colab": {
          "base_uri": "https://localhost:8080/"
        },
        "outputId": "de65878a-8491-421d-b5c5-b6ff9c27dc70"
      },
      "outputs": [
        {
          "output_type": "stream",
          "name": "stdout",
          "text": [
            "Round: 10\n",
            "Round: 11\n",
            "Round: 12\n",
            "Round: 13\n",
            "Round: 14\n",
            "Round: 15\n"
          ]
        }
      ],
      "source": [
        "coherence = []\n",
        "for k in range(10, 16):\n",
        "  print('Round: '+str(k))\n",
        "  lda = gensim.models.ldamodel.LdaModel\n",
        "  ldamodel = lda(doc_term_matrix, num_topics=k, id2word=dictionary, passes=40, iterations=200, chunksize=10000, eval_every=None)\n",
        "\n",
        "  cm = gensim.models.coherencemodel.CoherenceModel(model=ldamodel, texts=posts, dictionary=dictionary, coherence= 'c_v')\n",
        "  \n",
        "  coherence.append((k,cm.get_coherence()))"
      ]
    },
    {
      "cell_type": "code",
      "execution_count": null,
      "metadata": {
        "id": "4cYMUmqyezBK"
      },
      "outputs": [],
      "source": [
        "x_val = [x[0] for x in coherence]\n",
        "y_val = [x[1] for x in coherence]"
      ]
    },
    {
      "cell_type": "code",
      "execution_count": null,
      "metadata": {
        "id": "XhfK9EUJfbKt",
        "colab": {
          "base_uri": "https://localhost:8080/",
          "height": 295
        },
        "outputId": "edd42420-0d35-430a-cac2-05f7a60815e1"
      },
      "outputs": [
        {
          "output_type": "display_data",
          "data": {
            "text/plain": [
              "<Figure size 432x288 with 1 Axes>"
            ],
            "image/png": "[encoded data removed]"
          },
          "metadata": {
            "needs_background": "light"
          }
        }
      ],
      "source": [
        "plt.plot(x_val, y_val)\n",
        "plt.scatter(x_val, y_val)\n",
        "plt.title('Number of Topics vs Coherence')\n",
        "plt.xlabel('Number of Topics')\n",
        "plt.ylabel('Coherence')\n",
        "plt.xticks(x_val)\n",
        "plt.show()"
      ]
    },
    {
      "cell_type": "code",
      "execution_count": null,
      "metadata": {
        "colab": {
          "base_uri": "https://localhost:8080/"
        },
        "id": "2MtVplT1tqqR",
        "outputId": "d81412fc-0cb4-44cf-e6e4-0c8ef819a63a"
      },
      "outputs": [
        {
          "output_type": "stream",
          "name": "stdout",
          "text": [
            "[10, 11, 12, 13, 14, 15]\n"
          ]
        }
      ],
      "source": [
        "print(x_val)"
      ]
    },
    {
      "cell_type": "code",
      "execution_count": null,
      "metadata": {
        "colab": {
          "base_uri": "https://localhost:8080/"
        },
        "id": "o4w8fQbvuJAi",
        "outputId": "05757057-bf10-4853-ac4a-3a94ee7ac93f"
      },
      "outputs": [
        {
          "output_type": "stream",
          "name": "stdout",
          "text": [
            "[0.47625804833640445, 0.5164735727689124, 0.4861622431531056, 0.49476055766047106, 0.48580708407673173, 0.49987636854695666]\n"
          ]
        }
      ],
      "source": [
        "print(y_val)"
      ]
    },
    {
      "cell_type": "code",
      "execution_count": null,
      "metadata": {
        "id": "1dGqJWB_r0a5"
      },
      "outputs": [],
      "source": [
        "lda = gensim.models.ldamodel.LdaModel\n",
        "ldamodel =lda(doc_term_matrix, num_topics=11, id2word = dictionary, passes=40, iterations=200, chunksize=10000, eval_every=None, random_state=0)"
      ]
    },
    {
      "cell_type": "code",
      "execution_count": null,
      "metadata": {
        "id": "j5BQl2NIxBo3",
        "colab": {
          "base_uri": "https://localhost:8080/"
        },
        "outputId": "c02a1421-baff-4064-a497-4611de934f8a"
      },
      "outputs": [
        {
          "output_type": "execute_result",
          "data": {
            "text/plain": [
              "[(0,\n",
              "  [('anyone', 0.05947284),\n",
              "   ('class', 0.04186661),\n",
              "   ('please', 0.024237826),\n",
              "   ('note', 0.023217091),\n",
              "   ('know', 0.020993002),\n",
              "   ('help', 0.020961419),\n",
              "   ('study', 0.01953266),\n",
              "   ('would', 0.01800768),\n",
              "   ('lecture', 0.017471094),\n",
              "   ('econ', 0.015513339),\n",
              "   ('remove', 0.014711312),\n",
              "   ('soc', 0.013111452),\n",
              "   ('thanks', 0.012420086),\n",
              "   ('syllabus', 0.011776646),\n",
              "   ('someone', 0.01161071)]),\n",
              " (1,\n",
              "  [('get', 0.02146714),\n",
              "   ('like', 0.019481862),\n",
              "   ('time', 0.014802326),\n",
              "   ('feel', 0.012565909),\n",
              "   ('people', 0.012344976),\n",
              "   ('make', 0.012111967),\n",
              "   ('really', 0.0112413345),\n",
              "   ('know', 0.010839361),\n",
              "   ('want', 0.009480986),\n",
              "   ('even', 0.009155458),\n",
              "   ('think', 0.008979148),\n",
              "   ('work', 0.008460366),\n",
              "   ('class', 0.007525677),\n",
              "   ('thing', 0.00744091),\n",
              "   ('year', 0.0073426594)]),\n",
              " (2,\n",
              "  [('campus', 0.03471105),\n",
              "   ('know', 0.017715057),\n",
              "   ('anyone', 0.017446151),\n",
              "   ('place', 0.015629733),\n",
              "   ('find', 0.012695946),\n",
              "   ('get', 0.012630358),\n",
              "   ('use', 0.011658926),\n",
              "   ('one', 0.011255653),\n",
              "   ('park', 0.008715584),\n",
              "   ('lose', 0.008687421),\n",
              "   ('building', 0.008678284),\n",
              "   ('open', 0.00829599),\n",
              "   ('room', 0.007908225),\n",
              "   ('laptop', 0.007611539),\n",
              "   ('pay', 0.0073432988)]),\n",
              " (3,\n",
              "  [('preview_redd_it', 0.017004956),\n",
              "   ('night', 0.014134662),\n",
              "   ('food', 0.012586164),\n",
              "   ('png_width_format_png_auto_webp', 0.012222271),\n",
              "   ('covid', 0.009892403),\n",
              "   ('fuck', 0.009265853),\n",
              "   ('test', 0.007956272),\n",
              "   ('day', 0.0068543022),\n",
              "   ('doctor', 0.0066707325),\n",
              "   ('morning', 0.0061434996),\n",
              "   ('today', 0.006100371),\n",
              "   ('server', 0.0057541854),\n",
              "   ('eat', 0.005023789),\n",
              "   ('vaccination', 0.004753479),\n",
              "   ('man', 0.004677795)]),\n",
              " (4,\n",
              "  [('year', 0.0391559),\n",
              "   ('program', 0.025071403),\n",
              "   ('get', 0.024942657),\n",
              "   ('science', 0.018711066),\n",
              "   ('student', 0.016801305),\n",
              "   ('gpa', 0.016442198),\n",
              "   ('first', 0.01615023),\n",
              "   ('apply', 0.015472369),\n",
              "   ('engineering', 0.014968122),\n",
              "   ('would', 0.0134928655),\n",
              "   ('degree', 0.013066502),\n",
              "   ('transfer', 0.012599307),\n",
              "   ('school', 0.011797512),\n",
              "   ('major', 0.010283656),\n",
              "   ('know', 0.009570321)]),\n",
              " (5,\n",
              "  [('course', 0.06967639),\n",
              "   ('take', 0.05899548),\n",
              "   ('class', 0.04570061),\n",
              "   ('spring', 0.017690225),\n",
              "   ('anyone', 0.014789658),\n",
              "   ('math', 0.014244082),\n",
              "   ('semester', 0.013750173),\n",
              "   ('summer', 0.013083439),\n",
              "   ('fall', 0.012961276),\n",
              "   ('term', 0.012890863),\n",
              "   ('would', 0.012322542),\n",
              "   ('winter', 0.011998224),\n",
              "   ('year', 0.010967057),\n",
              "   ('online', 0.010274588),\n",
              "   ('one', 0.0098399045)]),\n",
              " (6,\n",
              "  [('get', 0.023987466),\n",
              "   ('email', 0.019976592),\n",
              "   ('anyone', 0.016458157),\n",
              "   ('say', 0.015543055),\n",
              "   ('student', 0.013142547),\n",
              "   ('still', 0.0129957115),\n",
              "   ('know', 0.011825069),\n",
              "   ('time', 0.010749463),\n",
              "   ('application', 0.0102027925),\n",
              "   ('class', 0.009715634),\n",
              "   ('deadline', 0.009536426),\n",
              "   ('beartracks', 0.00946859),\n",
              "   ('back', 0.009096573),\n",
              "   ('day', 0.008620695),\n",
              "   ('receive', 0.008414193)]),\n",
              " (7,\n",
              "  [('lab', 0.034129556),\n",
              "   ('use', 0.029994866),\n",
              "   ('book', 0.022598723),\n",
              "   ('textbook', 0.019716721),\n",
              "   ('library', 0.010493085),\n",
              "   ('open', 0.010236816),\n",
              "   ('floor', 0.0089172665),\n",
              "   ('access', 0.008538564),\n",
              "   ('name', 0.008523444),\n",
              "   ('need', 0.008137096),\n",
              "   ('tutor', 0.008092696),\n",
              "   ('video', 0.007969768),\n",
              "   ('code', 0.0072938334),\n",
              "   ('buy', 0.0069754585),\n",
              "   ('free', 0.006575735)]),\n",
              " (8,\n",
              "  [('final', 0.060079854),\n",
              "   ('exam', 0.048300322),\n",
              "   ('grade', 0.04700801),\n",
              "   ('midterm', 0.033279337),\n",
              "   ('mark', 0.024584604),\n",
              "   ('write', 0.020659128),\n",
              "   ('question', 0.01720395),\n",
              "   ('get', 0.015743323),\n",
              "   ('prof', 0.012719353),\n",
              "   ('average', 0.011438565),\n",
              "   ('assignment', 0.011203089),\n",
              "   ('math', 0.011177696),\n",
              "   ('class', 0.011111642),\n",
              "   ('reddit', 0.009344755),\n",
              "   ('test', 0.009343746)]),\n",
              " (9,\n",
              "  [('music', 0.0135490075),\n",
              "   ('strike', 0.012039926),\n",
              "   ('remove', 0.008149371),\n",
              "   ('thegatewayonline', 0.008127962),\n",
              "   ('mask', 0.007345216),\n",
              "   ('appeal', 0.0072144796),\n",
              "   ('presentation', 0.007197826),\n",
              "   ('the_gateway', 0.0067299847),\n",
              "   ('launchpad', 0.0064742495),\n",
              "   ('report', 0.006258608),\n",
              "   ('ghoul', 0.005890878),\n",
              "   ('data', 0.0051335916),\n",
              "   ('academic', 0.004974903),\n",
              "   ('law', 0.004704588),\n",
              "   ('war', 0.0045395433)]),\n",
              " (10,\n",
              "  [('student', 0.03904932),\n",
              "   ('university', 0.01639825),\n",
              "   ('ualberta', 0.013817146),\n",
              "   ('alberta', 0.010877216),\n",
              "   ('www', 0.010221974),\n",
              "   ('com', 0.008776494),\n",
              "   ('international', 0.0070466497),\n",
              "   ('research', 0.0068256645),\n",
              "   ('canada', 0.006814269),\n",
              "   ('club', 0.0064602653),\n",
              "   ('look', 0.0059354883),\n",
              "   ('join', 0.00549805),\n",
              "   ('group', 0.0053240955),\n",
              "   ('campus', 0.005290293),\n",
              "   ('uofa', 0.005272827)])]"
            ]
          },
          "metadata": {},
          "execution_count": 30
        }
      ],
      "source": [
        "ldamodel.show_topics(11, num_words=15, formatted=False)"
      ]
    },
    {
      "cell_type": "markdown",
      "source": [
        "## Relevancy Scores"
      ],
      "metadata": {
        "id": "ouw_gDfGHtYP"
      }
    },
    {
      "cell_type": "markdown",
      "source": [
        "### Number of topics: 11"
      ],
      "metadata": {
        "id": "5eqG4IWXlrON"
      }
    },
    {
      "cell_type": "code",
      "source": [
        "topic_data =  pyLDAvis.gensim_models.prepare(ldamodel, doc_term_matrix, dictionary, mds = 'pcoa')\n",
        "pyLDAvis.display(topic_data)"
      ],
      "metadata": {
        "id": "yZbZH1I6Hv7s",
        "colab": {
          "base_uri": "https://localhost:8080/",
          "height": 896
        },
        "outputId": "93669e51-0fd7-461c-e43e-d226010bf49b"
      },
      "execution_count": null,
      "outputs": [
        {
          "output_type": "stream",
          "name": "stderr",
          "text": [
            "/usr/local/lib/python3.7/dist-packages/pyLDAvis/_prepare.py:247: FutureWarning: In a future version of pandas all arguments of DataFrame.drop except for the argument 'labels' will be keyword-only\n",
            "  by='saliency', ascending=False).head(R).drop('saliency', 1)\n"
          ]
        },
        {
          "output_type": "execute_result",
          "data": {
            "text/plain": [
              "<IPython.core.display.HTML object>"
            ],
            "text/html": [
              "\n",
              "<link rel=\"stylesheet\" type=\"text/css\" href=\"https://cdn.jsdelivr.net/gh/bmabey/pyLDAvis@3.3.1/pyLDAvis/js/ldavis.v1.0.0.css\">\n",
              "\n",
              "\n",
              "<div id=\"ldavis_el581405352510772004857010071\"></div>\n",
              "<script type=\"text/javascript\">\n",
              "\n",
              "var ldavis_el581405352510772004857010071_data = {\"mdsDat\": {\"x\": [0.11345548352607214, 0.1768930117513705, 0.19383638945702014, 0.11935588333202594, -0.04376247336852923, 0.12904901226107396, 0.0653519296087009, -0.003083652295452417, -0.14195055165989157, -0.29201616206704095, -0.31712887054534916], \"y\": [-0.015019593717960161, 0.10583204651957279, 0.02026235969454115, 0.01857899836745105, 0.180741407692135, -0.07510661598873242, -0.07109117190053486, -0.0994453798916675, -0.0935840258046503, -0.213494536792278, 0.24232651182212298], \"topics\": [1, 2, 3, 4, 5, 6, 7, 8, 9, 10, 11], \"cluster\": [1, 1, 1, 1, 1, 1, 1, 1, 1, 1, 1], \"Freq\": [21.706708914832372, 15.814189787933378, 14.887832726320452, 10.090523757977653, 9.735461130523774, 7.141647697356872, 6.6480224298455255, 5.4004954705985, 3.659798045841144, 2.7369385620518063, 2.178381476718525]}, \"tinfo\": {\"Term\": [\"course\", \"class\", \"take\", \"final\", \"anyone\", \"grade\", \"exam\", \"year\", \"student\", \"program\", \"midterm\", \"lab\", \"campus\", \"use\", \"get\", \"science\", \"gpa\", \"spring\", \"mark\", \"email\", \"apply\", \"engineering\", \"know\", \"note\", \"math\", \"please\", \"study\", \"time\", \"transfer\", \"lecture\", \"always\", \"alone\", \"motivation\", \"internet\", \"complain\", \"hang\", \"mental\", \"depress\", \"constantly\", \"physically\", \"incredibly\", \"mentally\", \"commute\", \"habit\", \"flag\", \"lonely\", \"nobody\", \"vent\", \"wear_mask\", \"perfect\", \"mom\", \"bomb\", \"fault\", \"mad\", \"garbage\", \"burnt\", \"cram\", \"guilty\", \"laugh\", \"vibe\", \"feel\", \"cry\", \"rant\", \"sometimes\", \"honestly\", \"spend\", \"hate\", \"shit\", \"literally\", \"annoy\", \"thing\", \"people\", \"barely\", \"everything\", \"friend\", \"stress\", \"life\", \"even\", \"deal\", \"waste\", \"bad\", \"make\", \"gym\", \"talk\", \"stop\", \"maybe\", \"time\", \"like\", \"every\", \"hour\", \"really\", \"person\", \"keep\", \"never\", \"actually\", \"week\", \"way\", \"think\", \"get\", \"work\", \"day\", \"lot\", \"want\", \"start\", \"know\", \"study\", \"try\", \"much\", \"good\", \"one\", \"well\", \"would\", \"year\", \"say\", \"school\", \"class\", \"first\", \"online\", \"engineering\", \"transfer\", \"nursing\", \"bsc\", \"specialization\", \"bachelor\", \"competitive\", \"master\", \"honor\", \"bcom\", \"macewan\", \"compute\", \"honour\", \"coop\", \"zoom\", \"accepted\", \"pursue\", \"spec\", \"civil\", \"mechanical\", \"cohort\", \"electrical\", \"pharmd\", \"diploma\", \"ale\", \"trad\", \"practicum\", \"bcomm\", \"reapply\", \"discipline\", \"program\", \"gpa\", \"undergrad\", \"science\", \"degree\", \"admission\", \"business\", \"major\", \"grad\", \"comp_sci\", \"apply\", \"faculty\", \"minor\", \"year\", \"computer\", \"first\", \"school\", \"art\", \"graduate\", \"uofa\", \"credit\", \"high\", \"get\", \"second\", \"general\", \"student\", \"accept\", \"would\", \"requirement\", \"want\", \"know\", \"question\", \"wonder\", \"average\", \"anyone\", \"help\", \"fall\", \"need\", \"elective\", \"bioch\", \"wrs\", \"hist\", \"doable\", \"french\", \"zool\", \"nurs\", \"manageable\", \"pol\", \"booster\", \"electives\", \"fulfill\", \"casper\", \"casper_test\", \"pac\", \"prereqs\", \"organic\", \"prereq\", \"anatomy\", \"memorization\", \"consume\", \"undeclared\", \"consent\", \"courseload\", \"dissection\", \"validate\", \"latin\", \"prerequisites\", \"blatter\", \"course\", \"enroll\", \"spring\", \"catalogue\", \"level\", \"waive\", \"summer\", \"int\", \"engl\", \"prerequisite\", \"workload\", \"interesting\", \"take\", \"schedule\", \"difficulty\", \"load\", \"cmput\", \"labs\", \"winter\", \"term\", \"class\", \"math\", \"easy\", \"biol\", \"semester\", \"chem\", \"fall\", \"english\", \"online\", \"recommend\", \"lab\", \"enrol\", \"would\", \"one\", \"anyone\", \"next\", \"wonder\", \"thanks\", \"need\", \"year\", \"like\", \"know\", \"also\", \"time\", \"want\", \"deadline\", \"beartracks\", \"submit\", \"loan\", \"defer\", \"refund\", \"december\", \"enrolment\", \"proctor\", \"deposit\", \"vaccinate\", \"deferral\", \"notification\", \"sent\", \"official_transcript\", \"confirmation\", \"registrar\", \"deferred\", \"portal\", \"ballot\", \"password\", \"examlock\", \"cheque\", \"preview\", \"revoke\", \"login\", \"ebook\", \"airpods\", \"mph\", \"examination\", \"email\", \"budget_cut\", \"bear_track\", \"error\", \"date\", \"grant\", \"payment\", \"enrollment\", \"request\", \"document\", \"status\", \"update\", \"contact\", \"receive\", \"wait\", \"application\", \"transcript\", \"yet\", \"june\", \"eclass\", \"still\", \"say\", \"fee\", \"pay\", \"send\", \"show\", \"back\", \"tuition\", \"get\", \"day\", \"check\", \"due\", \"add\", \"may\", \"anyone\", \"time\", \"student\", \"week\", \"else\", \"know\", \"apply\", \"class\", \"fall\", \"need\", \"start\", \"canada\", \"club\", \"event\", \"survey\", \"community\", \"team\", \"vote\", \"form_gle\", \"government\", \"election\", \"participate\", \"html\", \"union\", \"virtual\", \"quarantine\", \"housing\", \"sport\", \"host\", \"participant\", \"candidate\", \"doc_google\", \"board\", \"uasu\", \"sip\", \"association\", \"youth\", \"organization\", \"bedroom\", \"mailto\", \"org\", \"volunteer\", \"support\", \"join\", \"alberta\", \"win\", \"www\", \"ualberta\", \"research\", \"student\", \"com\", \"university\", \"international\", \"public\", \"form\", \"service\", \"award\", \"residence\", \"edmonton\", \"link\", \"cost\", \"group\", \"interested\", \"interview\", \"opportunity\", \"free\", \"health\", \"uofa\", \"provide\", \"campus\", \"look\", \"experience\", \"please\", \"work\", \"study\", \"help\", \"econ\", \"stats\", \"swap\", \"edu\", \"mwf\", \"civ_e\", \"wagner\", \"gainer\", \"buec\", \"paul\", \"lec\", \"mesbah\", \"relig\", \"michael\", \"gordon_lee\", \"mgtsc\", \"swap_daily\", \"blaw\", \"wong\", \"springer\", \"reexamination\", \"loepelmann\", \"flashcard\", \"andrew\", \"sharon\", \"chris\", \"andrew_wong\", \"powerpoint\", \"farley\", \"sharaf\", \"note\", \"syllabus\", \"soc\", \"buddy\", \"willing\", \"lecture\", \"psyco\", \"pls\", \"comment_thread\", \"discord\", \"mmi\", \"stat\", \"please\", \"anyone\", \"slide\", \"tip\", \"fin\", \"help\", \"study\", \"remove\", \"share\", \"class\", \"someone\", \"drop\", \"send\", \"let\", \"appreciate\", \"group\", \"thank\", \"could\", \"know\", \"thanks\", \"would\", \"prof\", \"hey\", \"really\", \"want\", \"wonder\", \"need\", \"final\", \"exam\", \"poll\", \"view_poll\", \"curve\", \"essay\", \"calculator\", \"percent\", \"distribution\", \"planner\", \"checklist\", \"loudly_crying_face_loudly_crying_face\", \"verification\", \"unofficial\", \"sts\", \"formula_sheet\", \"dec\", \"index_html\", \"consolidate\", \"playlist\", \"valentine\", \"bump\", \"acct\", \"prayer\", \"gdrewzrxc\", \"audio\", \"intd\", \"rlly\", \"person_shrugging\", \"medium-light_skin_tone\", \"mark\", \"write\", \"scale\", \"midterm\", \"grade\", \"quiz\", \"cutoff\", \"cheat\", \"paper\", \"reddit\", \"christmas\", \"test\", \"exams\", \"assignment\", \"practice\", \"fail\", \"average\", \"pas\", \"prof\", \"pass\", \"question\", \"answer\", \"sem\", \"com\", \"letter\", \"math\", \"www\", \"get\", \"chem\", \"think\", \"class\", \"like\", \"anyone\", \"know\", \"park\", \"building\", \"laptop\", \"card\", \"bus\", \"rent\", \"onecard\", \"insurance\", \"opt\", \"car\", \"arc_card\", \"dental\", \"upass\", \"photo\", \"ipad\", \"echa\", \"locker\", \"transit\", \"tory\", \"black\", \"macbook\", \"fire\", \"coverage\", \"apple\", \"dental_hygiene\", \"conditional\", \"red\", \"tuition_deposit\", \"blue\", \"discount\", \"ticket\", \"hub\", \"cab\", \"campus\", \"near\", \"virus\", \"place\", \"sub\", \"meal\", \"room\", \"lose\", \"charge\", \"house\", \"delete\", \"live\", \"buy\", \"use\", \"find\", \"know\", \"open\", \"around\", \"anyone\", \"one\", \"pay\", \"get\", \"plan\", \"thanks\", \"wonder\", \"look\", \"need\", \"would\", \"book\", \"library\", \"floor\", \"tutor\", \"code\", \"youtube\", \"vaccine\", \"rutherford\", \"bookstore\", \"lock\", \"download\", \"edition\", \"bathroom\", \"manual\", \"washroom\", \"ceremony\", \"textbooks\", \"button\", \"youtu\", \"cameron\", \"map\", \"access_database_end\", \"tab\", \"smiling_face_with_tear\", \"etlc\", \"dice\", \"silent\", \"cat\", \"twitter\", \"cameron_library\", \"ccis\", \"version\", \"meme\", \"textbook\", \"lab\", \"name\", \"pdf\", \"use\", \"video\", \"app\", \"access\", \"text\", \"buy\", \"watch\", \"open\", \"room\", \"google\", \"free\", \"need\", \"computer\", \"find\", \"one\", \"help\", \"preview_redd_it\", \"png_width_format_png_auto_webp\", \"doctor\", \"vaccination\", \"jpg_width_format_pjpg_auto_webp\", \"drink\", \"symptom\", \"clinic\", \"parking\", \"discord_server\", \"glass\", \"pain\", \"rapid_test\", \"exhaust\", \"clown_face\", \"lunch\", \"bruh\", \"shower\", \"dose\", \"pizza\", \"tap\", \"tired\", \"bridge\", \"homeless\", \"climb\", \"cord\", \"bottle\", \"babushka\", \"potato\", \"gang\", \"server\", \"night\", \"water\", \"food\", \"hot\", \"healthy\", \"eat\", \"coffee\", \"eye\", \"positive\", \"man\", \"fuck\", \"morning\", \"covid\", \"sleep\", \"test\", \"train\", \"tonight\", \"today\", \"day\", \"sick\", \"week\", \"see\", \"walk\", \"stay\", \"come\", \"music\", \"thegatewayonline\", \"the_gateway\", \"launchpad\", \"ghoul\", \"war\", \"after\", \"mandate\", \"agreement\", \"cough\", \"completion\", \"tim\", \"piano\", \"film\", \"band\", \"agpa\", \"conference\", \"prescription\", \"plagiarism\", \"summary\", \"evaluation\", \"citation\", \"nserc\", \"calm\", \"formal\", \"equation\", \"effectively\", \"template_letter\", \"cite\", \"mediation\", \"presentation\", \"strike\", \"mask\", \"vice_president\", \"wow\", \"bite\", \"appeal\", \"data\", \"jan\", \"the\", \"report\", \"statement\", \"law\", \"remove\", \"article\", \"play\", \"academic\", \"history\", \"policy\", \"dean\"], \"Freq\": [15216.0, 17793.0, 15843.0, 5406.0, 15405.0, 5236.0, 4346.0, 13090.0, 11983.0, 5517.0, 3561.0, 3034.0, 3386.0, 3404.0, 18274.0, 4411.0, 3625.0, 3890.0, 2499.0, 2851.0, 4373.0, 3204.0, 12328.0, 2375.0, 4872.0, 4175.0, 5490.0, 7315.0, 2697.0, 2265.0, 898.201958035832, 359.78113921922284, 240.04056064134068, 219.88608054156816, 184.4136613512866, 150.14396051001145, 134.18972624643496, 131.56277171905288, 124.29494684494844, 120.97109353269677, 116.80231232565308, 111.14577572013242, 109.45635598926762, 108.67764061843098, 108.01342913716178, 106.35034393287015, 105.60687236675251, 100.4805746136456, 99.2573957055192, 93.36899556376125, 89.2285496232966, 86.79301632348589, 83.5609319962049, 79.22605516798909, 78.9686522710784, 78.49948728986986, 65.1662566346836, 63.8510436862866, 63.789897138628184, 61.0411069500759, 3691.633307412364, 241.87607714348974, 270.066589328087, 257.71241309962556, 547.5544876492767, 409.8621582163893, 499.31945056352083, 579.0119688586934, 599.9780140861513, 171.4437531109293, 2186.002784712576, 3626.7272495804964, 272.30090290440006, 856.7802785868615, 1641.6842631681989, 771.7213993883889, 1022.1226638976289, 2689.7053949197543, 398.5412872494276, 251.13652791123084, 1421.532682717816, 3558.27362321307, 424.43253875905924, 1105.1987926499296, 498.22140340747177, 754.6770097765643, 4348.65170085187, 5723.413306756611, 925.6885688455392, 1185.272443366052, 3302.4976528336683, 1413.4050954022946, 973.5620021008301, 944.0217770279908, 912.7026375847928, 1950.358841683992, 1345.481716437453, 2637.908869620108, 6306.651522521406, 2485.5002253265143, 1706.1996123876354, 1283.1881804443785, 2785.3395359763294, 1556.2821459064949, 3184.4051539100337, 2038.867065053974, 1595.7900918893258, 1547.3777926591172, 1656.5160053369366, 2150.8961931372164, 1520.5008432399206, 2146.599903230567, 2157.1385019555705, 1633.3057796358714, 1546.461898345313, 2210.905670659302, 1593.3347563935595, 1506.3897778815071, 3203.649059679469, 2696.648078109183, 928.4340759250493, 789.627812607805, 750.2979494306387, 679.1601780116748, 659.426925267315, 639.1726178148587, 571.8871928199005, 503.4662712125965, 499.78445359607997, 492.10537495234956, 488.1165855491197, 486.2566155868975, 418.4763979181931, 400.8609265871207, 245.76126361112614, 243.89949965794264, 216.68612685077014, 208.82221730494237, 202.10823104877431, 188.19145829083357, 157.47769766137776, 156.32110919696595, 145.5822668442833, 131.1373257057536, 104.70533562839688, 95.44852914208677, 92.88666021625134, 442.68954509144186, 5366.068954730867, 3519.1476854319258, 666.098329154693, 4004.756720114872, 2796.6425429724222, 1869.517781450637, 1440.603744787203, 2201.0259825418398, 860.7957330415353, 396.7025302884234, 3311.5737619210217, 1911.948259005937, 1021.77941228868, 8380.594490607207, 1037.0429863860138, 3456.657398944225, 2525.0386900643534, 1179.350223064258, 1186.8066474964567, 1770.4358599897184, 1381.5806448307305, 1368.1760440339738, 5338.513253565118, 1329.8362645351224, 1044.692563845047, 3596.007839519734, 1065.563655356619, 2887.8976805337957, 1101.2965666563553, 1774.7571855508604, 2048.3497771057073, 1551.402520214942, 1418.076101955189, 1136.8973206219414, 1609.3902880544085, 1305.238057135261, 1266.2101824365823, 1192.6811705654366, 840.5523483749287, 398.1465211409361, 352.50972674952465, 278.6667694314581, 268.4611724628691, 253.59108260222933, 216.96618240004932, 184.76828479163163, 182.62751775742203, 163.94442375260766, 145.8074905814346, 139.7021755172197, 128.52239801299228, 124.50423903165724, 112.89227820965444, 111.57583672855417, 104.39683657584979, 103.37554267519452, 103.03987314400692, 99.31306171068833, 99.07866773511935, 78.36123692533235, 77.98270560861977, 74.04960167411113, 73.18985020140178, 72.87559103811017, 72.5193262694395, 72.25368171854385, 70.16514167323635, 68.87491337879591, 14039.375749308367, 600.1363535142883, 3564.474329455301, 114.43330864437844, 1492.282117483334, 148.53126938104617, 2636.234684630478, 270.2538494895275, 787.4275197121104, 404.73920209260626, 365.06355610302825, 284.8929114527063, 11887.236297061692, 1601.93416433795, 477.57057670400167, 558.4697485590492, 1786.0683480393072, 419.90283272985556, 2417.570309960697, 2597.4317559649976, 9208.399214304962, 2870.09731245519, 1119.277783739126, 879.9608427019843, 2770.577559474477, 1653.4104357225108, 2611.619481977821, 801.2352424820804, 2070.267988143708, 633.1586822322718, 1342.3919494687452, 713.3952410253356, 2482.9184824406875, 1982.6818382359859, 2980.0274653867987, 1087.3801238780484, 1428.527988236145, 1430.6307666745643, 1657.430025580254, 2209.7963590913027, 1752.5867783652377, 1541.6150767502377, 1161.0006385571037, 1262.7242226904473, 1249.8389226070199, 1302.3568480491383, 1293.0927633664157, 878.6573124305793, 844.8319183054605, 285.51652582108096, 260.70956957956764, 239.24696151758198, 237.91511738738717, 205.58449460735878, 185.82723273055845, 184.99763622387727, 167.3718305257862, 139.36594913701006, 126.10209512939679, 121.9796772877895, 121.15310148474124, 137.68311514311006, 110.4000324891512, 101.5260319345198, 99.78249769603826, 96.68790606241252, 86.08474345921621, 83.12291969947741, 79.08256960604452, 74.85670061422978, 69.94932908594784, 68.53367632837966, 65.09297167757187, 63.081286397907945, 62.76945439234951, 2728.1344318510314, 188.58406995192325, 502.48845308538324, 177.21787761105125, 897.1828744518361, 415.3183549124185, 315.90973288471486, 243.45042960719258, 465.42550060338056, 333.01429232328525, 329.81298240999644, 571.854937405359, 792.3636316706061, 1149.0974110291131, 987.7693248398733, 1393.36028272604, 592.9166821968159, 1051.6118643247676, 312.37064471150484, 820.3584318465814, 1774.7796337353373, 2122.6615431679343, 690.6104348736706, 1095.3265969877432, 876.2148032698801, 704.9135619661901, 1242.2877079487275, 545.8310986545438, 3275.885807703463, 1177.2987001460588, 634.0494445818927, 708.4702338142317, 571.3622129475092, 733.4039483192465, 2247.6339666815993, 1468.0171955918322, 1794.8323999196382, 1023.1748331369326, 878.6350546143367, 1614.9089893536611, 1060.9857118384464, 1326.8307796643423, 861.8246799127324, 864.8567032350563, 783.9653124459587, 897.8555221593953, 851.2116170424792, 620.6375185044149, 482.5752296766922, 469.49154486703725, 432.71000971618764, 314.4550153732252, 261.575495850117, 259.40201946789773, 259.3964667462234, 237.68974263458438, 221.5735968743082, 213.3255350144518, 209.82455933780784, 200.67763148315942, 194.91942842887696, 183.79860005307128, 182.90988848299855, 169.09655763852683, 166.10732201850834, 162.49921869497655, 160.24160784208428, 157.17081470509808, 153.07218517597832, 147.99885358588477, 146.2982482085707, 142.09193882819773, 138.20296288980865, 132.91661846576156, 132.29400804377164, 640.5180414236313, 584.8155918285514, 724.4290533967064, 1433.1939096281974, 209.95500228012375, 1346.8584750668483, 1820.5623268672273, 899.3570271849619, 5145.181108893376, 1156.40048977417, 2160.6512517647643, 928.4742725242451, 300.81366551055567, 671.1637270903046, 516.9197335729245, 346.5600544655728, 627.326860830845, 628.1067574629134, 614.445282818927, 407.6576020666636, 701.5086454459561, 618.0305616953555, 346.3638685257539, 372.08723515726075, 511.6391872947142, 444.5114146333402, 694.7534680879619, 424.41289370187144, 697.054810458792, 782.0664270881524, 648.5506515469203, 663.6202473226799, 615.8317452683683, 526.9697303111461, 498.6868350899639, 1499.458229172997, 889.7710163686542, 485.94256946917955, 205.82894745216436, 160.29429104805035, 143.7774225099549, 128.2998114404405, 123.52980419649278, 122.89957713328621, 118.55828047349765, 117.17939645474137, 110.40565670256383, 102.66270471504384, 100.5137619682688, 97.10214840255887, 95.34979107674678, 90.68868869864642, 83.36781972221287, 82.50705101061932, 74.82111978124176, 66.98676017087618, 61.99304139204761, 60.57214148559448, 60.36087493512518, 56.50595662180062, 53.929254105679064, 53.78886545467483, 53.75421416218354, 49.75239777336822, 49.15522418367788, 2244.072567688812, 1138.284167434619, 1267.301253315669, 255.607062234459, 612.3452184261296, 1688.6870752211598, 1071.0074368765045, 422.3668827561907, 98.11028215786476, 358.37900375661616, 179.50044645265595, 860.9705768922319, 2342.732803384755, 5748.410404088769, 223.1344296724329, 656.2373056716137, 200.5525216110863, 2026.04814313463, 1887.949954378922, 1421.9374535802765, 708.2734537285947, 4046.661721358634, 1122.2454856076786, 1050.1499130566597, 710.2688820790527, 887.1958722886455, 916.6795481606097, 665.1218543078442, 912.5993036150597, 1119.6392853278728, 2029.1008325477544, 1200.4765930050394, 1740.5514689905658, 847.5179313197217, 720.9388021317493, 814.4180535397595, 771.0859230793172, 737.8592099790233, 759.1777158254253, 5405.700860170559, 4345.83434650714, 664.9180910294867, 589.9971378790054, 446.5158504993904, 437.7413622006839, 145.11659767764408, 112.81772405675461, 102.7464927099642, 85.85578603869679, 85.43941944311635, 85.34515942139012, 85.15843575461575, 76.93206230721502, 69.90075070321905, 68.31379593250402, 64.97928088900392, 63.39272414927296, 58.98168717412225, 54.93528324112319, 52.72007322281084, 51.68573733822128, 47.46708549686829, 44.69073034977183, 43.95859425258347, 43.42615448990011, 39.68351104473975, 37.800046758520715, 36.4259259634097, 36.25672351580886, 2212.006329768605, 1858.8105613010725, 257.026475906745, 2994.31720725618, 4229.55835119434, 634.7564762010305, 199.31696907919005, 294.88366367910305, 551.1227505033718, 840.796796122046, 97.81047905308135, 840.7060450576793, 469.54366074545413, 1008.0008977438996, 548.9513029443074, 701.7665425942304, 1029.187961331659, 451.3699849930514, 1144.4271487779686, 353.15956859698184, 1547.9299276274207, 517.1425102097971, 498.5650215495614, 638.1802549299568, 481.1316415295203, 1005.7161998953693, 608.4581501039045, 1416.5096494329339, 605.9612807918686, 740.2348126721232, 999.7729688333111, 645.6047897227098, 630.5091085190771, 533.080508771707, 637.0312842639772, 634.3049583919393, 556.3354828622581, 500.60930988216495, 487.8775498102677, 372.2068559654528, 334.83847254461216, 295.02996926728827, 282.7743683293678, 279.8448664780393, 270.8849742679323, 262.401258209641, 252.2564138730577, 197.1607688441073, 195.5504898686145, 192.1721254969939, 173.27327076598806, 169.8631000533595, 169.84773294478262, 154.79722424383328, 147.2741992302618, 126.87567296805483, 115.79808938723627, 114.94145391881031, 113.30753716500823, 113.23004643532406, 104.15821938948675, 103.95312890331371, 103.68553189465688, 94.30237199404692, 375.7008565527765, 368.35541268870634, 229.84572385950273, 2537.0676260161385, 338.2807729371888, 129.05884898306738, 1142.3937786734664, 488.7335130740549, 191.17523750881566, 578.0205662584256, 634.9728064639116, 201.2020290965642, 267.7038126141288, 336.2925107406539, 522.4425505842795, 402.5936028834155, 852.1632484197835, 927.9601585570409, 1294.812351495124, 606.3626878972325, 491.92010341848516, 1275.1577005004233, 822.687602563824, 536.7295028869704, 923.1663013946129, 463.15229755604366, 510.4729854835243, 500.5084962041921, 502.479944775839, 513.1154474451893, 419.280274692909, 1119.3648969794936, 519.7457749829639, 441.69199837944535, 400.8491839750719, 361.27975517050953, 303.51321528602136, 251.21567372734108, 236.73504120689864, 233.9697268874712, 230.91487464900257, 199.35581810443125, 179.5436676028352, 159.40096919095635, 148.25068009874025, 145.7974153695868, 142.1404797192092, 138.47148094992312, 128.85413056856493, 118.2304208352042, 117.40988656443766, 113.39313321812737, 112.75408776405612, 103.7617245748672, 103.26947782116542, 100.31034631590964, 89.82498763989689, 86.36553654801776, 83.73472139137287, 81.64995841985203, 81.55043192254756, 280.48619746483274, 174.5769032783149, 152.56551703437017, 976.6129462969494, 1690.5126595672928, 422.18508169061374, 238.0637603100778, 1485.7122692229507, 394.76028434183536, 273.81974429915033, 422.934009933366, 183.92918795700265, 345.5099373629667, 308.9431641657258, 507.05219088851334, 316.4536435459765, 227.66848868316052, 325.71073799190054, 403.04840818480216, 262.2185067599355, 301.8235482903005, 292.90747337222035, 228.4254666935974, 629.8994287404074, 452.73871804978387, 247.09800544854545, 176.07888311243494, 167.8298745201718, 151.39769706054028, 138.89636851548596, 127.26170256870502, 125.3057521666688, 123.00149978796601, 117.32053370089629, 114.77365581253437, 106.24296980147888, 94.7511175833502, 82.37518982424939, 79.26484497930566, 69.44884834718717, 66.47620287972167, 66.31710602287959, 64.52261560116216, 62.841727597091186, 62.34021932319781, 60.08902941599288, 59.674016636069766, 56.659425726892806, 53.38637896812428, 52.92408646959064, 51.637257929798075, 51.30300101364907, 50.59801832141954, 213.14716570044624, 523.5777082802944, 150.45127473265907, 466.2180778553548, 110.21389694523948, 101.28592158033614, 186.09174776660072, 137.82291536392466, 161.04741690773508, 158.0678286869895, 173.2753907133949, 343.2267463979692, 227.56818708879203, 366.43548228588395, 170.6379551735535, 294.71709963866357, 117.75696983379798, 121.40972051295086, 225.97061212408218, 253.89781563191332, 134.8829913945271, 152.53689506707568, 141.37700132565607, 127.84264283975325, 128.88507352727916, 127.87262173466208, 399.458882206711, 239.6328082735645, 198.41690639188144, 190.87719047423892, 173.67792529312547, 133.83717549058971, 131.8363714317, 108.55753783486375, 101.40528489883889, 97.41878540046842, 90.29309782433124, 89.45581534191767, 81.25265187049094, 80.89043627741768, 76.76255003031166, 76.30774008593995, 75.02320540107621, 74.82555775062501, 74.09796206036785, 70.24353427368708, 66.8192319264281, 64.94631227443956, 62.13107743418693, 59.95582064760065, 59.276571166565446, 59.0948833253491, 58.22893496621951, 57.11307315555737, 54.76974756496849, 54.52203416455842, 212.21005311161252, 354.96735475549696, 216.55547327469807, 115.97855395840348, 105.85905328943535, 131.75944858340506, 212.7010386235832, 151.35121616085294, 91.43358922447065, 119.72470902634822, 184.51953010508717, 92.44228349028356, 138.70311196105598, 240.26397925830688, 96.65830220653635, 123.53823165034923, 146.67267874075716, 109.23752867477954, 102.69375976886427, 101.127110572201], \"Total\": [15216.0, 17793.0, 15843.0, 5406.0, 15405.0, 5236.0, 4346.0, 13090.0, 11983.0, 5517.0, 3561.0, 3034.0, 3386.0, 3404.0, 18274.0, 4411.0, 3625.0, 3890.0, 2499.0, 2851.0, 4373.0, 3204.0, 12328.0, 2375.0, 4872.0, 4175.0, 5490.0, 7315.0, 2697.0, 2265.0, 899.0710666583271, 360.65022909961016, 240.90963803586783, 220.75519826808937, 185.28274204287786, 151.0130550299459, 135.05882007559484, 132.43183605251284, 125.1640472467921, 121.84019727252843, 117.6714105524706, 112.01484635616458, 110.32545336853381, 109.54673006097997, 108.88262079445873, 107.21940804525546, 106.47596949695529, 101.34964415164701, 100.1265438988331, 94.24277770764458, 90.09765174634015, 87.66212804825138, 84.43005600024951, 80.09513190742085, 79.83775744719652, 79.36855243561868, 66.03534318331067, 64.72011100883552, 64.65896908084763, 61.91020406403775, 4006.426967533644, 250.63309638125924, 281.03009991199843, 268.25115116719576, 586.9093798257895, 436.6679551644207, 540.7258633050917, 631.1155209494519, 660.5568838375594, 178.55338871124314, 2698.50192884123, 4754.423757062621, 294.7687752024072, 1015.4314295942252, 2073.989581999026, 922.1120011178265, 1282.2552347907088, 3717.250402022998, 456.81719492534177, 275.14023292447683, 1893.626685262882, 5336.123981163171, 495.4843306473337, 1459.8608840556167, 596.461468430433, 962.4308145557142, 7315.775469092306, 10255.86427129211, 1238.732354120087, 1665.2202790319056, 5669.231695632031, 2147.4309970390027, 1384.1798898458512, 1338.8551402308237, 1293.7534201819979, 3393.924335436137, 2181.352303059306, 5426.844904436207, 18274.460156995407, 5222.939176257861, 3301.6354936626926, 2192.1777074848264, 7550.548000295417, 3359.191860264697, 12328.696542415752, 5490.93565429431, 3526.4444428105076, 3561.4372307989647, 4166.051803049866, 7352.121695653343, 3616.453148184145, 10548.051591439185, 13090.113261555112, 5274.450140104929, 4479.075868838115, 17793.092066435758, 6696.245155859027, 4501.649542510136, 3204.525115550055, 2697.5241152204144, 929.3101197610541, 790.5038350038311, 751.1739693977745, 680.0362013707581, 660.3029544761831, 640.0487269731467, 572.7632251240815, 504.34229460090484, 500.6604963103474, 492.98140959948574, 488.99262151399097, 487.1326441939987, 419.35271575987605, 401.7369631061973, 246.63731019141323, 244.775528847163, 217.56217574165686, 209.69825753635504, 202.98429049405624, 189.06751369412044, 158.3537458131983, 157.19714833665324, 146.45831364917296, 132.01334671005088, 105.61756270278761, 96.32456030535027, 93.76270864866864, 447.04565174792486, 5517.877151354917, 3625.042020328938, 687.3368439599353, 4411.633872047594, 3069.9657745040763, 2105.7293107758883, 1624.3199487316044, 2722.891428192807, 985.0721135717309, 424.2071772637559, 4373.353072018218, 2435.2989415902925, 1220.4614828056317, 13090.113261555112, 1300.0473502491957, 6696.245155859027, 4479.075868838115, 1665.3946483772006, 1680.2153244288725, 2997.413752212769, 2125.461510342631, 2137.455780532467, 18274.460156995407, 2162.542364706797, 1449.3720223451917, 11983.95188964483, 1522.5790734645327, 10548.051591439185, 1634.513784693623, 7550.548000295417, 12328.696542415752, 5508.670365028972, 4740.957714272943, 2166.8721273129227, 15405.945311690999, 5939.99691845052, 5030.637557535542, 6860.108866799648, 841.4256575033966, 399.0198483535797, 353.38304290506005, 279.54010684285424, 269.33450205844133, 254.46443618148567, 217.8395192435762, 185.64164091298295, 183.50085380406446, 164.81778007248585, 146.68085666286498, 140.57549272531534, 129.3957550533214, 125.37774039231432, 113.76573222882571, 112.44914958993735, 105.27016825442539, 104.24887941000591, 103.91319188642605, 100.18641085710885, 99.9519949164366, 79.23462616232737, 78.85611317243136, 74.92320569888057, 74.06316318193251, 73.7510856537131, 73.39267965923928, 73.12702913216216, 71.03847426467021, 69.74826586023615, 15216.159324948776, 627.8098085784861, 3890.033695123408, 116.51993870425432, 1618.1303352532377, 152.91445786651673, 2996.032144237961, 286.5277517870462, 873.5397812632159, 438.76310175506285, 394.07514815317785, 303.65790564002816, 15843.915488080194, 1944.0026837244775, 538.2050839477121, 643.7844880072263, 2295.8814296557066, 481.26284153628586, 3371.4298448888667, 3967.7252378935145, 17793.092066435758, 4872.30054540953, 1675.2383124464798, 1254.1957078938913, 5176.47522708928, 2780.0828815000577, 5030.637557535542, 1187.8720877974963, 4501.649542510136, 918.3085452000655, 3034.3431897181163, 1202.9369941675704, 10548.051591439185, 7352.121695653343, 15405.945311690999, 2590.0812041345484, 4740.957714272943, 4861.45158641678, 6860.108866799648, 13090.113261555112, 10255.86427129211, 12328.696542415752, 4969.376983228209, 7315.775469092306, 7550.548000295417, 1303.2325867030054, 1294.049017121373, 879.5330731559916, 845.7076530756627, 286.3922736870909, 261.5853061790443, 240.12283245645474, 238.7908444928424, 206.4602860098745, 186.7029510260915, 185.873466482631, 168.24758105416896, 140.2416823631409, 126.97782947423896, 122.85539088609141, 122.02882517981085, 138.72096954409236, 111.27578242624872, 102.40175794506872, 100.65869680731805, 97.56363653941075, 86.96049849110577, 83.99863528570621, 79.95830736389914, 75.73246184236406, 70.82506727742424, 69.40949693187426, 65.96882947387843, 63.957050956399335, 63.645214162637096, 2851.722251202303, 193.04291142096704, 524.9163100226281, 183.28496085879314, 987.7743043091989, 446.65423377661796, 336.57208477529264, 261.4705469760345, 525.2272824929696, 370.22121205527156, 367.57471161920813, 669.3425399403553, 959.2801744036918, 1485.8471514149603, 1351.5680626518267, 2108.7568377746243, 777.8611567044971, 1560.50565437643, 371.1518354538994, 1300.0745498923807, 4043.7611949573034, 5274.450140104929, 1150.1261202436376, 2246.122691772314, 1633.765065122648, 1246.3408738914088, 3018.7206563671357, 914.8868593154872, 18274.460156995407, 3301.6354936626926, 1179.7448392174053, 1467.7090008047576, 996.9915192282813, 1617.3143911397965, 15405.945311690999, 7315.775469092306, 11983.95188964483, 3393.924335436137, 2540.681412198979, 12328.696542415752, 4373.353072018218, 17793.092066435758, 5030.637557535542, 6860.108866799648, 3359.191860264697, 898.7296559742621, 852.0857328673701, 621.5116449645998, 483.4493388148782, 470.3656687539127, 433.58413110823267, 315.32912876932056, 262.4496014389382, 260.27615081000374, 260.2705850466598, 238.56387565111706, 222.4477200989204, 214.19965994525108, 210.69871186051762, 201.55178741036798, 195.7935595956209, 184.672750087774, 183.7840078809034, 169.97065906952918, 166.98144879277308, 163.3733180576831, 161.11575489655996, 158.04493283096724, 153.94631611012719, 148.87296612276498, 147.17235695780428, 142.9660664021755, 139.07709596461518, 133.79073379703436, 133.1681202866504, 682.0683373717453, 661.4454099683409, 853.8236161776764, 2025.2198606893633, 223.11024763026225, 1956.1015590879201, 2837.758899876278, 1340.1791318327382, 11983.95188964483, 1896.7148448087055, 4288.558584359811, 1483.291402909011, 354.3102288917274, 1028.1360307401399, 756.3064904394216, 445.60038131726293, 1072.4648002768033, 1083.000337969251, 1083.5998326404242, 604.0021085242088, 1639.192022329431, 1344.1732746823507, 477.51829403982333, 559.2769709167675, 1211.4660804541031, 877.8180355103281, 2997.413752212769, 794.4928436863823, 3386.490842871982, 5231.9136484884475, 2936.500261458195, 4175.652333183831, 5222.939176257861, 5490.93565429431, 5939.99691845052, 1500.3255221885122, 890.6383257626107, 486.8098714775427, 206.69626751313945, 161.16157371265888, 144.64473529878026, 129.16709342896596, 124.39708886212257, 123.76685694790824, 119.4255689813286, 118.04667831449983, 111.27293060379621, 103.52999011950659, 101.38104972958128, 97.96942192985932, 96.21708538869886, 91.55596532568354, 84.23510602525299, 83.3744057451396, 75.68839409589529, 67.85407871461366, 62.86031387613441, 61.43944146868214, 61.22816935256973, 57.37322662940981, 54.796565508459246, 54.65613800431236, 54.62153335401099, 50.61967309763086, 50.022496375723975, 2375.804835974472, 1247.8236075961072, 1426.5664054114272, 275.37671401809695, 711.9870409495657, 2265.5953730213737, 1442.8239770400494, 524.0039807852968, 104.43343034684244, 444.31479732449066, 208.92111662715683, 1276.7278217432256, 4175.652333183831, 15405.945311690999, 281.85888874897506, 1244.2112756179602, 258.44076842124997, 5939.99691845052, 5490.93565429431, 3848.1028328244274, 1487.2949843997287, 17793.092066435758, 3030.5017040749954, 2897.7895227469376, 1633.765065122648, 2313.8579031562904, 2459.285945205591, 1639.192022329431, 2776.946134166984, 4123.49210383674, 12328.696542415752, 4861.45158641678, 10548.051591439185, 3364.9733874355443, 2725.279464702054, 5669.231695632031, 7550.548000295417, 4740.957714272943, 6860.108866799648, 5406.569848767988, 4346.70333593233, 665.7870773364783, 590.8661188327455, 447.38482220323397, 438.6103549225952, 145.9856110753951, 113.6867268500726, 103.6154940331963, 86.72489628190233, 86.30846753817455, 86.21414933121794, 86.02748884483547, 77.80107998206395, 70.76976578415265, 69.18276361222321, 65.84840164422873, 64.26195904794474, 59.85075017441787, 55.804364437491714, 53.58915990172546, 52.554728366880106, 48.33605094043642, 45.55977441192847, 44.827584996540686, 44.29518935579732, 40.5524994182594, 38.669046967891596, 37.2949000375373, 37.125737237383326, 2499.4711896079343, 2093.8701706298557, 276.9065385803062, 3561.6744419832708, 5236.946457890718, 752.087268670341, 224.42258102124904, 348.52072829338823, 729.7452647401457, 1191.8475841349602, 107.15509167610007, 1280.5774776731191, 674.7093512263821, 1926.743664658828, 920.3436848701317, 1308.0634950620233, 2166.8721273129227, 823.2943501152674, 3364.9733874355443, 649.8026756015018, 5508.670365028972, 1231.7159530415086, 1215.6393952207097, 1896.7148448087055, 1256.0073605431728, 4872.30054540953, 1956.1015590879201, 18274.460156995407, 2780.0828815000577, 5426.844904436207, 17793.092066435758, 10255.86427129211, 15405.945311690999, 12328.696542415752, 637.9046217430866, 635.2170523759276, 557.2088356372424, 501.48266600961665, 488.7509116026767, 373.08020613310384, 335.7118042778408, 295.90330788855914, 283.6477258631111, 280.7182092238402, 271.7583065419108, 263.27459607479483, 253.12974668891462, 198.03411429962892, 196.42384030296265, 193.04546487229052, 174.14662248716957, 170.73644929091867, 170.72107860592507, 155.6705877864714, 148.14752706373156, 127.7490584037501, 116.67142989553463, 115.8148136312482, 114.18090348665517, 114.10346227897062, 105.03158080751024, 104.82651529877066, 104.55890435180659, 95.17571588722303, 406.40481714434037, 402.6795722828989, 244.3123236574893, 3386.490842871982, 387.941313566639, 133.08984211619904, 1790.7834667518614, 701.5504062430409, 224.11325635150206, 1047.4711833583222, 1239.8666756713817, 243.07862835381147, 393.61729075797, 580.8345007356668, 1306.2961474744923, 817.519871418729, 3404.9114994254887, 4674.097095579432, 12328.696542415752, 2397.9755053354115, 1580.6665654418218, 15405.945311690999, 7352.121695653343, 2246.122691772314, 18274.460156995407, 2616.0326944415806, 4861.45158641678, 4740.957714272943, 5231.9136484884475, 6860.108866799648, 10548.051591439185, 1120.232885220016, 520.6137611657277, 442.5599781006171, 401.71716732285586, 362.1477398842052, 304.3811990541431, 252.08370141170687, 237.60300816476675, 234.83768782256075, 231.78286465576988, 200.22379819862724, 180.4116306284124, 160.2689534894999, 149.11864975071933, 146.66539976705695, 143.00848094381627, 139.33944293681247, 129.72212410256765, 119.09841905355023, 118.27785522981667, 114.26426035483776, 113.62204570558049, 104.62973033453352, 104.13748034135234, 101.1783247917218, 90.69295897001027, 87.23352960942219, 84.60271832571414, 82.51797335362781, 82.41840581779097, 328.3656504517221, 194.66707663998938, 167.79542585772003, 1556.3951632398398, 3034.3431897181163, 589.9311280575225, 296.43672221502135, 3404.9114994254887, 595.6108502903957, 410.45991104701267, 934.7030465355207, 245.49274718985745, 817.519871418729, 766.0895885393355, 2397.9755053354115, 1047.4711833583222, 461.5271819275354, 1211.4660804541031, 6860.108866799648, 1300.0473502491957, 4674.097095579432, 7352.121695653343, 5939.99691845052, 630.7671880280869, 453.6064683980724, 247.96576203244356, 176.94665695892286, 168.69887537435946, 152.26545481810115, 139.7641143958155, 128.1294576272203, 126.17353599823504, 123.86927594145318, 118.18829835627284, 115.64142152738015, 107.1107268302186, 95.61888192370617, 83.24292109724206, 80.13261884186453, 70.31658836512243, 67.34398815012185, 67.18486610660169, 65.39036243225874, 63.70949096885508, 63.207980416448244, 60.95683146663114, 60.54177543122837, 57.52717884990524, 54.25414337482313, 53.791842038490486, 52.50498845068855, 52.170730661872156, 51.465761684249564, 219.3418643775404, 635.1451433406594, 171.36928680292812, 612.430403347592, 133.65465319055278, 122.01519711899455, 277.96329164347674, 186.91113045761503, 246.94289446608386, 247.12695899752276, 293.4673643774246, 884.666874688983, 488.9181598731339, 1416.0061991471966, 389.39177614053386, 1280.5774776731191, 184.4990712411202, 203.98738181260606, 1837.1184622934375, 3301.6354936626926, 347.9855917494724, 3393.924335436137, 3121.582096456722, 536.7335588805499, 1044.7290382669582, 2569.339487793668, 400.3270250210986, 240.50092824668755, 199.2850249021192, 191.7453673989329, 174.54605024099646, 134.7052973977526, 132.70452211903833, 109.42567917166676, 102.27343608688648, 98.28695483603754, 91.16126680257791, 90.32396455504575, 82.12078046545285, 81.75857536319127, 77.63068445791977, 77.17588359902845, 75.89135644771908, 75.693726407609, 74.96610431419363, 71.11169366347907, 67.68737787076165, 65.81445970714597, 62.99920806472843, 60.82398438903586, 60.1447585440391, 59.96302814173837, 59.0971178584976, 57.98120255734475, 55.63788766591403, 55.39016561241579, 242.1335827552454, 429.5195158323511, 251.7608848468828, 132.46845591767453, 123.1383532002473, 184.81177231881472, 415.13386076314714, 256.4384954838354, 116.31895113644836, 184.28508574700703, 474.8010112158088, 134.61431412243456, 425.2652072136042, 3848.1028328244274, 179.56326928405514, 506.90534191505776, 1057.6053358494191, 317.64157018743634, 255.36382795476516, 270.7521333793063], \"Category\": [\"Default\", \"Default\", \"Default\", \"Default\", \"Default\", \"Default\", \"Default\", \"Default\", \"Default\", \"Default\", \"Default\", \"Default\", \"Default\", \"Default\", \"Default\", \"Default\", \"Default\", \"Default\", \"Default\", \"Default\", \"Default\", \"Default\", \"Default\", \"Default\", \"Default\", \"Default\", \"Default\", \"Default\", \"Default\", \"Default\", \"Topic1\", \"Topic1\", \"Topic1\", \"Topic1\", \"Topic1\", \"Topic1\", \"Topic1\", \"Topic1\", \"Topic1\", \"Topic1\", \"Topic1\", \"Topic1\", \"Topic1\", \"Topic1\", \"Topic1\", \"Topic1\", \"Topic1\", \"Topic1\", \"Topic1\", \"Topic1\", \"Topic1\", \"Topic1\", \"Topic1\", \"Topic1\", \"Topic1\", \"Topic1\", \"Topic1\", \"Topic1\", \"Topic1\", \"Topic1\", \"Topic1\", \"Topic1\", \"Topic1\", \"Topic1\", \"Topic1\", \"Topic1\", \"Topic1\", \"Topic1\", \"Topic1\", \"Topic1\", \"Topic1\", \"Topic1\", \"Topic1\", \"Topic1\", \"Topic1\", \"Topic1\", \"Topic1\", \"Topic1\", \"Topic1\", \"Topic1\", \"Topic1\", \"Topic1\", \"Topic1\", \"Topic1\", \"Topic1\", \"Topic1\", \"Topic1\", \"Topic1\", \"Topic1\", \"Topic1\", \"Topic1\", \"Topic1\", \"Topic1\", \"Topic1\", \"Topic1\", \"Topic1\", \"Topic1\", \"Topic1\", \"Topic1\", \"Topic1\", \"Topic1\", \"Topic1\", \"Topic1\", \"Topic1\", \"Topic1\", \"Topic1\", \"Topic1\", \"Topic1\", \"Topic1\", \"Topic1\", \"Topic1\", \"Topic1\", \"Topic1\", \"Topic1\", \"Topic1\", \"Topic1\", \"Topic1\", \"Topic1\", \"Topic2\", \"Topic2\", \"Topic2\", \"Topic2\", \"Topic2\", \"Topic2\", \"Topic2\", \"Topic2\", \"Topic2\", \"Topic2\", \"Topic2\", \"Topic2\", \"Topic2\", \"Topic2\", \"Topic2\", \"Topic2\", \"Topic2\", \"Topic2\", \"Topic2\", \"Topic2\", \"Topic2\", \"Topic2\", \"Topic2\", \"Topic2\", \"Topic2\", \"Topic2\", \"Topic2\", \"Topic2\", \"Topic2\", \"Topic2\", \"Topic2\", \"Topic2\", \"Topic2\", \"Topic2\", \"Topic2\", \"Topic2\", \"Topic2\", \"Topic2\", \"Topic2\", \"Topic2\", \"Topic2\", \"Topic2\", \"Topic2\", \"Topic2\", \"Topic2\", \"Topic2\", \"Topic2\", \"Topic2\", \"Topic2\", \"Topic2\", \"Topic2\", \"Topic2\", \"Topic2\", \"Topic2\", \"Topic2\", \"Topic2\", \"Topic2\", \"Topic2\", \"Topic2\", \"Topic2\", \"Topic2\", \"Topic2\", \"Topic2\", \"Topic2\", \"Topic2\", \"Topic2\", \"Topic2\", \"Topic2\", \"Topic3\", \"Topic3\", \"Topic3\", \"Topic3\", \"Topic3\", \"Topic3\", \"Topic3\", \"Topic3\", \"Topic3\", \"Topic3\", \"Topic3\", \"Topic3\", \"Topic3\", \"Topic3\", \"Topic3\", \"Topic3\", \"Topic3\", \"Topic3\", \"Topic3\", \"Topic3\", \"Topic3\", \"Topic3\", \"Topic3\", \"Topic3\", \"Topic3\", \"Topic3\", \"Topic3\", \"Topic3\", \"Topic3\", \"Topic3\", \"Topic3\", \"Topic3\", \"Topic3\", \"Topic3\", \"Topic3\", \"Topic3\", \"Topic3\", \"Topic3\", \"Topic3\", \"Topic3\", \"Topic3\", \"Topic3\", \"Topic3\", \"Topic3\", \"Topic3\", \"Topic3\", \"Topic3\", \"Topic3\", \"Topic3\", \"Topic3\", \"Topic3\", \"Topic3\", \"Topic3\", \"Topic3\", \"Topic3\", \"Topic3\", \"Topic3\", \"Topic3\", \"Topic3\", \"Topic3\", \"Topic3\", \"Topic3\", \"Topic3\", \"Topic3\", \"Topic3\", \"Topic3\", \"Topic3\", \"Topic3\", \"Topic3\", \"Topic3\", \"Topic3\", \"Topic3\", \"Topic3\", \"Topic3\", \"Topic3\", \"Topic4\", \"Topic4\", \"Topic4\", \"Topic4\", \"Topic4\", \"Topic4\", \"Topic4\", \"Topic4\", \"Topic4\", \"Topic4\", \"Topic4\", \"Topic4\", \"Topic4\", \"Topic4\", \"Topic4\", \"Topic4\", \"Topic4\", \"Topic4\", \"Topic4\", \"Topic4\", \"Topic4\", \"Topic4\", \"Topic4\", \"Topic4\", \"Topic4\", \"Topic4\", \"Topic4\", \"Topic4\", \"Topic4\", \"Topic4\", \"Topic4\", \"Topic4\", \"Topic4\", \"Topic4\", \"Topic4\", \"Topic4\", \"Topic4\", \"Topic4\", \"Topic4\", \"Topic4\", \"Topic4\", \"Topic4\", \"Topic4\", \"Topic4\", \"Topic4\", \"Topic4\", \"Topic4\", \"Topic4\", \"Topic4\", \"Topic4\", \"Topic4\", \"Topic4\", \"Topic4\", \"Topic4\", \"Topic4\", \"Topic4\", \"Topic4\", \"Topic4\", \"Topic4\", \"Topic4\", \"Topic4\", \"Topic4\", \"Topic4\", \"Topic4\", \"Topic4\", \"Topic4\", \"Topic4\", \"Topic4\", \"Topic4\", \"Topic4\", \"Topic4\", \"Topic4\", \"Topic4\", \"Topic4\", \"Topic4\", \"Topic5\", \"Topic5\", \"Topic5\", \"Topic5\", \"Topic5\", \"Topic5\", \"Topic5\", \"Topic5\", \"Topic5\", \"Topic5\", \"Topic5\", \"Topic5\", \"Topic5\", \"Topic5\", \"Topic5\", \"Topic5\", \"Topic5\", \"Topic5\", \"Topic5\", \"Topic5\", \"Topic5\", \"Topic5\", \"Topic5\", \"Topic5\", \"Topic5\", \"Topic5\", \"Topic5\", \"Topic5\", \"Topic5\", \"Topic5\", \"Topic5\", \"Topic5\", \"Topic5\", \"Topic5\", \"Topic5\", \"Topic5\", \"Topic5\", \"Topic5\", \"Topic5\", \"Topic5\", \"Topic5\", \"Topic5\", \"Topic5\", \"Topic5\", \"Topic5\", \"Topic5\", \"Topic5\", \"Topic5\", \"Topic5\", \"Topic5\", \"Topic5\", \"Topic5\", \"Topic5\", \"Topic5\", \"Topic5\", \"Topic5\", \"Topic5\", \"Topic5\", \"Topic5\", \"Topic5\", \"Topic5\", \"Topic5\", \"Topic5\", \"Topic5\", \"Topic5\", \"Topic6\", \"Topic6\", \"Topic6\", \"Topic6\", \"Topic6\", \"Topic6\", \"Topic6\", \"Topic6\", \"Topic6\", \"Topic6\", \"Topic6\", \"Topic6\", \"Topic6\", \"Topic6\", \"Topic6\", \"Topic6\", \"Topic6\", \"Topic6\", \"Topic6\", \"Topic6\", \"Topic6\", \"Topic6\", \"Topic6\", \"Topic6\", \"Topic6\", \"Topic6\", \"Topic6\", \"Topic6\", \"Topic6\", \"Topic6\", \"Topic6\", \"Topic6\", \"Topic6\", \"Topic6\", \"Topic6\", \"Topic6\", \"Topic6\", \"Topic6\", \"Topic6\", \"Topic6\", \"Topic6\", \"Topic6\", \"Topic6\", \"Topic6\", \"Topic6\", \"Topic6\", \"Topic6\", \"Topic6\", \"Topic6\", \"Topic6\", \"Topic6\", \"Topic6\", \"Topic6\", \"Topic6\", \"Topic6\", \"Topic6\", \"Topic6\", \"Topic6\", \"Topic6\", \"Topic6\", \"Topic6\", \"Topic6\", \"Topic6\", \"Topic6\", \"Topic6\", \"Topic6\", \"Topic6\", \"Topic6\", \"Topic6\", \"Topic7\", \"Topic7\", \"Topic7\", \"Topic7\", \"Topic7\", \"Topic7\", \"Topic7\", \"Topic7\", \"Topic7\", \"Topic7\", \"Topic7\", \"Topic7\", \"Topic7\", \"Topic7\", \"Topic7\", \"Topic7\", \"Topic7\", \"Topic7\", \"Topic7\", \"Topic7\", \"Topic7\", \"Topic7\", \"Topic7\", \"Topic7\", \"Topic7\", \"Topic7\", \"Topic7\", \"Topic7\", \"Topic7\", \"Topic7\", \"Topic7\", \"Topic7\", \"Topic7\", \"Topic7\", \"Topic7\", \"Topic7\", \"Topic7\", \"Topic7\", \"Topic7\", \"Topic7\", \"Topic7\", \"Topic7\", \"Topic7\", \"Topic7\", \"Topic7\", \"Topic7\", \"Topic7\", \"Topic7\", \"Topic7\", \"Topic7\", \"Topic7\", \"Topic7\", \"Topic7\", \"Topic7\", \"Topic7\", \"Topic7\", \"Topic7\", \"Topic7\", \"Topic7\", \"Topic7\", \"Topic7\", \"Topic7\", \"Topic7\", \"Topic7\", \"Topic8\", \"Topic8\", \"Topic8\", \"Topic8\", \"Topic8\", \"Topic8\", \"Topic8\", \"Topic8\", \"Topic8\", \"Topic8\", \"Topic8\", \"Topic8\", \"Topic8\", \"Topic8\", \"Topic8\", \"Topic8\", \"Topic8\", \"Topic8\", \"Topic8\", \"Topic8\", \"Topic8\", \"Topic8\", \"Topic8\", \"Topic8\", \"Topic8\", \"Topic8\", \"Topic8\", \"Topic8\", \"Topic8\", \"Topic8\", \"Topic8\", \"Topic8\", \"Topic8\", \"Topic8\", \"Topic8\", \"Topic8\", \"Topic8\", \"Topic8\", \"Topic8\", \"Topic8\", \"Topic8\", \"Topic8\", \"Topic8\", \"Topic8\", \"Topic8\", \"Topic8\", \"Topic8\", \"Topic8\", \"Topic8\", \"Topic8\", \"Topic8\", \"Topic8\", \"Topic8\", \"Topic8\", \"Topic8\", \"Topic8\", \"Topic8\", \"Topic8\", \"Topic8\", \"Topic8\", \"Topic8\", \"Topic9\", \"Topic9\", \"Topic9\", \"Topic9\", \"Topic9\", \"Topic9\", \"Topic9\", \"Topic9\", \"Topic9\", \"Topic9\", \"Topic9\", \"Topic9\", \"Topic9\", \"Topic9\", \"Topic9\", \"Topic9\", \"Topic9\", \"Topic9\", \"Topic9\", \"Topic9\", \"Topic9\", \"Topic9\", \"Topic9\", \"Topic9\", \"Topic9\", \"Topic9\", \"Topic9\", \"Topic9\", \"Topic9\", \"Topic9\", \"Topic9\", \"Topic9\", \"Topic9\", \"Topic9\", \"Topic9\", \"Topic9\", \"Topic9\", \"Topic9\", \"Topic9\", \"Topic9\", \"Topic9\", \"Topic9\", \"Topic9\", \"Topic9\", \"Topic9\", \"Topic9\", \"Topic9\", \"Topic9\", \"Topic9\", \"Topic9\", \"Topic9\", \"Topic9\", \"Topic9\", \"Topic10\", \"Topic10\", \"Topic10\", \"Topic10\", \"Topic10\", \"Topic10\", \"Topic10\", \"Topic10\", \"Topic10\", \"Topic10\", \"Topic10\", \"Topic10\", \"Topic10\", \"Topic10\", \"Topic10\", \"Topic10\", \"Topic10\", \"Topic10\", \"Topic10\", \"Topic10\", \"Topic10\", \"Topic10\", \"Topic10\", \"Topic10\", \"Topic10\", \"Topic10\", \"Topic10\", \"Topic10\", \"Topic10\", \"Topic10\", \"Topic10\", \"Topic10\", \"Topic10\", \"Topic10\", \"Topic10\", \"Topic10\", \"Topic10\", \"Topic10\", \"Topic10\", \"Topic10\", \"Topic10\", \"Topic10\", \"Topic10\", \"Topic10\", \"Topic10\", \"Topic10\", \"Topic10\", \"Topic10\", \"Topic10\", \"Topic10\", \"Topic10\", \"Topic10\", \"Topic10\", \"Topic10\", \"Topic10\", \"Topic10\", \"Topic11\", \"Topic11\", \"Topic11\", \"Topic11\", \"Topic11\", \"Topic11\", \"Topic11\", \"Topic11\", \"Topic11\", \"Topic11\", \"Topic11\", \"Topic11\", \"Topic11\", \"Topic11\", \"Topic11\", \"Topic11\", \"Topic11\", \"Topic11\", \"Topic11\", \"Topic11\", \"Topic11\", \"Topic11\", \"Topic11\", \"Topic11\", \"Topic11\", \"Topic11\", \"Topic11\", \"Topic11\", \"Topic11\", \"Topic11\", \"Topic11\", \"Topic11\", \"Topic11\", \"Topic11\", \"Topic11\", \"Topic11\", \"Topic11\", \"Topic11\", \"Topic11\", \"Topic11\", \"Topic11\", \"Topic11\", \"Topic11\", \"Topic11\", \"Topic11\", \"Topic11\", \"Topic11\", \"Topic11\", \"Topic11\", \"Topic11\"], \"logprob\": [30.0, 29.0, 28.0, 27.0, 26.0, 25.0, 24.0, 23.0, 22.0, 21.0, 20.0, 19.0, 18.0, 17.0, 16.0, 15.0, 14.0, 13.0, 12.0, 11.0, 10.0, 9.0, 8.0, 7.0, 6.0, 5.0, 4.0, 3.0, 2.0, 1.0, -5.7902, -6.7051, -7.1098, -7.1975, -7.3734, -7.579, -7.6913, -7.7111, -7.7679, -7.795, -7.8301, -7.8797, -7.8951, -7.9022, -7.9083, -7.9239, -7.9309, -7.9806, -7.9929, -8.054, -8.0994, -8.1271, -8.165, -8.2183, -8.2215, -8.2275, -8.4137, -8.434, -8.435, -8.479, -4.3768, -7.1022, -6.9919, -7.0387, -6.2851, -6.5748, -6.3773, -6.2293, -6.1937, -7.4463, -4.9008, -4.3945, -6.9837, -5.8374, -5.1871, -5.942, -5.661, -4.6934, -6.6028, -7.0646, -5.3311, -4.4136, -6.5398, -5.5828, -6.3795, -5.9643, -4.213, -3.9383, -5.7601, -5.5129, -4.4882, -5.3368, -5.7096, -5.7404, -5.7742, -5.0148, -5.3861, -4.7129, -3.8412, -4.7724, -5.1486, -5.4335, -4.6585, -5.2405, -4.5246, -4.9704, -5.2155, -5.2463, -5.1781, -4.917, -5.2638, -4.919, -4.9141, -5.1922, -5.2469, -4.8894, -5.217, -5.2731, -4.2018, -4.3741, -5.4404, -5.6023, -5.6534, -5.753, -5.7825, -5.8137, -5.9249, -6.0524, -6.0597, -6.0752, -6.0833, -6.0871, -6.2373, -6.2803, -6.7695, -6.7771, -6.8954, -6.9324, -6.9651, -7.0364, -7.2146, -7.222, -7.2931, -7.3976, -7.6227, -7.7153, -7.7425, -6.181, -3.686, -4.1079, -5.7724, -3.9786, -4.3377, -4.7404, -5.0011, -4.5772, -5.516, -6.2907, -4.1687, -4.718, -5.3446, -3.2402, -5.3297, -4.1258, -4.4399, -5.2012, -5.1949, -4.7949, -5.0429, -5.0526, -3.6912, -5.0811, -5.3224, -4.0863, -5.3026, -4.3056, -5.2696, -4.7925, -4.6491, -4.927, -5.0168, -5.2378, -4.8903, -5.0997, -5.1301, -5.1899, -5.4795, -6.2267, -6.3484, -6.5835, -6.6208, -6.6778, -6.8338, -6.9944, -7.0061, -7.114, -7.2312, -7.274, -7.3574, -7.3892, -7.4871, -7.4988, -7.5653, -7.5751, -7.5784, -7.6152, -7.6176, -7.8522, -7.857, -7.9088, -7.9205, -7.9248, -7.9297, -7.9333, -7.9627, -7.9812, -2.6639, -5.8164, -4.0347, -7.4735, -4.9055, -7.2127, -4.3364, -6.6142, -5.5447, -6.2103, -6.3134, -6.5614, -2.8303, -4.8345, -6.0448, -5.8883, -4.7257, -6.1735, -4.423, -4.3512, -3.0856, -4.2514, -5.1931, -5.4336, -4.2867, -4.8029, -4.3458, -5.5274, -4.5781, -5.7628, -5.0113, -5.6435, -4.3963, -4.6213, -4.2138, -5.222, -4.9491, -4.9476, -4.8005, -4.5129, -4.7447, -4.8729, -5.1565, -5.0725, -5.0827, -4.6526, -4.6598, -5.0462, -5.0854, -6.1703, -6.2612, -6.3471, -6.3527, -6.4987, -6.5998, -6.6042, -6.7043, -6.8875, -6.9875, -7.0207, -7.0275, -6.8996, -7.1205, -7.2043, -7.2216, -7.2531, -7.3692, -7.4042, -7.4541, -7.509, -7.5768, -7.5972, -7.6488, -7.6801, -7.6851, -3.9132, -6.585, -5.605, -6.6472, -5.0253, -5.7955, -6.0691, -6.3297, -5.6816, -6.0164, -6.026, -5.4757, -5.1495, -4.7778, -4.9291, -4.5851, -5.4395, -4.8665, -6.0804, -5.1148, -4.3431, -4.1641, -5.287, -4.8258, -5.049, -5.2665, -4.6999, -5.5223, -3.7302, -4.7536, -5.3724, -5.2615, -5.4765, -5.2269, -4.1069, -4.5329, -4.3319, -4.8939, -5.0462, -4.4375, -4.8576, -4.634, -5.0655, -5.062, -5.1602, -4.9887, -5.0421, -5.358, -5.6096, -5.6371, -5.7187, -6.0379, -6.222, -6.2304, -6.2304, -6.3178, -6.388, -6.4259, -6.4425, -6.487, -6.5162, -6.5749, -6.5798, -6.6583, -6.6761, -6.6981, -6.7121, -6.7314, -6.7578, -6.7915, -6.8031, -6.8323, -6.86, -6.899, -6.9037, -5.3265, -5.4174, -5.2034, -4.5211, -6.4419, -4.5832, -4.2818, -4.9871, -3.2429, -4.7357, -4.1106, -4.9552, -6.0823, -5.2797, -5.5409, -5.9407, -5.3473, -5.346, -5.368, -5.7783, -5.2355, -5.3622, -5.9413, -5.8696, -5.5511, -5.6918, -5.2452, -5.738, -5.2419, -5.1268, -5.314, -5.291, -5.3658, -5.5216, -5.5768, -4.1661, -4.688, -5.2928, -6.1519, -6.4019, -6.5106, -6.6245, -6.6624, -6.6675, -6.7035, -6.7152, -6.7748, -6.8475, -6.8686, -6.9032, -6.9214, -6.9715, -7.0557, -7.066, -7.1638, -7.2744, -7.3519, -7.3751, -7.3786, -7.4446, -7.4912, -7.4938, -7.4945, -7.5719, -7.5839, -3.7629, -4.4416, -4.3343, -5.9353, -5.0616, -4.0472, -4.5026, -5.433, -6.8928, -5.5973, -6.2887, -4.7209, -3.7198, -2.8222, -6.0711, -4.9924, -6.1778, -3.8651, -3.9357, -4.2191, -4.9161, -3.1733, -4.4558, -4.5222, -4.9133, -4.6908, -4.6582, -4.9789, -4.6626, -4.4582, -3.8636, -4.3884, -4.017, -4.7366, -4.8984, -4.7764, -4.8311, -4.8752, -4.8467, -2.8121, -3.0303, -4.9076, -5.0272, -5.3058, -5.3257, -6.4298, -6.6815, -6.775, -6.9546, -6.9595, -6.9606, -6.9628, -7.0644, -7.1602, -7.1832, -7.2332, -7.2579, -7.3301, -7.4011, -7.4423, -7.4621, -7.5473, -7.6075, -7.624, -7.6362, -7.7264, -7.775, -7.812, -7.8167, -3.7056, -3.8796, -5.8581, -3.4028, -3.0574, -4.954, -6.1124, -5.7207, -5.0953, -4.6729, -6.8243, -4.673, -5.2555, -4.4916, -5.0993, -4.8537, -4.4708, -5.295, -4.3646, -5.5404, -4.0626, -5.159, -5.1956, -4.9487, -5.2311, -4.4938, -4.9964, -4.1513, -5.0005, -4.8003, -4.4998, -4.9371, -4.9608, -5.1286, -4.7426, -4.7469, -4.8781, -4.9836, -5.0094, -5.28, -5.3858, -5.5124, -5.5548, -5.5652, -5.5978, -5.6296, -5.669, -5.9154, -5.9236, -5.9411, -6.0446, -6.0645, -6.0646, -6.1573, -6.2072, -6.3563, -6.4476, -6.455, -6.4694, -6.47, -6.5536, -6.5555, -6.5581, -6.653, -5.2707, -5.2904, -5.7621, -3.3607, -5.3756, -6.3392, -4.1586, -5.0076, -5.9463, -4.8399, -4.7459, -5.8952, -5.6096, -5.3815, -4.9409, -5.2015, -4.4517, -4.3665, -4.0333, -4.792, -5.0011, -4.0486, -4.4869, -4.914, -4.3717, -5.0614, -4.9641, -4.9838, -4.9799, -4.959, -5.1609, -3.7899, -4.557, -4.7198, -4.8168, -4.9207, -5.095, -5.2841, -5.3434, -5.3552, -5.3683, -5.5153, -5.62, -5.739, -5.8115, -5.8282, -5.8536, -5.8797, -5.9517, -6.0377, -6.0447, -6.0795, -6.0852, -6.1683, -6.173, -6.2021, -6.3125, -6.3518, -6.3827, -6.4079, -6.4092, -5.1739, -5.648, -5.7828, -3.9263, -3.3776, -4.7649, -5.3378, -3.5067, -4.8321, -5.1979, -4.7632, -5.5958, -4.9654, -5.0772, -4.5818, -5.0532, -5.3825, -5.0244, -4.8113, -5.2412, -5.1005, -5.1305, -5.3792, -4.0743, -4.4045, -5.01, -5.3489, -5.3969, -5.4999, -5.5861, -5.6736, -5.6891, -5.7076, -5.7549, -5.7768, -5.8541, -5.9686, -6.1085, -6.147, -6.2792, -6.323, -6.3254, -6.3528, -6.3792, -6.3872, -6.424, -6.4309, -6.4828, -6.5423, -6.551, -6.5756, -6.5821, -6.5959, -5.1578, -4.2591, -5.5062, -4.3752, -5.8174, -5.9019, -5.2936, -5.5938, -5.4381, -5.4568, -5.3649, -4.6814, -5.0924, -4.616, -5.3803, -4.8338, -5.7512, -5.7206, -5.0994, -4.9829, -5.6154, -5.4924, -5.5684, -5.669, -5.6609, -5.6688, -4.3014, -4.8124, -5.0012, -5.0399, -5.1344, -5.3949, -5.41, -5.6043, -5.6724, -5.7125, -5.7885, -5.7978, -5.894, -5.8985, -5.9508, -5.9568, -5.9738, -5.9764, -5.9862, -6.0396, -6.0896, -6.118, -6.1623, -6.1979, -6.2093, -6.2124, -6.2272, -6.2465, -6.2884, -6.2929, -4.934, -4.4195, -4.9137, -5.5381, -5.6294, -5.4106, -4.9317, -5.2719, -5.7759, -5.5064, -5.0738, -5.765, -5.3592, -4.8098, -5.7204, -5.475, -5.3033, -5.598, -5.6598, -5.6752], \"loglift\": [30.0, 29.0, 28.0, 27.0, 26.0, 25.0, 24.0, 23.0, 22.0, 21.0, 20.0, 19.0, 18.0, 17.0, 16.0, 15.0, 14.0, 13.0, 12.0, 11.0, 10.0, 9.0, 8.0, 7.0, 6.0, 5.0, 4.0, 3.0, 2.0, 1.0, 1.5266, 1.5251, 1.5239, 1.5236, 1.5228, 1.5218, 1.5211, 1.521, 1.5206, 1.5204, 1.5201, 1.5198, 1.5196, 1.5196, 1.5195, 1.5194, 1.5194, 1.5189, 1.5188, 1.5182, 1.5179, 1.5176, 1.5172, 1.5166, 1.5166, 1.5165, 1.5143, 1.514, 1.514, 1.5134, 1.4457, 1.492, 1.4878, 1.4875, 1.4581, 1.4642, 1.4479, 1.4414, 1.4314, 1.4869, 1.3169, 1.2568, 1.4483, 1.3577, 1.2938, 1.3495, 1.3008, 1.204, 1.3911, 1.4363, 1.2408, 1.1223, 1.3728, 1.2492, 1.3476, 1.2844, 1.0074, 0.9443, 1.2362, 1.1876, 0.9872, 1.1093, 1.1756, 1.1781, 1.1787, 0.9736, 1.0444, 0.8062, 0.4636, 0.785, 0.8674, 0.992, 0.5303, 0.7581, 0.1739, 0.5368, 0.7346, 0.6939, 0.6053, 0.2984, 0.6611, -0.0645, -0.2755, 0.3553, 0.4641, -0.5579, 0.0918, 0.4328, 1.844, 1.8439, 1.8433, 1.8432, 1.8431, 1.843, 1.8429, 1.8429, 1.8427, 1.8425, 1.8425, 1.8425, 1.8425, 1.8425, 1.8422, 1.8421, 1.8407, 1.8407, 1.8402, 1.8401, 1.8399, 1.8396, 1.8387, 1.8387, 1.8383, 1.8376, 1.8356, 1.8351, 1.8349, 1.8345, 1.8164, 1.8146, 1.8129, 1.7475, 1.751, 1.7253, 1.7242, 1.6315, 1.7094, 1.7772, 1.5662, 1.6023, 1.6666, 1.3983, 1.6182, 1.183, 1.2711, 1.4992, 1.4966, 1.3177, 1.4135, 1.3981, 0.6137, 1.358, 1.5169, 0.6405, 1.4874, 0.5489, 1.4494, 0.3963, 0.0494, 0.5771, 0.6373, 1.1993, -0.4146, 0.3289, 0.4647, 0.0947, 1.9036, 1.9024, 1.9022, 1.9015, 1.9014, 1.9012, 1.9006, 1.8999, 1.8999, 1.8993, 1.8987, 1.8984, 1.8979, 1.8976, 1.8969, 1.8968, 1.8963, 1.8962, 1.8962, 1.8959, 1.8959, 1.8935, 1.8935, 1.8929, 1.8928, 1.8927, 1.8927, 1.8926, 1.8923, 1.892, 1.8241, 1.8595, 1.8172, 1.8866, 1.8237, 1.8755, 1.7767, 1.8462, 1.8008, 1.8239, 1.8282, 1.8408, 1.6173, 1.7111, 1.7851, 1.7625, 1.6535, 1.7682, 1.5721, 1.481, 1.2459, 1.3754, 1.5014, 1.5503, 1.2796, 1.385, 1.249, 1.5109, 1.1279, 1.5328, 1.0891, 1.3821, 0.4581, 0.5941, 0.2618, 1.0367, 0.705, 0.6814, 0.4842, 0.1257, 0.1379, -0.1745, 0.4506, 0.1479, 0.106, 2.2929, 2.2928, 2.2926, 2.2925, 2.2905, 2.2902, 2.2899, 2.2899, 2.2893, 2.2889, 2.2889, 2.2884, 2.2873, 2.2867, 2.2864, 2.2864, 2.2861, 2.2857, 2.285, 2.2848, 2.2846, 2.2835, 2.2831, 2.2826, 2.2819, 2.2811, 2.2809, 2.2802, 2.2798, 2.2797, 2.2493, 2.2702, 2.2499, 2.2599, 2.1974, 2.2208, 2.2302, 2.2222, 2.1727, 2.1877, 2.1852, 2.1362, 2.1024, 2.0366, 1.98, 1.8792, 2.0221, 1.8989, 2.1212, 1.8331, 1.4701, 1.3834, 1.7835, 1.5754, 1.6705, 1.7237, 1.4057, 1.7771, 0.5747, 1.2624, 1.6726, 1.5652, 1.7369, 1.5027, 0.3687, 0.6875, 0.3949, 1.0945, 1.2318, 0.2609, 0.8772, -0.3024, 0.5293, 0.2227, 0.8385, 2.3284, 2.3284, 2.328, 2.3276, 2.3275, 2.3274, 2.3266, 2.3261, 2.326, 2.326, 2.3257, 2.3255, 2.3253, 2.3252, 2.325, 2.3249, 2.3247, 2.3246, 2.3242, 2.3241, 2.324, 2.324, 2.3238, 2.3237, 2.3235, 2.3234, 2.3233, 2.3231, 2.3228, 2.3228, 2.2665, 2.2063, 2.1651, 1.9836, 2.2686, 1.9562, 1.8855, 1.9305, 1.4839, 1.8346, 1.6439, 1.8609, 2.1657, 1.9029, 1.9488, 2.078, 1.7931, 1.7846, 1.7621, 1.9362, 1.4807, 1.5524, 2.0083, 1.9219, 1.4674, 1.6489, 0.8674, 1.7024, 0.7487, 0.4288, 0.8192, 0.4901, 0.1916, -0.0143, -0.1481, 2.6386, 2.6383, 2.6374, 2.635, 2.6338, 2.6332, 2.6325, 2.6322, 2.6322, 2.6319, 2.6319, 2.6314, 2.6308, 2.6306, 2.6303, 2.6302, 2.6297, 2.6289, 2.6288, 2.6277, 2.6264, 2.6253, 2.625, 2.625, 2.624, 2.6233, 2.6232, 2.6232, 2.6219, 2.6217, 2.5822, 2.5473, 2.5208, 2.5647, 2.4885, 2.3453, 2.3412, 2.4236, 2.5768, 2.4243, 2.4874, 2.2452, 2.0613, 1.6534, 2.4056, 1.9995, 2.3856, 1.5636, 1.5716, 1.6437, 1.8973, 1.1583, 1.6458, 1.6242, 1.8062, 1.6806, 1.6524, 1.7372, 1.5264, 1.3355, 0.8349, 1.2406, 0.8375, 1.2604, 1.3095, 0.6989, 0.3577, 0.779, 0.438, 2.7107, 2.7107, 2.7095, 2.7094, 2.7089, 2.7089, 2.7049, 2.7032, 2.7024, 2.7008, 2.7007, 2.7007, 2.7007, 2.6996, 2.6985, 2.6982, 2.6976, 2.6972, 2.6962, 2.6952, 2.6945, 2.6942, 2.6927, 2.6916, 2.6913, 2.691, 2.6892, 2.6881, 2.6873, 2.6872, 2.5887, 2.5918, 2.6363, 2.5373, 2.4972, 2.5412, 2.5922, 2.5437, 2.4301, 2.3619, 2.6196, 2.29, 2.3483, 2.063, 2.1941, 2.0881, 1.9663, 2.1098, 1.6323, 2.1011, 1.4414, 1.843, 1.8196, 1.6216, 1.7513, 1.133, 1.5431, 0.1535, 1.1874, 0.7187, -0.1682, -0.0546, -0.4851, -0.4302, 2.9173, 2.9172, 2.9171, 2.9169, 2.9169, 2.9163, 2.9161, 2.9157, 2.9156, 2.9156, 2.9155, 2.9154, 2.9152, 2.9143, 2.9142, 2.9141, 2.9137, 2.9136, 2.9136, 2.9131, 2.9128, 2.9118, 2.9112, 2.9111, 2.911, 2.911, 2.9103, 2.9103, 2.9103, 2.9095, 2.8401, 2.8296, 2.8576, 2.6299, 2.7817, 2.8879, 2.4692, 2.5572, 2.7597, 2.3242, 2.2495, 2.7296, 2.5332, 2.3722, 2.0022, 2.2103, 1.5335, 1.3019, 0.6651, 1.5438, 1.7514, 0.427, 0.7285, 1.4872, -0.0668, 1.1873, 0.6649, 0.6703, 0.5757, 0.3257, -0.3065, 3.307, 3.3061, 3.3058, 3.3056, 3.3054, 3.3049, 3.3043, 3.3041, 3.3041, 3.304, 3.3034, 3.3029, 3.3023, 3.3019, 3.3018, 3.3017, 3.3015, 3.301, 3.3004, 3.3004, 3.3001, 3.3001, 3.2994, 3.2994, 3.2991, 3.2981, 3.2978, 3.2974, 3.2972, 3.2972, 3.1502, 3.1988, 3.2126, 2.8417, 2.7228, 2.9732, 3.0885, 2.4784, 2.8965, 2.903, 2.5147, 3.019, 2.4465, 2.3996, 1.754, 2.1108, 2.6011, 1.9942, 0.4733, 1.7068, 0.5678, 0.0849, 0.0495, 3.597, 3.5964, 3.5948, 3.5934, 3.5932, 3.5926, 3.5921, 3.5915, 3.5914, 3.5913, 3.591, 3.5908, 3.5902, 3.5892, 3.5879, 3.5874, 3.5859, 3.5854, 3.5853, 3.585, 3.5846, 3.5845, 3.584, 3.5839, 3.5831, 3.5822, 3.5821, 3.5817, 3.5816, 3.5813, 3.5697, 3.4052, 3.4681, 3.3255, 3.4055, 3.4121, 3.1971, 3.2937, 3.1709, 3.1515, 3.0714, 2.6515, 2.8336, 2.2466, 2.7733, 2.1293, 3.1493, 3.0794, 1.5028, 1.0331, 2.6506, 0.496, 0.5037, 2.1636, 1.5057, 0.598, 3.8244, 3.823, 3.8222, 3.8221, 3.8216, 3.8201, 3.82, 3.8186, 3.8181, 3.8177, 3.817, 3.8169, 3.816, 3.8159, 3.8153, 3.8153, 3.8151, 3.8151, 3.8149, 3.8143, 3.8137, 3.8133, 3.8127, 3.8122, 3.812, 3.812, 3.8118, 3.8115, 3.8109, 3.8108, 3.6947, 3.6359, 3.676, 3.6936, 3.6754, 3.4882, 3.1579, 3.2993, 3.5859, 3.3953, 2.8814, 3.4508, 2.7062, 1.053, 3.2072, 2.4148, 1.851, 2.7592, 2.9157, 2.8418]}, \"token.table\": {\"Topic\": [1, 2, 4, 5, 11, 2, 4, 8, 2, 4, 5, 8, 9, 9, 7, 1, 2, 3, 4, 7, 8, 9, 1, 3, 4, 5, 6, 8, 2, 4, 11, 11, 11, 4, 2, 4, 5, 2, 1, 1, 2, 3, 4, 5, 6, 7, 8, 9, 1, 3, 6, 6, 1, 4, 1, 2, 4, 5, 6, 7, 1, 2, 3, 4, 6, 7, 8, 9, 5, 8, 9, 2, 11, 8, 2, 4, 2, 4, 1, 2, 3, 4, 5, 6, 8, 8, 1, 2, 4, 5, 7, 8, 10, 2, 3, 5, 5, 9, 11, 1, 6, 7, 5, 7, 2, 7, 2, 5, 10, 2, 1, 2, 4, 7, 8, 1, 2, 3, 7, 4, 11, 1, 6, 9, 2, 2, 3, 4, 4, 5, 3, 3, 6, 1, 3, 11, 8, 3, 6, 8, 5, 1, 9, 9, 3, 10, 10, 10, 2, 1, 6, 1, 4, 6, 8, 7, 1, 8, 2, 5, 8, 9, 9, 6, 8, 9, 8, 9, 7, 11, 9, 9, 1, 5, 8, 10, 5, 5, 8, 8, 3, 3, 9, 3, 8, 9, 10, 9, 5, 8, 1, 7, 10, 1, 3, 4, 5, 7, 8, 9, 7, 3, 6, 7, 9, 4, 6, 7, 8, 11, 11, 6, 2, 1, 3, 4, 6, 7, 10, 10, 10, 5, 3, 6, 7, 9, 6, 9, 10, 2, 5, 7, 9, 1, 2, 3, 4, 5, 6, 7, 8, 9, 10, 6, 9, 5, 1, 2, 3, 2, 1, 11, 2, 2, 9, 8, 11, 4, 3, 7, 1, 3, 4, 5, 2, 10, 2, 3, 4, 5, 8, 11, 1, 2, 3, 4, 5, 6, 7, 8, 9, 2, 3, 3, 8, 1, 4, 5, 10, 1, 2, 3, 8, 1, 10, 7, 2, 7, 5, 9, 11, 1, 4, 1, 4, 5, 8, 10, 4, 1, 3, 8, 10, 11, 2, 4, 5, 11, 7, 4, 4, 4, 4, 2, 3, 11, 7, 8, 9, 8, 8, 4, 1, 9, 3, 7, 2, 1, 2, 5, 6, 10, 8, 3, 7, 3, 5, 10, 4, 5, 11, 10, 9, 10, 1, 3, 4, 6, 1, 2, 4, 6, 7, 1, 2, 3, 7, 1, 10, 4, 8, 4, 6, 7, 6, 9, 1, 5, 8, 10, 6, 11, 5, 3, 3, 2, 1, 3, 4, 6, 7, 4, 5, 2, 3, 6, 2, 3, 5, 2, 3, 4, 6, 2, 3, 3, 4, 4, 11, 1, 4, 7, 9, 11, 1, 2, 3, 4, 6, 7, 5, 1, 2, 3, 4, 5, 9, 10, 1, 4, 7, 7, 4, 4, 1, 3, 6, 7, 10, 1, 2, 3, 4, 5, 6, 8, 1, 10, 11, 2, 4, 5, 1, 2, 3, 7, 1, 2, 3, 4, 5, 6, 1, 4, 5, 8, 1, 5, 7, 11, 6, 7, 7, 1, 2, 3, 4, 5, 6, 7, 8, 9, 8, 1, 2, 3, 4, 5, 6, 7, 9, 1, 6, 9, 5, 10, 4, 5, 5, 11, 7, 1, 3, 5, 8, 9, 10, 3, 1, 2, 5, 6, 1, 7, 10, 3, 6, 10, 1, 7, 1, 2, 3, 5, 6, 7, 1, 2, 3, 4, 6, 7, 8, 9, 10, 11, 10, 1, 2, 3, 5, 6, 7, 8, 10, 4, 5, 9, 6, 5, 2, 3, 1, 2, 5, 2, 7, 1, 2, 3, 4, 5, 4, 5, 1, 5, 6, 1, 1, 4, 1, 1, 1, 3, 7, 10, 1, 2, 5, 8, 10, 5, 10, 1, 2, 3, 4, 5, 6, 8, 9, 1, 2, 3, 4, 5, 6, 7, 8, 9, 1, 2, 3, 5, 7, 10, 3, 1, 2, 3, 5, 11, 10, 1, 3, 7, 2, 2, 5, 1, 7, 10, 1, 4, 5, 8, 9, 10, 1, 5, 8, 9, 5, 5, 8, 10, 1, 7, 8, 3, 7, 7, 1, 2, 3, 5, 6, 3, 5, 10, 2, 4, 5, 1, 2, 5, 8, 6, 11, 5, 6, 10, 2, 4, 5, 8, 1, 2, 3, 4, 5, 7, 8, 9, 10, 1, 2, 3, 4, 6, 7, 8, 9, 3, 6, 9, 1, 3, 8, 3, 1, 11, 1, 2, 5, 11, 6, 1, 3, 6, 1, 2, 3, 4, 5, 6, 8, 9, 2, 4, 7, 11, 1, 2, 3, 5, 11, 9, 1, 2, 5, 11, 1, 2, 3, 4, 5, 6, 7, 8, 10, 4, 5, 6, 9, 1, 6, 7, 1, 5, 8, 1, 3, 4, 4, 9, 8, 6, 4, 1, 1, 2, 3, 5, 6, 7, 8, 9, 10, 11, 1, 6, 8, 1, 2, 3, 5, 6, 7, 8, 7, 10, 8, 2, 1, 5, 2, 3, 1, 2, 3, 4, 5, 6, 7, 10, 1, 10, 3, 11, 9, 9, 2, 7, 1, 11, 2, 2, 3, 6, 7, 1, 2, 3, 4, 5, 11, 1, 2, 3, 4, 6, 5, 8, 2, 11, 7, 1, 9, 10, 3, 1, 1, 6, 6, 6, 6, 7, 2, 3, 2, 6, 1, 1, 4, 6, 8, 10, 1, 4, 1, 2, 3, 4, 5, 6, 7, 8, 11, 6, 5, 8, 9, 1, 8, 1, 2, 3, 4, 5, 6, 7, 8, 9, 10, 1, 3, 4, 7, 8, 9, 1, 2, 3, 4, 5, 8, 1, 10, 1, 1, 5, 6, 8, 9, 10, 4, 11, 3, 2, 4, 1, 2, 3, 4, 5, 6, 7, 8, 9, 8, 1, 3, 4, 5, 6, 8, 9, 1, 2, 3, 4, 5, 8, 9, 1, 2, 5, 8, 5, 3, 5, 3, 10, 7, 9, 11, 8, 10, 5, 5, 3, 7, 8, 1, 2, 4, 7, 8, 4, 6, 1, 4, 5, 6, 8, 4, 8, 9, 11, 1, 2, 3, 5, 9, 10, 7, 1, 1, 3, 4, 5, 7, 2, 8, 1, 11, 10, 1, 2, 4, 5, 8, 11, 1, 2, 3, 5, 6, 8, 7, 1, 5, 10, 11, 7, 1, 2, 3, 4, 5, 6, 8, 9, 1, 2, 6, 9, 10, 10, 3, 4, 5, 11, 7, 4, 1, 5, 10, 11, 10, 6, 2, 5, 6, 7, 2, 7, 3, 3, 2, 3, 3, 11, 5, 11, 4, 10, 4, 1, 3, 4, 6, 7, 2, 5, 2, 3, 4, 5, 6, 7, 3, 6, 1, 5, 9, 10, 2, 5, 1, 2, 3, 4, 5, 6, 7, 8, 9, 6, 7, 1, 7, 10, 1, 2, 3, 6, 7, 2, 2, 4, 5, 2, 3, 5, 6, 8, 9, 8, 1, 5, 7, 6, 4, 4, 6, 2, 5, 6, 7, 8, 9, 11, 8, 4, 9, 10, 11, 4, 5, 2, 3, 2, 3, 5, 1, 4, 5, 4, 7, 1, 8, 9, 9, 1, 2, 3, 4, 6, 7, 8, 9, 2, 5, 7, 1, 3, 4, 5, 1, 2, 4, 5, 8, 2, 3, 5, 1, 2, 3, 4, 7, 9, 10, 1, 2, 3, 4, 5, 6, 7, 8, 9, 10, 11, 1, 3, 4, 6, 7, 1, 2, 3, 4, 7, 4, 5, 6, 4, 5, 10, 4, 5, 8, 6, 1, 2, 5, 6, 6, 1, 7, 10, 1, 4, 5, 8, 9, 10, 10, 1, 6, 10, 9, 5, 1, 10, 6, 7, 10, 9, 3, 6, 1, 2, 3, 4, 5, 6, 8, 9, 1, 4, 7, 2, 2, 1, 5, 9, 5, 3, 4, 6, 1, 2, 3, 4, 5, 6, 3, 6, 5, 11, 6, 4, 5, 1, 2, 3, 4, 5, 10, 1, 2, 3, 4, 7, 8, 1, 8, 10, 11, 1, 2, 4, 7, 10, 1, 11, 7, 1, 2, 3, 4, 5, 8, 1, 2, 3, 4, 5, 6, 7, 1, 5, 8, 10, 4, 11, 2, 3, 5, 1, 4, 5, 5, 6, 6, 6, 7, 10, 9, 1, 2, 3, 4, 5, 6, 8, 10, 1, 2, 4, 5, 6, 10, 5, 11, 1, 2, 3, 4, 5, 4, 6, 7, 10, 1, 5, 9, 6, 9, 9, 2, 3, 4, 5, 6, 8, 10, 1, 2, 3, 4, 5, 6, 8, 9, 5, 11, 11, 11, 1, 2, 3, 4, 7, 8, 1, 2, 3, 4, 6, 7, 8, 9, 5, 8, 11, 1, 2, 3, 4, 5, 1, 2, 3, 6, 7, 10, 1, 4, 6, 7, 8, 9, 10, 4, 6, 10, 8, 2, 1, 5, 10, 2, 4, 2, 8, 1, 2, 3, 4, 6, 8, 9, 4, 5, 8, 9, 9, 2, 4, 5, 9, 11, 5, 3, 1, 2, 5, 1, 2, 4, 5, 8, 7, 1, 2, 4, 5, 8, 11, 8, 4, 5, 11, 1, 2, 3, 4, 5, 7, 8, 9, 4, 10, 9, 7, 3, 1, 7, 3, 9, 1, 5, 11, 1, 5, 6, 9, 7, 5, 7, 8, 2, 5, 5, 6, 1, 2, 3, 4, 10, 3, 5, 1, 8, 10, 1, 2, 3, 4, 5, 6, 8, 9, 11, 9, 1, 2, 9, 1, 6, 9, 8, 10, 1, 2, 3, 4, 5, 6, 7, 8, 9, 1, 1, 3, 4, 6, 7, 10, 1, 2, 3, 5, 6, 7, 8, 1, 5, 6, 5, 10, 2, 3, 4, 8, 1, 2, 3, 4, 6, 7, 8, 6, 1, 2, 3, 4, 5, 6, 8, 9, 2, 3, 1, 2, 3, 4, 5, 6, 7, 8, 7, 11, 1, 7, 9, 11, 3, 5, 7, 1, 2, 3, 5, 1, 2, 3, 4, 6, 7, 8, 5, 9, 9, 3, 2], \"Freq\": [0.025529371954534308, 0.37726738555034034, 0.23260094447464594, 0.22503668611774688, 0.13899324730802012, 0.7001278413569577, 0.28832656881398167, 0.011165265762728218, 0.9981655581291321, 0.3423547202355666, 0.1005666990691977, 0.10484613307214229, 0.45255014581138964, 0.9945253079917928, 0.9723591208954407, 0.7056986174935594, 0.06879208867133274, 0.0626085301390781, 0.054106137157228, 0.06570030940520542, 0.006183558532254628, 0.03632840637699594, 0.057172000865283894, 0.19759445913089346, 0.572723026211879, 0.031093544330242116, 0.10932891393536745, 0.032096561889282185, 0.8880533648985347, 0.111600289171741, 0.9946910466366296, 0.9847635874810605, 0.9875487112234634, 0.9853138295524547, 0.20096583482124333, 0.09134810673692878, 0.7075774970487511, 0.9968706887458038, 0.9981970645042053, 0.2650231617454086, 0.23725308101582132, 0.2336308965728317, 0.07888312786955214, 0.07244368885979277, 0.030386102827301968, 0.03642307689895136, 0.03360582233218165, 0.012275180612353775, 0.9988086963333076, 0.9881579662654951, 0.9799411061026899, 0.987995163429575, 0.9576967496065925, 0.03360339472303833, 0.10554381444763103, 0.13071195481591227, 0.1924144924929889, 0.05683128470257056, 0.09417755750711693, 0.41973963130327113, 0.056341885060523164, 0.10444019938062417, 0.19343181737368553, 0.14591769310605537, 0.37310271351139074, 0.040958213678790455, 0.08276025743337216, 0.0029858602681844073, 0.05847099644586514, 0.272864650080704, 0.6675438760902938, 0.4865900353892121, 0.5130875125638721, 0.9929645128658364, 0.33906232676620085, 0.6605787708885563, 0.7573136550970434, 0.2426056123363415, 0.02927679074503919, 0.24966596552019532, 0.256578541112774, 0.037815854712342285, 0.010572174435708596, 0.37287245990556855, 0.043101941930196584, 0.9972096288368876, 0.40362718738323455, 0.1625896350430898, 0.001897933482993266, 0.037958669659865316, 0.049978915052156, 0.3112610912108956, 0.03289751370521661, 0.707940307811632, 0.29002134747499425, 0.0012009165526914876, 0.37312753475217253, 0.0835360152430237, 0.54019956523822, 0.16556431758476076, 0.31088722957138465, 0.5231624831518459, 0.9941361675964385, 0.9707600447219263, 0.5247194726760188, 0.47487804519228094, 0.21992799851359418, 0.7787246477981344, 0.9903820862438085, 0.9984762555748217, 0.43627753274293923, 0.08778553240461572, 0.41143257074163286, 0.020207235761062484, 0.044058399282316564, 0.750939987837461, 0.02587627243603065, 0.08819056115953304, 0.13519032129844585, 0.9934561361490807, 0.9918758354080771, 0.9227571672516104, 0.07463477088064496, 0.9920823499382054, 0.997338524618549, 0.9862489867469791, 0.041911442986124064, 0.95634292631974, 0.9991893528703367, 0.9922554036871087, 0.9974441162318423, 0.7016448824224892, 0.2974017512995324, 0.2056146073554613, 0.07575275007832785, 0.714240215024234, 0.995692264055743, 0.9892719073226057, 0.9853373957304368, 0.9946546460555281, 0.9930748243877434, 0.992446817536908, 0.9988994384683022, 0.9964329072120924, 0.9953582445701835, 0.9852795143560266, 0.9843031298771668, 0.9812762763988779, 0.9993626406583737, 0.06899639306013135, 0.9296356117575593, 0.020720781563831857, 0.9790569288910552, 0.9938040201810167, 0.9980840369896, 0.9894447486626209, 0.9827569938770294, 0.9984636108396926, 0.8871404929338245, 0.06710500605814494, 0.03570725093002208, 0.00985027611862678, 0.994433300352092, 0.08440161812856851, 0.4929543783451175, 0.4232313024997783, 0.941417921768227, 0.05730369958589208, 0.9932485738276899, 0.9864529692141577, 0.9891961582552053, 0.9949233934624266, 0.02155623723408355, 0.20581777194734568, 0.7491530666146571, 0.02332798276017261, 0.999188125183795, 0.9941224082084048, 0.9974415296185241, 0.9990375220474572, 0.9969871813678222, 0.9932692190009771, 0.992875898816942, 0.9783733262111448, 0.008582222159746885, 0.8527079480293173, 0.14313311984777824, 0.9929481039364898, 0.16866970279395654, 0.8268929332093967, 0.13772495034956175, 0.846434590690015, 0.011477079195796814, 0.039839123204961746, 0.029667432173907684, 0.5374043428073564, 0.12375557421115777, 0.05424901883228834, 0.0966310647950136, 0.11782208777637623, 0.9848396388500837, 0.5945865898458703, 0.13344925882203137, 0.2179791127928599, 0.05359552443256786, 0.9881112915428979, 0.9854632219908696, 0.9145622337408533, 0.08399040922109878, 0.9876249123555817, 0.988535012872086, 0.9955426286518587, 0.9974160226163374, 0.12426170739434042, 0.517504207004562, 0.07457950507113963, 0.22744781991175742, 0.05620158633846242, 0.9908360037734388, 0.9911850276420717, 0.9850687472176749, 0.9987257938661683, 0.7779147376386205, 0.11455295408676215, 0.10714839051461403, 0.996830741275447, 0.25145640008131015, 0.010700272343885538, 0.7383187917281021, 0.995150903098656, 0.6094748523553571, 0.33637106903349295, 0.05324996547395422, 0.4775546422842098, 0.055656327503375715, 0.03658527821900222, 0.16619057233525475, 0.11364788553136859, 0.021795484896426853, 0.037363688393874606, 0.036196073131566024, 0.0050596661366705195, 0.04981825119183281, 0.938396830157969, 0.05745286715252872, 0.997096580714467, 0.9879859694380204, 0.9358634678478353, 0.06364814516849258, 0.9980267323243817, 0.9930768401377554, 0.9872614012144786, 0.9980092360880645, 0.7976632541893384, 0.20153112111630342, 0.9903292831178708, 0.988254835735699, 0.9915689987321039, 0.9876779738631184, 0.9857854718288643, 0.9906998273673838, 0.984418098221376, 0.8256190643075922, 0.1730464200442681, 0.9976748751957021, 0.9768839152770566, 0.0033112467188015434, 0.026489973750412347, 0.03807933726621775, 0.6754943306355148, 0.2566216207071196, 0.9869061480418796, 0.2791323400204991, 0.17388174439157067, 0.1404149651362893, 0.05602047831862318, 0.01988605723864546, 0.2716144403327185, 0.00048502578630842585, 0.042682269195141474, 0.016005850948178052, 0.07728625699073764, 0.9226375526300729, 0.9856451826217454, 0.9942451215680153, 0.34745610598054705, 0.11864354838360144, 0.2740100998383176, 0.258473444692846, 0.9843213780166689, 0.6502117273237366, 0.33969093135147455, 0.009880207144571974, 0.9655548428922304, 0.03191916836007373, 0.9991398407274104, 0.1069411103409759, 0.8867200399105919, 0.24957251398331587, 0.15988239177056174, 0.5888351501793859, 0.09111393119599483, 0.9081021809200818, 0.5167136115645028, 0.35648998875229765, 0.01908145224417566, 0.03028801943519946, 0.07693156936540663, 0.9990542081930873, 0.8734347227564608, 0.013134356733179862, 0.06786084312142929, 0.013134356733179862, 0.03283589183294965, 0.12188269613288374, 0.49491761460019457, 0.00738683006865962, 0.37303491846731085, 0.9871158354182605, 0.9953239246556932, 0.9986302923537683, 0.9925848499791073, 0.9885349498477417, 0.9110850756803074, 0.07524513853491277, 0.013680934279075048, 0.23414587085950758, 0.5784780338881952, 0.18593936803549133, 0.9951586818713313, 0.989657609542447, 0.9962349227892318, 0.9967391824701305, 0.9923592859039982, 0.888137281227241, 0.11148166709965368, 0.9923844144164153, 0.008947632046884276, 0.9909502491924336, 0.1913058050549756, 0.805735037760956, 0.9929823119183804, 0.9876468921062156, 0.9898159376630777, 0.9940598262939411, 0.9950451871251469, 0.9915939880880781, 0.9961052605628788, 0.8994622381342248, 0.03511414142866343, 0.06212501945071222, 0.9823640921644218, 0.9938878484493976, 0.9916891535272208, 0.0883432002188091, 0.3378437227117739, 0.21119546302309053, 0.36234515714745924, 0.35770033413444896, 0.05927605537085154, 0.4823844506041712, 0.049056045824153, 0.050418713763712805, 0.16117109905736227, 0.07461624956359364, 0.6679646660932903, 0.09550879944139987, 0.32738135838713217, 0.6691531061539185, 0.9941002751788248, 0.994584359321872, 0.6307330607063103, 0.10768613231571152, 0.26075427753590147, 0.9991165102713319, 0.9977183808661414, 0.0886426316172818, 0.5798705484963851, 0.3139426536445397, 0.01662049342824034, 0.996631446123742, 0.9814353407026627, 0.9951182149668123, 0.9994941234563021, 0.9959061660453159, 0.9943537963066067, 0.47664378311481026, 0.00039359519662659803, 0.3459701778347797, 0.07596387294893342, 0.1011539655330357, 0.9566149013459705, 0.04313183022930878, 0.9998361331145427, 0.9009320661526465, 0.0973052422147077, 0.3198997635381604, 0.6743150278791223, 0.005051048897970954, 0.04239623541987075, 0.5927159971444675, 0.2335949441761506, 0.13051390119450407, 0.04300665524983523, 0.9557034499963384, 0.06501688315035407, 0.9293589767962377, 0.996688128916659, 0.9839396346118144, 0.027279925077170475, 0.9657093477318348, 0.9986084347627796, 0.9883539800234149, 0.9898448146111659, 0.7236531600174287, 0.06806105928788457, 0.046001743629360714, 0.13961932715577902, 0.00833949738310048, 0.014526866409271803, 0.9991767733255763, 0.747538398363518, 0.023411029754365036, 0.04359295195640386, 0.07749858125582908, 0.02502558353052814, 0.0411711212921592, 0.04197839818024075, 0.8439762400721281, 0.11325235426872197, 0.04234653246569604, 0.9998381909511707, 0.9898623302454709, 0.9889547724797828, 0.04149935071909992, 0.13635500950561402, 0.12598017182583904, 0.696596244213463, 0.9935276180681555, 0.19649240545733027, 0.30989270184778256, 0.2394006257131771, 0.014302740085282274, 0.2210113884606713, 0.01498382294648619, 0.0040864971672235064, 0.2672682692194843, 0.6519725961263177, 0.0769408653813667, 0.7851192177463974, 0.12852631545743848, 0.08582108604027043, 0.22552422043244333, 0.12843413231406942, 0.10932191024352338, 0.5366711957409329, 0.037569790675317336, 0.25165796293625264, 0.5192184827721105, 0.17135005059324626, 0.020076978085751592, 0.9877582556403379, 0.994906363673995, 0.6008036752122642, 0.25127679035650413, 0.14780987668029655, 0.9215193562539329, 0.014227140657224857, 0.0641469324369612, 0.9907217639272518, 0.7777410709148511, 0.22055343802062943, 0.9998946006832561, 0.1476220938269711, 0.12366024671302797, 0.15960301738394267, 0.07680627780272845, 0.04792369422788627, 0.10633069656812266, 0.0748807722310723, 0.19854101894410026, 0.06461140918223952, 0.9941364859114444, 0.23789451594468125, 0.5162594737104602, 0.14545465067804114, 0.03763303077091003, 0.0047787975582107975, 0.01911519023284319, 0.02419266263844216, 0.014635067522020567, 0.991893832201882, 0.9928475673251987, 0.9987346842725806, 0.2367615964318864, 0.7609027857742005, 0.34625768318198213, 0.652637374761545, 0.9982869037084714, 0.9809666116923408, 0.9829037819470073, 0.10813344435602874, 0.012381692101835352, 0.4226284237426467, 0.15188208978251366, 0.2690954416798883, 0.0363196301653837, 0.998174848366023, 0.7917108235506899, 0.0675027498764291, 0.08148546235083227, 0.05930598739143414, 0.44988685728729527, 0.16164276530674176, 0.38771656293854845, 0.9969415144016253, 0.9968078926464051, 0.990950067209593, 0.9895067512667725, 0.9815384880402424, 0.044847008909986524, 0.7210019124759373, 0.12764148689765395, 0.072445168239209, 0.014489033647841801, 0.020008665513686297, 0.3451264740964564, 0.2921563731093992, 0.01674468068392511, 0.1792665814396688, 0.028783339999165384, 0.07753991022588849, 0.05050764794530351, 0.008755388592902019, 0.0012038659315240275, 0.9968715978376907, 0.9899457190534144, 0.397738693212348, 0.18962798288337654, 0.19778918721000288, 0.0026403896350849897, 0.04560673006055892, 0.09169353096386056, 0.05904871365735523, 0.016082373231881303, 0.1798377284158138, 0.327174662539613, 0.494012073238621, 0.9901048519960302, 0.9950969352895674, 0.9707473679658709, 0.028965181482357615, 0.09136386946705134, 0.8740476845681245, 0.03350008547125216, 0.19228762564160123, 0.8077225982760409, 0.049993592356118235, 0.7064570729370517, 0.06130166681762117, 0.10831945010492285, 0.07439522672041404, 0.9291303397955722, 0.06940491694858492, 0.16593540982066574, 0.4282597709342182, 0.40568767474537765, 0.9888734583793095, 0.8557283727742877, 0.14127591059952863, 0.9950091612896558, 0.9932916062803643, 0.92283360916001, 0.029589855203527374, 0.02219239140264553, 0.02219239140264553, 0.037593212562345144, 0.07404723686522528, 0.5069387754619269, 0.2904930061635761, 0.09113506075720035, 0.16391400802717326, 0.827765740537225, 0.14915832653851238, 0.21969708367128518, 0.08804718372420088, 0.059764340768817044, 0.08400677758771748, 0.3410776180214742, 0.019696979915356603, 0.038383858296592355, 0.022749960436361433, 0.25795519656067883, 0.19557627278355877, 0.05650796624515582, 0.07228616461230972, 0.2645600237841386, 0.009907240835189656, 0.10971351887858176, 0.010641110526685187, 0.14830716166723754, 0.6400132402548295, 0.03742767486870348, 0.03040998583082158, 0.1300611701687446, 0.013567532139905011, 0.9980678735192805, 0.06611225346735367, 0.12907630438864287, 0.42500734371870214, 0.0314820254606446, 0.34315407752102617, 0.9910512133585544, 0.9337046209121094, 0.04089217317863252, 0.02385376768753564, 0.9986674683523612, 0.9979700685239019, 0.9957340799673307, 0.014963938420823853, 0.15712135341865044, 0.8230166131453118, 0.7116175649079369, 0.11530006114964042, 0.06665784785213587, 0.03903387486836785, 0.027623972983768015, 0.039634396020188895, 0.28962142333858265, 0.022864849210940733, 0.6808643987257907, 0.007621616403646911, 0.9959469576156649, 0.9979873019210028, 0.9138779946390351, 0.08443437993947606, 0.9942941913475982, 0.9803622692703281, 0.9969472869532796, 0.9423170995341142, 0.052350949974117454, 0.986375699989268, 0.033477826741224424, 0.1845000229294146, 0.1569738098310745, 0.4597621539128154, 0.16515727859004048, 0.9385561670106946, 0.029638615800337723, 0.03293179533370858, 0.2784348370050754, 0.09505886687098214, 0.6256356628104357, 0.9965790238507894, 0.27224087877386843, 0.7245795696596806, 0.99784221557674, 0.20632923324632385, 0.7823316760589779, 0.8479503099728495, 0.15108506904212374, 0.9958572612128647, 0.03233178137277598, 0.8406263156921754, 0.02963746625837798, 0.09430102900392993, 0.7036657642154224, 0.01878368569774228, 0.03395512414591874, 0.15821642953098305, 0.022395932947308104, 0.003612247249565823, 0.013726539548350127, 0.01878368569774228, 0.027453079096700254, 0.25825925628437196, 0.16611650655477192, 0.12507404936887612, 0.13099519437790852, 0.16457538662091417, 0.04323246972348312, 0.1050394902287254, 0.006651149188228172, 0.4422703419136544, 0.0003295606124542879, 0.5572869956602009, 0.1267498645963939, 0.8727039857456628, 0.9978305519224944, 0.9845880634624813, 0.9898085433434042, 0.9961127227789439, 0.011757369084484206, 0.562002242238345, 0.09876190030966733, 0.326854860548661, 0.9911333522514605, 0.2493825714547263, 0.005296620986649054, 0.7454994038708543, 0.2891275212222106, 0.05445451072346567, 0.06871640638913525, 0.0898931605593719, 0.010372287756850604, 0.38334246834693686, 0.08081740877212762, 0.022905468796378416, 0.149680651488139, 0.441080217683133, 0.3829595391797599, 0.025477557700108767, 0.011741946607178894, 0.007415966278218248, 0.9220518072584689, 0.0506757695678247, 0.008033963468069769, 0.9988210815550602, 0.7970332054575796, 0.03509441707004998, 0.15207580730354994, 0.014817642762909993, 0.5580222055024304, 0.11466610408367259, 0.17092659902948815, 0.001365072667662769, 0.008580456768165975, 0.042219747506998494, 0.06298835309358206, 0.029446567545296874, 0.011798128056228216, 0.08767074074615908, 0.566629840190965, 0.25193802340738347, 0.09320784016170597, 0.9083244981329249, 0.037846854088871874, 0.052985595724420624, 0.3835271205297518, 0.21587754089698602, 0.3996031076178252, 0.04193950072263458, 0.8667496816011147, 0.09009226081158539, 0.9991632414900242, 0.9966224222099742, 0.9934157638500624, 0.9863138787720714, 0.9883506319282067, 0.9886269839809153, 0.1857828827661979, 0.22037825496854546, 0.20260273223474257, 0.14946729868638556, 0.10359498195399101, 0.008409924734272333, 0.09594959583192525, 0.027332255386385083, 0.0013379425713615075, 0.005160635632394386, 0.42585223908376324, 0.061296913201450774, 0.5121518405647532, 0.5852627711792752, 0.1049185014584827, 0.14278039546306556, 0.0004561673976455769, 0.06249493347744404, 0.020071365496405383, 0.08393480116678616, 0.9859170525878135, 0.9858656954155004, 0.9922541598467728, 0.9986807500986896, 0.9863271102582529, 0.9940897715813867, 0.8083318993959344, 0.1913407176670976, 0.6667761117545146, 0.05247254392671841, 0.0286724972170997, 0.07308675761221492, 0.09276396158473432, 0.04816229924702368, 0.02548666419297751, 0.012555930153893332, 0.4054965370764554, 0.5895033690271159, 0.9972705641762339, 0.9961098786419323, 0.9924982572428777, 0.9889356448734564, 0.1148242881107258, 0.8849871961704721, 0.13504877860863213, 0.8619289693550932, 0.9983614888539717, 0.06280400750078932, 0.589044122638122, 0.14161687965864259, 0.20647330570520933, 0.1972405623468087, 0.050701335775668696, 0.05688442550440878, 0.4532204771166482, 0.20713350591279284, 0.03400699350807047, 0.7844719730306327, 0.06753732218144519, 0.09663032250576005, 0.028053964598446467, 0.02285878596910453, 0.14278494954270263, 0.8522476675830063, 0.9966701795973008, 0.9929560490007212, 0.9696777135983773, 0.023838552091352886, 0.9118246174942479, 0.05959638022838221, 0.9904754785811678, 0.9921603041178488, 0.9909400727744806, 0.9885602850856092, 0.9873506312960731, 0.996241410691666, 0.1591947858334502, 0.8406158532369487, 0.8373881637383568, 0.16223371469686365, 0.13880837163891743, 0.8615692032760393, 0.9878170881808278, 0.05522396633212816, 0.2413491861922638, 0.10431193640513096, 0.1329465856143826, 0.46633571569352666, 0.996224152577356, 0.9850360368077044, 0.43437519735619473, 0.16762895463584246, 0.17071759534102549, 0.0056157103730600485, 0.024428340122811212, 0.10024043015912186, 0.04408332642852138, 0.052506891988111454, 0.9966851475464873, 0.9927924896369534, 0.18307221786314898, 0.10001167457338694, 0.715337740168971, 0.12630776430977614, 0.8712658027898844, 0.17098854009108802, 0.17390394571923956, 0.24154135629235535, 0.12609129341755423, 0.034110245849373055, 0.11063964358835107, 0.00874621688445463, 0.07478015436208708, 0.0587454234072536, 0.0004373108442227315, 0.7050800132397078, 0.10307313752868609, 0.1008324171476277, 0.04705512800222626, 0.025394830985328458, 0.017925763048467148, 0.24400779365185074, 0.19574675851501316, 0.41967796154993947, 0.09073074605725463, 0.018918325773640325, 0.030500974206481343, 0.17476320359811878, 0.8250082764451734, 0.9955297941948404, 0.018099129755480486, 0.012206389835091489, 0.9445220272394932, 0.00042090999431349966, 0.008418199886269993, 0.015994579783912985, 0.9911461247311216, 0.9841393551534522, 0.9965436584710878, 0.9985902232923161, 0.9930374167554071, 0.29256860659307304, 0.0949385808470316, 0.2697180599135583, 0.09657076275271123, 0.020946334456221873, 0.020946334456221873, 0.05263786645816795, 0.11194047569786106, 0.039852441530344215, 0.9978797162662421, 0.33454403453189496, 0.4598314418864692, 0.0648651116091058, 0.04020748356591832, 0.0533137903636486, 0.005997801415910467, 0.040873905945463924, 0.013344590021374747, 0.05212730477099511, 0.16430526463817657, 0.3006702939190998, 0.0050042212580155305, 0.2527131735297843, 0.21142834815115616, 0.05364068531343954, 0.2807195864736669, 0.6651444978866502, 0.9977164426009759, 0.9912282287672457, 0.988020212619321, 0.9932426873978761, 0.9960057537867094, 0.9944533583303602, 0.7550579998572585, 0.2288469799930348, 0.01507375317319391, 0.9985818855793602, 0.9906990321785747, 0.9942892551288389, 0.997636374536681, 0.04737066396063535, 0.5477992165704242, 0.403257959870024, 0.2262225218816262, 0.020006073363681227, 0.09541358065755663, 0.5432418382599595, 0.11388072530095468, 0.9942228830391836, 0.9964365337761537, 0.13935124788442693, 0.4875067617682029, 0.10106304559030324, 0.03250045078454686, 0.2390786585109817, 0.9388776262029357, 0.05942263456980606, 0.8028694900605665, 0.19565727068702882, 0.7628684747782839, 0.06835739021310788, 0.05763053821043557, 0.09570034629835103, 0.015143791062596206, 0.0002103304314249473, 0.9939594808549793, 0.9868130191206814, 0.6579955313806697, 0.20675868077354378, 0.06985090566673777, 0.06472850591784367, 0.9652794340182174, 0.9914511285713744, 0.9947781002112379, 0.9931041044635778, 0.9863520480553111, 0.9940302757510614, 0.21834018867127425, 0.017310858948361898, 0.020102932972291234, 0.10609881290931486, 0.6377097070654608, 0.9871127848641494, 0.0749226110271677, 0.2759904344980361, 0.3038952845234608, 0.10817907612596153, 0.05963228224611307, 0.17698555564070736, 0.99164142809066, 0.3531231281243729, 0.400469245861719, 0.0019727549057227535, 0.24462160830962146, 0.9855859941135481, 0.07591628198564496, 0.06274468731936586, 0.03448562967171254, 0.009818825114862598, 0.1590170701528967, 0.5611099327834894, 0.06394210501630034, 0.033288211974778076, 0.03816764897477891, 0.04580117876973469, 0.8053373933678349, 0.07442691550081887, 0.03244250162856207, 0.9986630076060992, 0.9950382775928289, 0.2192949582895498, 0.3759342142106568, 0.40334608399685057, 0.9988178242515203, 0.9960766499215351, 0.23469717846761268, 0.10520908000272293, 0.6393474861703932, 0.020232515385139024, 0.977559626882363, 0.988621092894212, 0.07931819514826238, 0.048894777831120645, 0.27489730647274496, 0.5965162895396718, 0.9941528408061692, 0.9877134068560728, 0.991211973476629, 0.9879342051457964, 0.07521142928381902, 0.9230493593923244, 0.9853815235276431, 0.990835087126332, 0.11976859909314568, 0.8755497588878236, 0.988014911827263, 0.9987837223580298, 0.9977705832982694, 0.09539451372738345, 0.25765434081508237, 0.054680967370213565, 0.25200793657576687, 0.339972971040893, 0.9724754380735672, 0.02736559656151857, 0.07803720384984845, 0.06545055806761484, 0.0830718621627419, 0.5336737811667055, 0.1862823575770576, 0.051605247707157846, 0.2571346234217051, 0.742294290255111, 0.01128954140700902, 0.8495379908774288, 0.07620440449731089, 0.06209247773854961, 0.9974160025061958, 0.9972623045547866, 0.04683525840244084, 0.28155614644258037, 0.04429381027207583, 0.1303399826858625, 0.059905563072889446, 0.11745121002472567, 0.28101155041464504, 0.020876181070855412, 0.01760860490324326, 0.15556705301879545, 0.8443169116832061, 0.9607511796229216, 0.03558337702307117, 0.9896301064973706, 0.5824422386095262, 0.15116686810671226, 0.12241517673985801, 0.14358206608968938, 0.00017639074458192797, 0.991865543778961, 0.17431133461699366, 0.7732962296329179, 0.05182228866991703, 0.0849387718405764, 0.6893108022446777, 0.049003137600332536, 0.03702459285358458, 0.09691731658732435, 0.04138042730694747, 0.9901783749270536, 0.02768810411605718, 0.2659736062057614, 0.705627138230427, 0.9874130084617931, 0.9977624653785266, 0.9948027356897675, 0.9948808058525378, 0.2544110806107108, 0.12733547446297067, 0.3695327442578455, 0.08705588560223505, 0.053792741252724346, 0.04521708685011612, 0.06236839565533258, 0.9971046275965698, 0.2590558930888491, 0.3159218208400599, 0.03580447302854012, 0.3896369123694072, 0.8853310090688676, 0.11233232158078106, 0.6735948086276764, 0.3254790537601488, 0.26265145579354654, 0.06566286394838663, 0.6708058487454498, 0.06340534438281721, 0.351526688710619, 0.5846345724709764, 0.9903282974758081, 0.9826981262701631, 0.14511139057083097, 0.5518051562496072, 0.3016789435551486, 0.9974621189797875, 0.3096057326588954, 0.08759206888451296, 0.08095630609023168, 0.4025064117788334, 0.006635762794281285, 0.07242461106901288, 0.016494610374356337, 0.023699152836718876, 0.032501941074207945, 0.03611326786023105, 0.928110984007938, 0.03909459623501808, 0.8240729364276179, 0.12808624292788817, 0.008230441312635384, 0.3451604851696868, 0.5637323577318623, 0.02857732348106074, 0.04219620420250375, 0.020093430572620835, 0.9078269222149069, 0.08568254097309234, 0.006346854886895729, 0.14566188627833357, 0.6150168531751862, 0.135951093859778, 0.011098048478349224, 0.030519633315460367, 0.032369308061851905, 0.029132377255666714, 0.36872328339738014, 0.04548975346866028, 0.07592303923994709, 0.18067761236848168, 0.06246832342527292, 0.04805255648097917, 0.051576410622917644, 0.09834756559773737, 0.013775066191214028, 0.04516940309212042, 0.009930861672735694, 0.12585969211060452, 0.4598403130054112, 0.0008226123667359772, 0.003290449466943909, 0.4104835710012526, 0.2861020163391688, 0.11571580539308719, 0.535306338471193, 0.06104539984009274, 0.0019318164506358462, 0.5361848032502997, 0.028767906110461285, 0.43457900720058534, 0.9922992109859828, 0.022795465946226258, 0.9710868493092385, 0.1586658339138129, 0.6835853011120107, 0.1573436186311978, 0.9795592693326638, 0.1371617615468086, 0.07059796550203383, 0.3153375792424178, 0.47603199595657103, 0.993494759640754, 0.9174231670438889, 0.03485891135572635, 0.04595038315073019, 0.2278670353747416, 0.5656558448563127, 0.02246576405103086, 0.05054796911481944, 0.09467714850077291, 0.03931508708930401, 0.9800429379512563, 0.48852597357648425, 0.1206946522953667, 0.3879470966636787, 0.9858594554760632, 0.9938529473517883, 0.5598474681738591, 0.43914640852169684, 0.7911760419895961, 0.14191498511024145, 0.06386174329960866, 0.9890771282575322, 0.11075544706552387, 0.8881465280507516, 0.28114156769961535, 0.09272392080233793, 0.08051472126608702, 0.07523506741257312, 0.00626958895104776, 0.37023572647766245, 0.05510638709605137, 0.03860746880382042, 0.9617852481803278, 0.0260949485940399, 0.007455699598297115, 0.9968316732852521, 0.9984371537811465, 0.9389285271588586, 0.022900695784362404, 0.036641113254979846, 0.996357068991206, 0.9161874367483943, 0.08354683415915493, 0.99090489230062, 0.4632066475290252, 0.20778807196353444, 0.020540654678343664, 0.23338946764958596, 0.034829805758930556, 0.03989054676663842, 0.3250497035721874, 0.6743802283750683, 0.3045738506137589, 0.6834340062552638, 0.9992832940778018, 0.8977766684392208, 0.100659808279549, 0.5991984304738346, 0.10337608704660405, 0.02584402176165101, 0.03924462563806264, 0.1091192029936376, 0.12347699286122149, 0.2742496271498321, 0.14219435131754143, 0.0576196240991081, 0.4389477801541497, 0.0539102062386505, 0.03313746622008792, 0.8349240082690826, 0.10059325400832321, 0.04862007277068955, 0.015088988101248481, 0.8372084942654973, 0.03253400884451414, 0.021689339229676093, 0.09109522476463959, 0.017351471383740876, 0.17228553598221946, 0.8265049361309176, 0.9891229570195211, 0.07084474368873338, 0.30006796031176114, 0.030791178352347015, 0.14978364537252817, 0.42932415344939134, 0.0191923333903518, 0.37133926317372784, 0.14205229292570265, 0.005645668052175362, 0.005827786376439083, 0.09597635688698115, 0.3438393962099059, 0.03514883658289822, 0.12971270373475416, 0.03991160114915513, 0.6970276057834592, 0.13256353238826524, 0.9993939134612883, 0.9843669359256169, 0.048731119350902366, 0.8798303466368399, 0.07109403028590551, 0.09222227425074984, 0.022677608422315535, 0.8844267284703059, 0.9990705565634246, 0.9983363700594554, 0.993927590368297, 0.9119878747865021, 0.08735208994000768, 0.9945328284079308, 0.9939813441885009, 0.09423175736598849, 0.06702888568163415, 0.7502564633687242, 0.03805877407347023, 0.008773083907483189, 0.04020470826666756, 0.0013254299428571723, 6.311571156462726e-05, 0.7569214382470587, 0.09247456485371305, 0.03561983238809688, 0.06301970345586372, 0.05205975502875698, 0.9888636534672374, 0.9986527848546033, 0.9830772299630329, 0.07132550341370063, 0.11467527934004872, 0.6545312097716627, 0.14920387993254688, 0.0100813432386856, 0.007028079250896637, 0.10542118876344955, 0.6567349611115635, 0.2303648198905009, 0.23218608554621673, 0.01629376038920819, 0.7495129779035768, 0.3720134922513739, 0.6277326112773616, 0.990387194691026, 0.2592776255690615, 0.19769918949640938, 0.054016171993554477, 0.06517951420555573, 0.3287784335341016, 0.07454231735110517, 0.020166037544260336, 0.0002056998783643278, 0.24005175805117054, 0.2943565259393531, 0.08886234745338961, 0.005348196837472523, 0.24683985403719336, 0.10490693796580718, 0.019335788566246813, 0.34728800619200095, 0.6511650116100017, 0.9935518240632965, 0.9979171463065052, 0.8100790948623466, 0.05113948540302096, 0.048916029515933095, 0.06559194866909211, 0.007411519623626227, 0.01667591915315901, 0.4861019701970018, 0.1472310364622458, 0.16289391268163364, 0.022849372367106983, 0.007186496147719132, 0.13635915767467072, 0.03611674987058846, 0.0011056147919567894, 0.07381802265730793, 0.9251858839715926, 0.985342045584825, 0.5944687638888945, 0.0028705090921284857, 0.17264061825515606, 0.20066225463069604, 0.029251854557880756, 0.19932306101053962, 0.12618435717199483, 0.07956848000017509, 0.5272416452536854, 0.06751264969711826, 0.9808887990331376, 0.12955070937716426, 0.34401700977465466, 0.1573115756722709, 0.06695267753525716, 0.17309716631066485, 0.005443307116687573, 0.12301874083713916, 0.28923357648759185, 0.10784980818181392, 0.5931739449999766, 0.9957762766507027, 0.9923239071252654, 0.09214138524189562, 0.26558399275605205, 0.6395696152084519, 0.2365460704832444, 0.7623468467204562, 0.999805705084356, 0.9956866310973597, 0.4525805030769233, 0.09442939067958363, 0.1630537526749567, 0.17269519196356284, 0.03431218099768654, 0.04593862249277041, 0.03686432669172934, 0.596795105799764, 0.40223552918372374, 0.9921153985094805, 0.9982147456439683, 0.9937229026286425, 0.18148123860080334, 0.13567044050739666, 0.641703564062258, 0.017619537728233332, 0.023257789801268, 0.9933883813150478, 0.9891433506168464, 0.029097814522461123, 0.9689572235979553, 0.9943993377694543, 0.16089322004750042, 0.25136650900174706, 0.06668907381679003, 0.503898910902389, 0.017022036323865987, 0.9897034850641067, 0.0006672418842822576, 0.590509067589798, 0.056715560163991895, 0.23186655478808452, 0.10575783865873783, 0.01434570051206854, 0.9955368868981526, 0.8545699187907144, 0.08217018449910717, 0.06125413753569806, 0.11571519555397539, 0.0866395499706161, 0.014097282707083297, 0.029663032362821102, 0.029663032362821102, 0.037592753885555455, 0.2502267680507285, 0.4364283771401204, 0.9953007467974855, 0.9946500432661883, 0.9957010254703578, 0.9890059873525562, 0.9946496072760597, 0.9866832867254317, 0.9880562729584178, 0.09760253417242172, 0.8989707094828316, 0.9852979960606127, 0.12078347172660905, 0.8756801700179156, 0.14774747632131746, 0.0520474064313732, 0.13767378475395492, 0.6631846948513682, 0.9985341538376636, 0.9966838342088197, 0.022541164316512888, 0.9692700656100542, 0.06011127881699912, 0.939788529797474, 0.9957849477004933, 0.9909644678223887, 0.10358338870875271, 0.11394172757962798, 0.004439288087517973, 0.7310027717446262, 0.04661252491893872, 0.974400995686531, 0.026158415991584725, 0.3316356822764159, 0.430381138235124, 0.23847959174933275, 0.3688474002007584, 0.23508227481376884, 0.16555089775617524, 0.040129537616096875, 0.04330811485301544, 0.10211179373600889, 0.044102759162245084, 0.0007946443092296411, 0.994764145053108, 0.9954631442172879, 0.9122620757135759, 0.06542118471252736, 0.018172551309035376, 0.352439197763796, 0.2427914473483928, 0.4033470818852332, 0.11670702710573613, 0.875302703293021, 0.6165899924160176, 0.060054489967656735, 0.05455331531413093, 0.08710193201415863, 0.012836074191560217, 0.013294505412687369, 0.04538469089158791, 0.054094884093003774, 0.055928608977512374, 0.9887487987204336, 0.5745561206653756, 0.011491122413307513, 0.3014209802259894, 0.05657167957320622, 0.010607189919976166, 0.045080557159898706, 0.42057782519972875, 0.1462759168511877, 0.2079385434255069, 0.08157163605122944, 0.036223336687156125, 0.10452229975377873, 0.0024886261846137794, 0.0955073562986617, 0.043540118312625185, 0.8595662066879552, 0.941238702527064, 0.05378506871583223, 0.07237285401916557, 0.7172031189276327, 0.1770762043009912, 0.03322032643502682, 0.00421855692570064, 0.2990956860321754, 0.3014158923413107, 0.10525299529623097, 0.1556647505583536, 0.02868618709476435, 0.10567485098880103, 0.9955093443630161, 0.47597720672312577, 0.13995950849340505, 0.13249244853274458, 0.053035272028280706, 0.1179412547632524, 0.01780606606003648, 0.045568212067620247, 0.01723167683229337, 0.07105243792008001, 0.9262192800296144, 0.20354470030678543, 0.27379464112063173, 0.23539892448148494, 0.04797094473927966, 0.0303373563568567, 0.16505417942902348, 0.004266190737682973, 0.03972297597975924, 0.13805609347686046, 0.8608203475616005, 0.07927903187525025, 0.887829640096929, 0.028655071762138645, 0.004298260764320797, 0.9989160688019686, 0.688614552624799, 0.31082230734660565, 0.16478085077651553, 0.6402542004441245, 0.16882970802786246, 0.026126588301144327, 0.08202469477827566, 0.07689815135463343, 0.055110341804153966, 0.6741404602089531, 0.0006408179279552786, 0.08907369198578373, 0.021787809550479473, 0.9920341225618856, 0.9907772154972406, 0.9987476261499473, 0.9961461572882122, 0.9967742768580266], \"Term\": [\"academic\", \"academic\", \"academic\", \"academic\", \"academic\", \"accept\", \"accept\", \"accept\", \"accepted\", \"access\", \"access\", \"access\", \"access\", \"access_database_end\", \"acct\", \"actually\", \"actually\", \"actually\", \"actually\", \"actually\", \"actually\", \"actually\", \"add\", \"add\", \"add\", \"add\", \"add\", \"add\", \"admission\", \"admission\", \"after\", \"agpa\", \"agreement\", \"airpods\", \"alberta\", \"alberta\", \"alberta\", \"ale\", \"alone\", \"also\", \"also\", \"also\", \"also\", \"also\", \"also\", \"also\", \"also\", \"also\", \"always\", \"anatomy\", \"andrew\", \"andrew_wong\", \"annoy\", \"annoy\", \"answer\", \"answer\", \"answer\", \"answer\", \"answer\", \"answer\", \"anyone\", \"anyone\", \"anyone\", \"anyone\", \"anyone\", \"anyone\", \"anyone\", \"anyone\", \"app\", \"app\", \"app\", \"appeal\", \"appeal\", \"apple\", \"application\", \"application\", \"apply\", \"apply\", \"appreciate\", \"appreciate\", \"appreciate\", \"appreciate\", \"appreciate\", \"appreciate\", \"appreciate\", \"arc_card\", \"around\", \"around\", \"around\", \"around\", \"around\", \"around\", \"around\", \"art\", \"art\", \"art\", \"article\", \"article\", \"article\", \"assignment\", \"assignment\", \"assignment\", \"association\", \"audio\", \"average\", \"average\", \"award\", \"award\", \"babushka\", \"bachelor\", \"back\", \"back\", \"back\", \"back\", \"back\", \"bad\", \"bad\", \"bad\", \"bad\", \"ballot\", \"band\", \"barely\", \"barely\", \"bathroom\", \"bcom\", \"bcomm\", \"bear_track\", \"bear_track\", \"beartracks\", \"bedroom\", \"bioch\", \"biol\", \"biol\", \"bite\", \"bite\", \"bite\", \"black\", \"blatter\", \"blaw\", \"blue\", \"board\", \"bomb\", \"book\", \"bookstore\", \"booster\", \"bottle\", \"bridge\", \"bruh\", \"bsc\", \"buddy\", \"buddy\", \"budget_cut\", \"budget_cut\", \"buec\", \"building\", \"bump\", \"burnt\", \"bus\", \"business\", \"business\", \"business\", \"business\", \"button\", \"buy\", \"buy\", \"buy\", \"cab\", \"cab\", \"calculator\", \"calm\", \"cameron\", \"cameron_library\", \"campus\", \"campus\", \"campus\", \"campus\", \"canada\", \"candidate\", \"car\", \"card\", \"casper\", \"casper_test\", \"cat\", \"catalogue\", \"catalogue\", \"ccis\", \"ccis\", \"ceremony\", \"charge\", \"charge\", \"cheat\", \"cheat\", \"cheat\", \"check\", \"check\", \"check\", \"check\", \"check\", \"check\", \"check\", \"checklist\", \"chem\", \"chem\", \"chem\", \"chem\", \"cheque\", \"chris\", \"christmas\", \"christmas\", \"citation\", \"cite\", \"civ_e\", \"civil\", \"class\", \"class\", \"class\", \"class\", \"class\", \"climb\", \"clinic\", \"clown_face\", \"club\", \"cmput\", \"cmput\", \"cmput\", \"code\", \"coffee\", \"coffee\", \"coffee\", \"cohort\", \"com\", \"com\", \"com\", \"come\", \"come\", \"come\", \"come\", \"come\", \"come\", \"come\", \"come\", \"come\", \"come\", \"comment_thread\", \"comment_thread\", \"community\", \"commute\", \"comp_sci\", \"comp_sci\", \"competitive\", \"complain\", \"completion\", \"compute\", \"computer\", \"computer\", \"conditional\", \"conference\", \"confirmation\", \"consent\", \"consolidate\", \"constantly\", \"consume\", \"contact\", \"contact\", \"coop\", \"cord\", \"cost\", \"cost\", \"cost\", \"cost\", \"cost\", \"cough\", \"could\", \"could\", \"could\", \"could\", \"could\", \"could\", \"could\", \"could\", \"could\", \"course\", \"course\", \"courseload\", \"coverage\", \"covid\", \"covid\", \"covid\", \"covid\", \"cram\", \"credit\", \"credit\", \"credit\", \"cry\", \"cry\", \"curve\", \"cutoff\", \"cutoff\", \"data\", \"data\", \"data\", \"date\", \"date\", \"day\", \"day\", \"day\", \"day\", \"day\", \"deadline\", \"deal\", \"deal\", \"deal\", \"deal\", \"deal\", \"dean\", \"dean\", \"dean\", \"dean\", \"dec\", \"december\", \"defer\", \"deferral\", \"deferred\", \"degree\", \"degree\", \"degree\", \"delete\", \"delete\", \"delete\", \"dental\", \"dental_hygiene\", \"deposit\", \"depress\", \"dice\", \"difficulty\", \"difficulty\", \"diploma\", \"discipline\", \"discipline\", \"discord\", \"discord\", \"discord_server\", \"discount\", \"dissection\", \"distribution\", \"doable\", \"doc_google\", \"doctor\", \"document\", \"document\", \"document\", \"dose\", \"download\", \"drink\", \"drop\", \"drop\", \"drop\", \"drop\", \"due\", \"due\", \"due\", \"due\", \"due\", \"easy\", \"easy\", \"easy\", \"easy\", \"eat\", \"eat\", \"ebook\", \"echa\", \"eclass\", \"eclass\", \"eclass\", \"econ\", \"edition\", \"edmonton\", \"edmonton\", \"edmonton\", \"edmonton\", \"edu\", \"effectively\", \"election\", \"elective\", \"electives\", \"electrical\", \"else\", \"else\", \"else\", \"else\", \"else\", \"email\", \"email\", \"engineering\", \"engl\", \"engl\", \"english\", \"english\", \"english\", \"enrol\", \"enrol\", \"enrol\", \"enrol\", \"enroll\", \"enroll\", \"enrollment\", \"enrollment\", \"enrolment\", \"equation\", \"error\", \"error\", \"essay\", \"etlc\", \"evaluation\", \"even\", \"even\", \"even\", \"even\", \"even\", \"even\", \"event\", \"every\", \"every\", \"every\", \"every\", \"every\", \"every\", \"every\", \"everything\", \"everything\", \"everything\", \"exam\", \"examination\", \"examlock\", \"exams\", \"exams\", \"exams\", \"exams\", \"exhaust\", \"experience\", \"experience\", \"experience\", \"experience\", \"experience\", \"experience\", \"experience\", \"eye\", \"eye\", \"eye\", \"faculty\", \"faculty\", \"faculty\", \"fail\", \"fail\", \"fail\", \"fail\", \"fall\", \"fall\", \"fall\", \"fall\", \"fall\", \"farley\", \"fault\", \"fee\", \"fee\", \"fee\", \"feel\", \"feel\", \"feel\", \"film\", \"fin\", \"fin\", \"final\", \"find\", \"find\", \"find\", \"find\", \"find\", \"find\", \"find\", \"find\", \"find\", \"fire\", \"first\", \"first\", \"first\", \"first\", \"first\", \"first\", \"first\", \"first\", \"flag\", \"flashcard\", \"floor\", \"food\", \"food\", \"form\", \"form\", \"form_gle\", \"formal\", \"formula_sheet\", \"free\", \"free\", \"free\", \"free\", \"free\", \"free\", \"french\", \"friend\", \"friend\", \"friend\", \"friend\", \"fuck\", \"fuck\", \"fuck\", \"fulfill\", \"gainer\", \"gang\", \"garbage\", \"gdrewzrxc\", \"general\", \"general\", \"general\", \"general\", \"general\", \"general\", \"get\", \"get\", \"get\", \"get\", \"get\", \"get\", \"get\", \"get\", \"get\", \"ghoul\", \"glass\", \"good\", \"good\", \"good\", \"good\", \"good\", \"good\", \"good\", \"good\", \"google\", \"google\", \"google\", \"gordon_lee\", \"government\", \"gpa\", \"gpa\", \"grad\", \"grad\", \"grad\", \"grade\", \"grade\", \"graduate\", \"graduate\", \"graduate\", \"graduate\", \"graduate\", \"grant\", \"grant\", \"group\", \"group\", \"group\", \"guilty\", \"gym\", \"gym\", \"habit\", \"hang\", \"hate\", \"hate\", \"hate\", \"hate\", \"health\", \"health\", \"health\", \"health\", \"health\", \"healthy\", \"healthy\", \"help\", \"help\", \"help\", \"help\", \"help\", \"help\", \"help\", \"help\", \"hey\", \"hey\", \"hey\", \"hey\", \"hey\", \"hey\", \"hey\", \"hey\", \"hey\", \"high\", \"high\", \"high\", \"high\", \"high\", \"high\", \"hist\", \"history\", \"history\", \"history\", \"history\", \"history\", \"homeless\", \"honestly\", \"honestly\", \"honestly\", \"honor\", \"honour\", \"host\", \"hot\", \"hot\", \"hot\", \"hour\", \"hour\", \"hour\", \"hour\", \"hour\", \"hour\", \"house\", \"house\", \"house\", \"house\", \"housing\", \"html\", \"hub\", \"hub\", \"incredibly\", \"index_html\", \"insurance\", \"int\", \"int\", \"intd\", \"interested\", \"interested\", \"interested\", \"interested\", \"interested\", \"interesting\", \"interesting\", \"interesting\", \"international\", \"international\", \"international\", \"internet\", \"interview\", \"interview\", \"ipad\", \"jan\", \"jan\", \"join\", \"join\", \"jpg_width_format_pjpg_auto_webp\", \"june\", \"june\", \"june\", \"june\", \"keep\", \"keep\", \"keep\", \"keep\", \"keep\", \"keep\", \"keep\", \"keep\", \"keep\", \"know\", \"know\", \"know\", \"know\", \"know\", \"know\", \"know\", \"know\", \"lab\", \"lab\", \"lab\", \"labs\", \"labs\", \"laptop\", \"latin\", \"laugh\", \"launchpad\", \"law\", \"law\", \"law\", \"law\", \"lec\", \"lecture\", \"lecture\", \"lecture\", \"let\", \"let\", \"let\", \"let\", \"let\", \"let\", \"let\", \"let\", \"letter\", \"letter\", \"letter\", \"letter\", \"level\", \"level\", \"level\", \"level\", \"level\", \"library\", \"life\", \"life\", \"life\", \"life\", \"like\", \"like\", \"like\", \"like\", \"like\", \"like\", \"like\", \"like\", \"like\", \"link\", \"link\", \"link\", \"link\", \"literally\", \"literally\", \"literally\", \"live\", \"live\", \"live\", \"load\", \"load\", \"load\", \"loan\", \"lock\", \"locker\", \"loepelmann\", \"login\", \"lonely\", \"look\", \"look\", \"look\", \"look\", \"look\", \"look\", \"look\", \"look\", \"look\", \"look\", \"lose\", \"lose\", \"lose\", \"lot\", \"lot\", \"lot\", \"lot\", \"lot\", \"lot\", \"lot\", \"loudly_crying_face_loudly_crying_face\", \"lunch\", \"macbook\", \"macewan\", \"mad\", \"mailto\", \"major\", \"major\", \"make\", \"make\", \"make\", \"make\", \"make\", \"make\", \"make\", \"make\", \"man\", \"man\", \"manageable\", \"mandate\", \"manual\", \"map\", \"mark\", \"mark\", \"mask\", \"mask\", \"master\", \"math\", \"math\", \"math\", \"math\", \"may\", \"may\", \"may\", \"may\", \"may\", \"may\", \"maybe\", \"maybe\", \"maybe\", \"maybe\", \"maybe\", \"meal\", \"meal\", \"mechanical\", \"mediation\", \"medium-light_skin_tone\", \"meme\", \"meme\", \"meme\", \"memorization\", \"mental\", \"mentally\", \"mesbah\", \"mgtsc\", \"michael\", \"midterm\", \"midterm\", \"minor\", \"minor\", \"mmi\", \"mmi\", \"mom\", \"morning\", \"morning\", \"morning\", \"morning\", \"morning\", \"motivation\", \"mph\", \"much\", \"much\", \"much\", \"much\", \"much\", \"much\", \"much\", \"much\", \"music\", \"mwf\", \"name\", \"name\", \"name\", \"near\", \"near\", \"need\", \"need\", \"need\", \"need\", \"need\", \"need\", \"need\", \"need\", \"need\", \"need\", \"never\", \"never\", \"never\", \"never\", \"never\", \"never\", \"next\", \"next\", \"next\", \"next\", \"next\", \"next\", \"night\", \"night\", \"nobody\", \"note\", \"note\", \"note\", \"note\", \"note\", \"note\", \"notification\", \"nserc\", \"nurs\", \"nursing\", \"official_transcript\", \"one\", \"one\", \"one\", \"one\", \"one\", \"one\", \"one\", \"one\", \"one\", \"onecard\", \"online\", \"online\", \"online\", \"online\", \"online\", \"online\", \"online\", \"open\", \"open\", \"open\", \"open\", \"open\", \"open\", \"open\", \"opportunity\", \"opportunity\", \"opportunity\", \"opt\", \"org\", \"organic\", \"organization\", \"pac\", \"pain\", \"paper\", \"paper\", \"paper\", \"park\", \"parking\", \"participant\", \"participate\", \"pas\", \"pas\", \"pas\", \"pass\", \"pass\", \"pass\", \"pass\", \"pass\", \"password\", \"paul\", \"pay\", \"pay\", \"pay\", \"pay\", \"pay\", \"payment\", \"payment\", \"pdf\", \"pdf\", \"people\", \"people\", \"people\", \"people\", \"people\", \"people\", \"percent\", \"perfect\", \"person\", \"person\", \"person\", \"person\", \"person_shrugging\", \"pharmd\", \"photo\", \"physically\", \"piano\", \"pizza\", \"place\", \"place\", \"place\", \"place\", \"place\", \"plagiarism\", \"plan\", \"plan\", \"plan\", \"plan\", \"plan\", \"plan\", \"planner\", \"play\", \"play\", \"play\", \"play\", \"playlist\", \"please\", \"please\", \"please\", \"please\", \"please\", \"please\", \"please\", \"please\", \"pls\", \"pls\", \"pls\", \"pls\", \"pls\", \"png_width_format_png_auto_webp\", \"pol\", \"policy\", \"policy\", \"policy\", \"poll\", \"portal\", \"positive\", \"positive\", \"positive\", \"positive\", \"potato\", \"powerpoint\", \"practice\", \"practice\", \"practice\", \"practice\", \"practicum\", \"prayer\", \"prereq\", \"prereqs\", \"prerequisite\", \"prerequisite\", \"prerequisites\", \"prescription\", \"presentation\", \"presentation\", \"preview\", \"preview_redd_it\", \"proctor\", \"prof\", \"prof\", \"prof\", \"prof\", \"prof\", \"program\", \"program\", \"provide\", \"provide\", \"provide\", \"provide\", \"provide\", \"provide\", \"psyco\", \"psyco\", \"public\", \"public\", \"public\", \"public\", \"pursue\", \"quarantine\", \"question\", \"question\", \"question\", \"question\", \"question\", \"question\", \"question\", \"question\", \"question\", \"quiz\", \"quiz\", \"rant\", \"rant\", \"rapid_test\", \"really\", \"really\", \"really\", \"really\", \"really\", \"reapply\", \"receive\", \"receive\", \"receive\", \"recommend\", \"recommend\", \"recommend\", \"recommend\", \"recommend\", \"recommend\", \"red\", \"reddit\", \"reddit\", \"reddit\", \"reexamination\", \"refund\", \"registrar\", \"relig\", \"remove\", \"remove\", \"remove\", \"remove\", \"remove\", \"remove\", \"remove\", \"rent\", \"report\", \"report\", \"report\", \"report\", \"request\", \"request\", \"requirement\", \"requirement\", \"research\", \"research\", \"research\", \"residence\", \"residence\", \"residence\", \"revoke\", \"rlly\", \"room\", \"room\", \"room\", \"rutherford\", \"say\", \"say\", \"say\", \"say\", \"say\", \"say\", \"say\", \"say\", \"scale\", \"scale\", \"scale\", \"schedule\", \"schedule\", \"schedule\", \"schedule\", \"school\", \"school\", \"school\", \"school\", \"school\", \"science\", \"science\", \"science\", \"second\", \"second\", \"second\", \"second\", \"second\", \"second\", \"second\", \"see\", \"see\", \"see\", \"see\", \"see\", \"see\", \"see\", \"see\", \"see\", \"see\", \"see\", \"sem\", \"sem\", \"sem\", \"sem\", \"sem\", \"semester\", \"semester\", \"semester\", \"semester\", \"semester\", \"send\", \"send\", \"send\", \"sent\", \"server\", \"server\", \"service\", \"service\", \"service\", \"sharaf\", \"share\", \"share\", \"share\", \"share\", \"sharon\", \"shit\", \"shit\", \"shit\", \"show\", \"show\", \"show\", \"show\", \"show\", \"show\", \"shower\", \"sick\", \"sick\", \"sick\", \"silent\", \"sip\", \"sleep\", \"sleep\", \"slide\", \"slide\", \"slide\", \"smiling_face_with_tear\", \"soc\", \"soc\", \"someone\", \"someone\", \"someone\", \"someone\", \"someone\", \"someone\", \"someone\", \"someone\", \"sometimes\", \"sometimes\", \"sometimes\", \"spec\", \"specialization\", \"spend\", \"spend\", \"spend\", \"sport\", \"spring\", \"spring\", \"springer\", \"start\", \"start\", \"start\", \"start\", \"start\", \"start\", \"stat\", \"stat\", \"statement\", \"statement\", \"stats\", \"status\", \"status\", \"stay\", \"stay\", \"stay\", \"stay\", \"stay\", \"stay\", \"still\", \"still\", \"still\", \"still\", \"still\", \"still\", \"stop\", \"stop\", \"stop\", \"stop\", \"stress\", \"stress\", \"stress\", \"stress\", \"stress\", \"strike\", \"strike\", \"sts\", \"student\", \"student\", \"student\", \"student\", \"student\", \"student\", \"study\", \"study\", \"study\", \"study\", \"study\", \"study\", \"study\", \"sub\", \"sub\", \"sub\", \"sub\", \"submit\", \"summary\", \"summer\", \"summer\", \"summer\", \"support\", \"support\", \"support\", \"survey\", \"swap\", \"swap_daily\", \"syllabus\", \"syllabus\", \"symptom\", \"tab\", \"take\", \"take\", \"take\", \"take\", \"take\", \"take\", \"take\", \"take\", \"talk\", \"talk\", \"talk\", \"talk\", \"talk\", \"tap\", \"team\", \"template_letter\", \"term\", \"term\", \"term\", \"term\", \"term\", \"test\", \"test\", \"test\", \"test\", \"text\", \"text\", \"text\", \"textbook\", \"textbook\", \"textbooks\", \"thank\", \"thank\", \"thank\", \"thank\", \"thank\", \"thank\", \"thank\", \"thanks\", \"thanks\", \"thanks\", \"thanks\", \"thanks\", \"thanks\", \"thanks\", \"thanks\", \"the\", \"the\", \"the_gateway\", \"thegatewayonline\", \"thing\", \"thing\", \"thing\", \"thing\", \"thing\", \"thing\", \"think\", \"think\", \"think\", \"think\", \"think\", \"think\", \"think\", \"think\", \"ticket\", \"ticket\", \"tim\", \"time\", \"time\", \"time\", \"time\", \"time\", \"tip\", \"tip\", \"tip\", \"tip\", \"tip\", \"tired\", \"today\", \"today\", \"today\", \"today\", \"today\", \"today\", \"today\", \"tonight\", \"tonight\", \"tonight\", \"tory\", \"trad\", \"train\", \"train\", \"train\", \"transcript\", \"transcript\", \"transfer\", \"transit\", \"try\", \"try\", \"try\", \"try\", \"try\", \"try\", \"try\", \"tuition\", \"tuition\", \"tuition_deposit\", \"tutor\", \"twitter\", \"ualberta\", \"ualberta\", \"ualberta\", \"ualberta\", \"ualberta\", \"uasu\", \"undeclared\", \"undergrad\", \"undergrad\", \"union\", \"university\", \"university\", \"university\", \"university\", \"university\", \"unofficial\", \"uofa\", \"uofa\", \"uofa\", \"uofa\", \"uofa\", \"uofa\", \"upass\", \"update\", \"update\", \"update\", \"use\", \"use\", \"use\", \"use\", \"use\", \"use\", \"use\", \"use\", \"vaccinate\", \"vaccination\", \"vaccine\", \"valentine\", \"validate\", \"vent\", \"verification\", \"version\", \"version\", \"vibe\", \"vice_president\", \"vice_president\", \"video\", \"video\", \"video\", \"video\", \"view_poll\", \"virtual\", \"virus\", \"virus\", \"volunteer\", \"volunteer\", \"vote\", \"wagner\", \"wait\", \"wait\", \"wait\", \"wait\", \"wait\", \"waive\", \"waive\", \"walk\", \"walk\", \"walk\", \"want\", \"want\", \"want\", \"want\", \"want\", \"want\", \"want\", \"want\", \"war\", \"washroom\", \"waste\", \"waste\", \"waste\", \"watch\", \"watch\", \"watch\", \"water\", \"water\", \"way\", \"way\", \"way\", \"way\", \"way\", \"way\", \"way\", \"way\", \"way\", \"wear_mask\", \"week\", \"week\", \"week\", \"week\", \"week\", \"week\", \"well\", \"well\", \"well\", \"well\", \"well\", \"well\", \"well\", \"willing\", \"willing\", \"willing\", \"win\", \"win\", \"winter\", \"winter\", \"winter\", \"winter\", \"wonder\", \"wonder\", \"wonder\", \"wonder\", \"wonder\", \"wonder\", \"wonder\", \"wong\", \"work\", \"work\", \"work\", \"work\", \"work\", \"work\", \"work\", \"work\", \"workload\", \"workload\", \"would\", \"would\", \"would\", \"would\", \"would\", \"would\", \"would\", \"would\", \"wow\", \"wow\", \"write\", \"write\", \"write\", \"write\", \"wrs\", \"www\", \"www\", \"year\", \"year\", \"year\", \"year\", \"yet\", \"yet\", \"yet\", \"yet\", \"yet\", \"yet\", \"yet\", \"youth\", \"youtu\", \"youtube\", \"zool\", \"zoom\"]}, \"R\": 30, \"lambda.step\": 0.01, \"plot.opts\": {\"xlab\": \"PC1\", \"ylab\": \"PC2\"}, \"topic.order\": [2, 5, 6, 7, 11, 1, 9, 3, 8, 4, 10]};\n",
              "\n",
              "function LDAvis_load_lib(url, callback){\n",
              "  var s = document.createElement('script');\n",
              "  s.src = url;\n",
              "  s.async = true;\n",
              "  s.onreadystatechange = s.onload = callback;\n",
              "  s.onerror = function(){console.warn(\"failed to load library \" + url);};\n",
              "  document.getElementsByTagName(\"head\")[0].appendChild(s);\n",
              "}\n",
              "\n",
              "if(typeof(LDAvis) !== \"undefined\"){\n",
              "   // already loaded: just create the visualization\n",
              "   !function(LDAvis){\n",
              "       new LDAvis(\"#\" + \"ldavis_el581405352510772004857010071\", ldavis_el581405352510772004857010071_data);\n",
              "   }(LDAvis);\n",
              "}else if(typeof define === \"function\" && define.amd){\n",
              "   // require.js is available: use it to load d3/LDAvis\n",
              "   require.config({paths: {d3: \"https://d3js.org/d3.v5\"}});\n",
              "   require([\"d3\"], function(d3){\n",
              "      window.d3 = d3;\n",
              "      LDAvis_load_lib(\"https://cdn.jsdelivr.net/gh/bmabey/pyLDAvis@3.3.1/pyLDAvis/js/ldavis.v3.0.0.js\", function(){\n",
              "        new LDAvis(\"#\" + \"ldavis_el581405352510772004857010071\", ldavis_el581405352510772004857010071_data);\n",
              "      });\n",
              "    });\n",
              "}else{\n",
              "    // require.js not available: dynamically load d3 & LDAvis\n",
              "    LDAvis_load_lib(\"https://d3js.org/d3.v5.js\", function(){\n",
              "         LDAvis_load_lib(\"https://cdn.jsdelivr.net/gh/bmabey/pyLDAvis@3.3.1/pyLDAvis/js/ldavis.v3.0.0.js\", function(){\n",
              "                 new LDAvis(\"#\" + \"ldavis_el581405352510772004857010071\", ldavis_el581405352510772004857010071_data);\n",
              "            })\n",
              "         });\n",
              "}\n",
              "</script>"
            ]
          },
          "metadata": {},
          "execution_count": 31
        }
      ]
    },
    {
      "cell_type": "markdown",
      "source": [
        "### Get the top terms according to relevancy score"
      ],
      "metadata": {
        "id": "ssenR2SExQtK"
      }
    },
    {
      "cell_type": "code",
      "source": [
        "all_topics = {}\n",
        "num_terms = 15\n",
        "lambd = 0.1\n",
        "for i in range(1,12): \n",
        "    topic = topic_data.topic_info[topic_data.topic_info.Category == 'Topic'+str(i)].copy()\n",
        "    topic['relevance'] = topic['loglift']*(1-lambd)+topic['logprob']*lambd\n",
        "    all_topics['Topic '+str(i)] = topic.sort_values(by='relevance', ascending=False).Term[:num_terms].values"
      ],
      "metadata": {
        "id": "b_kcOTc5Vp2S"
      },
      "execution_count": null,
      "outputs": []
    },
    {
      "cell_type": "markdown",
      "source": [
        "### Get the top terms according to frequency score"
      ],
      "metadata": {
        "id": "PAf1kPOIxYLj"
      }
    },
    {
      "cell_type": "code",
      "source": [
        "all_topics2 = {}\n",
        "num_terms = 15\n",
        "lambd = 1.0\n",
        "for i in range(1,12): \n",
        "    topic = topic_data.topic_info[topic_data.topic_info.Category == 'Topic'+str(i)].copy()\n",
        "    topic['relevance'] = topic['loglift']*(1-lambd)+topic['logprob']*lambd\n",
        "    all_topics2['Topic '+str(i)] = topic.sort_values(by='relevance', ascending=False).Term[:num_terms].values"
      ],
      "metadata": {
        "id": "zpaKwoLN4v4I"
      },
      "execution_count": null,
      "outputs": []
    },
    {
      "cell_type": "code",
      "source": [
        "topics = pd.DataFrame(all_topics).T"
      ],
      "metadata": {
        "id": "yzMn92ZMfNKJ"
      },
      "execution_count": null,
      "outputs": []
    },
    {
      "cell_type": "code",
      "source": [
        "topics2 = pd.DataFrame(all_topics2).T"
      ],
      "metadata": {
        "id": "CnYt5Oqq46xf"
      },
      "execution_count": null,
      "outputs": []
    },
    {
      "cell_type": "code",
      "source": [
        "topics[:11]"
      ],
      "metadata": {
        "colab": {
          "base_uri": "https://localhost:8080/",
          "height": 394
        },
        "id": "KHxPtGNwfYDG",
        "outputId": "277ca2e1-a2a3-4c9a-ea69-54f53b6e3640"
      },
      "execution_count": null,
      "outputs": [
        {
          "output_type": "execute_result",
          "data": {
            "text/plain": [
              "                        0                               1            2  \\\n",
              "Topic 1              feel                          always        alone   \n",
              "Topic 2           program                     engineering          gpa   \n",
              "Topic 3            course                          spring         take   \n",
              "Topic 4             email                        deadline   beartracks   \n",
              "Topic 5            canada                            club        event   \n",
              "Topic 6              econ                            note        stats   \n",
              "Topic 7             final                            exam         mark   \n",
              "Topic 8              park                        building       laptop   \n",
              "Topic 9              book                         library        floor   \n",
              "Topic 10  preview_redd_it  png_width_format_png_auto_webp       doctor   \n",
              "Topic 11            music                thegatewayonline  the_gateway   \n",
              "\n",
              "                    3          4                                5           6  \\\n",
              "Topic 1         thing     people                         honestly        shit   \n",
              "Topic 2      transfer    science                           degree     nursing   \n",
              "Topic 3        summer   elective                            level      enroll   \n",
              "Topic 4        submit       loan                             date  bear_track   \n",
              "Topic 5        survey  community                             team   volunteer   \n",
              "Topic 6      syllabus       swap                              soc         edu   \n",
              "Topic 7          poll      write                          midterm       grade   \n",
              "Topic 8          card        bus                             rent     onecard   \n",
              "Topic 9         tutor       code                          youtube     vaccine   \n",
              "Topic 10  vaccination     server  jpg_width_format_pjpg_auto_webp       drink   \n",
              "Topic 11    launchpad      ghoul                              war       after   \n",
              "\n",
              "                   7               8           9              10           11  \\\n",
              "Topic 1    literally            hate  motivation           spend     internet   \n",
              "Topic 2          bsc  specialization    bachelor     competitive    admission   \n",
              "Topic 3        bioch             wrs        engl        schedule         hist   \n",
              "Topic 4        defer          refund    december       enrolment        grant   \n",
              "Topic 5         vote        form_gle  government        election  participate   \n",
              "Topic 6      willing             mwf       civ_e           buddy       wagner   \n",
              "Topic 7    view_poll           curve       essay            quiz   calculator   \n",
              "Topic 8    insurance             opt         car        arc_card       dental   \n",
              "Topic 9   rutherford       bookstore        lock        download      edition   \n",
              "Topic 10     symptom          clinic     parking  discord_server        glass   \n",
              "Topic 11     mandate       agreement       cough      completion          tim   \n",
              "\n",
              "                12          13            14          Labels  \n",
              "Topic 1     friend        rant    everything   mental_health  \n",
              "Topic 2     master       honor     undergrad  degree_program  \n",
              "Topic 3     doable      french          zool         courses  \n",
              "Topic 4    proctor     payment       deposit  administration  \n",
              "Topic 5       html       union       virtual        politics  \n",
              "Topic 6    lecture      gainer          buec        courses2  \n",
              "Topic 7      scale     percent  distribution     assessments  \n",
              "Topic 8      upass       photo        campus       resources  \n",
              "Topic 9   bathroom      manual      washroom      resources2  \n",
              "Topic 10      pain  rapid_test         night           covid  \n",
              "Topic 11     piano        film          band    student_life  "
            ],
            "text/html": [
              "\n",
              "  <div id=\"df-9571ca5e-5a50-45d9-bbb9-73cb82341484\">\n",
              "    <div class=\"colab-df-container\">\n",
              "      <div>\n",
              "<style scoped>\n",
              "    .dataframe tbody tr th:only-of-type {\n",
              "        vertical-align: middle;\n",
              "    }\n",
              "\n",
              "    .dataframe tbody tr th {\n",
              "        vertical-align: top;\n",
              "    }\n",
              "\n",
              "    .dataframe thead th {\n",
              "        text-align: right;\n",
              "    }\n",
              "</style>\n",
              "<table border=\"1\" class=\"dataframe\">\n",
              "  <thead>\n",
              "    <tr style=\"text-align: right;\">\n",
              "      <th></th>\n",
              "      <th>0</th>\n",
              "      <th>1</th>\n",
              "      <th>2</th>\n",
              "      <th>3</th>\n",
              "      <th>4</th>\n",
              "      <th>5</th>\n",
              "      <th>6</th>\n",
              "      <th>7</th>\n",
              "      <th>8</th>\n",
              "      <th>9</th>\n",
              "      <th>10</th>\n",
              "      <th>11</th>\n",
              "      <th>12</th>\n",
              "      <th>13</th>\n",
              "      <th>14</th>\n",
              "      <th>Labels</th>\n",
              "    </tr>\n",
              "  </thead>\n",
              "  <tbody>\n",
              "    <tr>\n",
              "      <th>Topic 1</th>\n",
              "      <td>feel</td>\n",
              "      <td>always</td>\n",
              "      <td>alone</td>\n",
              "      <td>thing</td>\n",
              "      <td>people</td>\n",
              "      <td>honestly</td>\n",
              "      <td>shit</td>\n",
              "      <td>literally</td>\n",
              "      <td>hate</td>\n",
              "      <td>motivation</td>\n",
              "      <td>spend</td>\n",
              "      <td>internet</td>\n",
              "      <td>friend</td>\n",
              "      <td>rant</td>\n",
              "      <td>everything</td>\n",
              "      <td>mental_health</td>\n",
              "    </tr>\n",
              "    <tr>\n",
              "      <th>Topic 2</th>\n",
              "      <td>program</td>\n",
              "      <td>engineering</td>\n",
              "      <td>gpa</td>\n",
              "      <td>transfer</td>\n",
              "      <td>science</td>\n",
              "      <td>degree</td>\n",
              "      <td>nursing</td>\n",
              "      <td>bsc</td>\n",
              "      <td>specialization</td>\n",
              "      <td>bachelor</td>\n",
              "      <td>competitive</td>\n",
              "      <td>admission</td>\n",
              "      <td>master</td>\n",
              "      <td>honor</td>\n",
              "      <td>undergrad</td>\n",
              "      <td>degree_program</td>\n",
              "    </tr>\n",
              "    <tr>\n",
              "      <th>Topic 3</th>\n",
              "      <td>course</td>\n",
              "      <td>spring</td>\n",
              "      <td>take</td>\n",
              "      <td>summer</td>\n",
              "      <td>elective</td>\n",
              "      <td>level</td>\n",
              "      <td>enroll</td>\n",
              "      <td>bioch</td>\n",
              "      <td>wrs</td>\n",
              "      <td>engl</td>\n",
              "      <td>schedule</td>\n",
              "      <td>hist</td>\n",
              "      <td>doable</td>\n",
              "      <td>french</td>\n",
              "      <td>zool</td>\n",
              "      <td>courses</td>\n",
              "    </tr>\n",
              "    <tr>\n",
              "      <th>Topic 4</th>\n",
              "      <td>email</td>\n",
              "      <td>deadline</td>\n",
              "      <td>beartracks</td>\n",
              "      <td>submit</td>\n",
              "      <td>loan</td>\n",
              "      <td>date</td>\n",
              "      <td>bear_track</td>\n",
              "      <td>defer</td>\n",
              "      <td>refund</td>\n",
              "      <td>december</td>\n",
              "      <td>enrolment</td>\n",
              "      <td>grant</td>\n",
              "      <td>proctor</td>\n",
              "      <td>payment</td>\n",
              "      <td>deposit</td>\n",
              "      <td>administration</td>\n",
              "    </tr>\n",
              "    <tr>\n",
              "      <th>Topic 5</th>\n",
              "      <td>canada</td>\n",
              "      <td>club</td>\n",
              "      <td>event</td>\n",
              "      <td>survey</td>\n",
              "      <td>community</td>\n",
              "      <td>team</td>\n",
              "      <td>volunteer</td>\n",
              "      <td>vote</td>\n",
              "      <td>form_gle</td>\n",
              "      <td>government</td>\n",
              "      <td>election</td>\n",
              "      <td>participate</td>\n",
              "      <td>html</td>\n",
              "      <td>union</td>\n",
              "      <td>virtual</td>\n",
              "      <td>politics</td>\n",
              "    </tr>\n",
              "    <tr>\n",
              "      <th>Topic 6</th>\n",
              "      <td>econ</td>\n",
              "      <td>note</td>\n",
              "      <td>stats</td>\n",
              "      <td>syllabus</td>\n",
              "      <td>swap</td>\n",
              "      <td>soc</td>\n",
              "      <td>edu</td>\n",
              "      <td>willing</td>\n",
              "      <td>mwf</td>\n",
              "      <td>civ_e</td>\n",
              "      <td>buddy</td>\n",
              "      <td>wagner</td>\n",
              "      <td>lecture</td>\n",
              "      <td>gainer</td>\n",
              "      <td>buec</td>\n",
              "      <td>courses2</td>\n",
              "    </tr>\n",
              "    <tr>\n",
              "      <th>Topic 7</th>\n",
              "      <td>final</td>\n",
              "      <td>exam</td>\n",
              "      <td>mark</td>\n",
              "      <td>poll</td>\n",
              "      <td>write</td>\n",
              "      <td>midterm</td>\n",
              "      <td>grade</td>\n",
              "      <td>view_poll</td>\n",
              "      <td>curve</td>\n",
              "      <td>essay</td>\n",
              "      <td>quiz</td>\n",
              "      <td>calculator</td>\n",
              "      <td>scale</td>\n",
              "      <td>percent</td>\n",
              "      <td>distribution</td>\n",
              "      <td>assessments</td>\n",
              "    </tr>\n",
              "    <tr>\n",
              "      <th>Topic 8</th>\n",
              "      <td>park</td>\n",
              "      <td>building</td>\n",
              "      <td>laptop</td>\n",
              "      <td>card</td>\n",
              "      <td>bus</td>\n",
              "      <td>rent</td>\n",
              "      <td>onecard</td>\n",
              "      <td>insurance</td>\n",
              "      <td>opt</td>\n",
              "      <td>car</td>\n",
              "      <td>arc_card</td>\n",
              "      <td>dental</td>\n",
              "      <td>upass</td>\n",
              "      <td>photo</td>\n",
              "      <td>campus</td>\n",
              "      <td>resources</td>\n",
              "    </tr>\n",
              "    <tr>\n",
              "      <th>Topic 9</th>\n",
              "      <td>book</td>\n",
              "      <td>library</td>\n",
              "      <td>floor</td>\n",
              "      <td>tutor</td>\n",
              "      <td>code</td>\n",
              "      <td>youtube</td>\n",
              "      <td>vaccine</td>\n",
              "      <td>rutherford</td>\n",
              "      <td>bookstore</td>\n",
              "      <td>lock</td>\n",
              "      <td>download</td>\n",
              "      <td>edition</td>\n",
              "      <td>bathroom</td>\n",
              "      <td>manual</td>\n",
              "      <td>washroom</td>\n",
              "      <td>resources2</td>\n",
              "    </tr>\n",
              "    <tr>\n",
              "      <th>Topic 10</th>\n",
              "      <td>preview_redd_it</td>\n",
              "      <td>png_width_format_png_auto_webp</td>\n",
              "      <td>doctor</td>\n",
              "      <td>vaccination</td>\n",
              "      <td>server</td>\n",
              "      <td>jpg_width_format_pjpg_auto_webp</td>\n",
              "      <td>drink</td>\n",
              "      <td>symptom</td>\n",
              "      <td>clinic</td>\n",
              "      <td>parking</td>\n",
              "      <td>discord_server</td>\n",
              "      <td>glass</td>\n",
              "      <td>pain</td>\n",
              "      <td>rapid_test</td>\n",
              "      <td>night</td>\n",
              "      <td>covid</td>\n",
              "    </tr>\n",
              "    <tr>\n",
              "      <th>Topic 11</th>\n",
              "      <td>music</td>\n",
              "      <td>thegatewayonline</td>\n",
              "      <td>the_gateway</td>\n",
              "      <td>launchpad</td>\n",
              "      <td>ghoul</td>\n",
              "      <td>war</td>\n",
              "      <td>after</td>\n",
              "      <td>mandate</td>\n",
              "      <td>agreement</td>\n",
              "      <td>cough</td>\n",
              "      <td>completion</td>\n",
              "      <td>tim</td>\n",
              "      <td>piano</td>\n",
              "      <td>film</td>\n",
              "      <td>band</td>\n",
              "      <td>student_life</td>\n",
              "    </tr>\n",
              "  </tbody>\n",
              "</table>\n",
              "</div>\n",
              "      <button class=\"colab-df-convert\" onclick=\"convertToInteractive('df-9571ca5e-5a50-45d9-bbb9-73cb82341484')\"\n",
              "              title=\"Convert this dataframe to an interactive table.\"\n",
              "              style=\"display:none;\">\n",
              "        \n",
              "  <svg xmlns=\"http://www.w3.org/2000/svg\" height=\"24px\"viewBox=\"0 0 24 24\"\n",
              "       width=\"24px\">\n",
              "    <path d=\"M0 0h24v24H0V0z\" fill=\"none\"/>\n",
              "    <path d=\"M18.56 5.44l.94 2.06.94-2.06 2.06-.94-2.06-.94-.94-2.06-.94 2.06-2.06.94zm-11 1L8.5 8.5l.94-2.06 2.06-.94-2.06-.94L8.5 2.5l-.94 2.06-2.06.94zm10 10l.94 2.06.94-2.06 2.06-.94-2.06-.94-.94-2.06-.94 2.06-2.06.94z\"/><path d=\"M17.41 7.96l-1.37-1.37c-.4-.4-.92-.59-1.43-.59-.52 0-1.04.2-1.43.59L10.3 9.45l-7.72 7.72c-.78.78-.78 2.05 0 2.83L4 21.41c.39.39.9.59 1.41.59.51 0 1.02-.2 1.41-.59l7.78-7.78 2.81-2.81c.8-.78.8-2.07 0-2.86zM5.41 20L4 18.59l7.72-7.72 1.47 1.35L5.41 20z\"/>\n",
              "  </svg>\n",
              "      </button>\n",
              "      \n",
              "  <style>\n",
              "    .colab-df-container {\n",
              "      display:flex;\n",
              "      flex-wrap:wrap;\n",
              "      gap: 12px;\n",
              "    }\n",
              "\n",
              "    .colab-df-convert {\n",
              "      background-color: #E8F0FE;\n",
              "      border: none;\n",
              "      border-radius: 50%;\n",
              "      cursor: pointer;\n",
              "      display: none;\n",
              "      fill: #1967D2;\n",
              "      height: 32px;\n",
              "      padding: 0 0 0 0;\n",
              "      width: 32px;\n",
              "    }\n",
              "\n",
              "    .colab-df-convert:hover {\n",
              "      background-color: #E2EBFA;\n",
              "      box-shadow: 0px 1px 2px rgba(60, 64, 67, 0.3), 0px 1px 3px 1px rgba(60, 64, 67, 0.15);\n",
              "      fill: #174EA6;\n",
              "    }\n",
              "\n",
              "    [theme=dark] .colab-df-convert {\n",
              "      background-color: #3B4455;\n",
              "      fill: #D2E3FC;\n",
              "    }\n",
              "\n",
              "    [theme=dark] .colab-df-convert:hover {\n",
              "      background-color: #434B5C;\n",
              "      box-shadow: 0px 1px 3px 1px rgba(0, 0, 0, 0.15);\n",
              "      filter: drop-shadow(0px 1px 2px rgba(0, 0, 0, 0.3));\n",
              "      fill: #FFFFFF;\n",
              "    }\n",
              "  </style>\n",
              "\n",
              "      <script>\n",
              "        const buttonEl =\n",
              "          document.querySelector('#df-9571ca5e-5a50-45d9-bbb9-73cb82341484 button.colab-df-convert');\n",
              "        buttonEl.style.display =\n",
              "          google.colab.kernel.accessAllowed ? 'block' : 'none';\n",
              "\n",
              "        async function convertToInteractive(key) {\n",
              "          const element = document.querySelector('#df-9571ca5e-5a50-45d9-bbb9-73cb82341484');\n",
              "          const dataTable =\n",
              "            await google.colab.kernel.invokeFunction('convertToInteractive',\n",
              "                                                     [key], {});\n",
              "          if (!dataTable) return;\n",
              "\n",
              "          const docLinkHtml = 'Like what you see? Visit the ' +\n",
              "            '<a target=\"_blank\" href=https://colab.research.google.com/notebooks/data_table.ipynb>data table notebook</a>'\n",
              "            + ' to learn more about interactive tables.';\n",
              "          element.innerHTML = '';\n",
              "          dataTable['output_type'] = 'display_data';\n",
              "          await google.colab.output.renderOutput(dataTable, element);\n",
              "          const docLink = document.createElement('div');\n",
              "          docLink.innerHTML = docLinkHtml;\n",
              "          element.appendChild(docLink);\n",
              "        }\n",
              "      </script>\n",
              "    </div>\n",
              "  </div>\n",
              "  "
            ]
          },
          "metadata": {},
          "execution_count": 56
        }
      ]
    },
    {
      "cell_type": "code",
      "source": [
        "topics2[:11]"
      ],
      "metadata": {
        "colab": {
          "base_uri": "https://localhost:8080/",
          "height": 394
        },
        "id": "4DQueee54_o8",
        "outputId": "33833d68-1354-4169-d44c-0f2961219280"
      },
      "execution_count": null,
      "outputs": [
        {
          "output_type": "execute_result",
          "data": {
            "text/plain": [
              "                        0           1         2  \\\n",
              "Topic 1               get        like      time   \n",
              "Topic 2              year     program       get   \n",
              "Topic 3            course        take     class   \n",
              "Topic 4               get       email    anyone   \n",
              "Topic 5           student  university  ualberta   \n",
              "Topic 6            anyone       class    please   \n",
              "Topic 7             final        exam     grade   \n",
              "Topic 8            campus        know    anyone   \n",
              "Topic 9               lab         use      book   \n",
              "Topic 10  preview_redd_it       night      food   \n",
              "Topic 11            music      strike    remove   \n",
              "\n",
              "                                       3        4       5              6  \\\n",
              "Topic 1                             feel   people    make         really   \n",
              "Topic 2                          science  student     gpa          first   \n",
              "Topic 3                           spring   anyone    math       semester   \n",
              "Topic 4                              say  student   still           know   \n",
              "Topic 5                          alberta      www     com  international   \n",
              "Topic 6                             note     know    help          study   \n",
              "Topic 7                          midterm     mark   write       question   \n",
              "Topic 8                            place     find     get            use   \n",
              "Topic 9                         textbook  library    open          floor   \n",
              "Topic 10  png_width_format_png_auto_webp    covid    fuck           test   \n",
              "Topic 11                thegatewayonline     mask  appeal   presentation   \n",
              "\n",
              "                    7            8        9          10          11        12  \\\n",
              "Topic 1          know         want     even       think        work     class   \n",
              "Topic 2         apply  engineering    would      degree    transfer    school   \n",
              "Topic 3        summer         fall     term       would      winter      year   \n",
              "Topic 4          time  application    class    deadline  beartracks      back   \n",
              "Topic 5      research       canada     club        look        join     group   \n",
              "Topic 6         would      lecture     econ      remove         soc    thanks   \n",
              "Topic 7           get         prof  average  assignment        math     class   \n",
              "Topic 8           one         park     lose    building        open      room   \n",
              "Topic 9        access         name     need       tutor       video      code   \n",
              "Topic 10          day       doctor  morning       today      server       eat   \n",
              "Topic 11  the_gateway    launchpad   report       ghoul        data  academic   \n",
              "\n",
              "                   13       14          Labels  \n",
              "Topic 1         thing     year   mental_health  \n",
              "Topic 2         major     know  degree_program  \n",
              "Topic 3        online      one         courses  \n",
              "Topic 4           day  receive  administration  \n",
              "Topic 5        campus     uofa        politics  \n",
              "Topic 6      syllabus  someone        courses2  \n",
              "Topic 7        reddit     test     assessments  \n",
              "Topic 8        laptop      pay       resources  \n",
              "Topic 9           buy     free      resources2  \n",
              "Topic 10  vaccination      man           covid  \n",
              "Topic 11          law      war    student_life  "
            ],
            "text/html": [
              "\n",
              "  <div id=\"df-fb38b182-ed92-4d35-964c-b295928fb95b\">\n",
              "    <div class=\"colab-df-container\">\n",
              "      <div>\n",
              "<style scoped>\n",
              "    .dataframe tbody tr th:only-of-type {\n",
              "        vertical-align: middle;\n",
              "    }\n",
              "\n",
              "    .dataframe tbody tr th {\n",
              "        vertical-align: top;\n",
              "    }\n",
              "\n",
              "    .dataframe thead th {\n",
              "        text-align: right;\n",
              "    }\n",
              "</style>\n",
              "<table border=\"1\" class=\"dataframe\">\n",
              "  <thead>\n",
              "    <tr style=\"text-align: right;\">\n",
              "      <th></th>\n",
              "      <th>0</th>\n",
              "      <th>1</th>\n",
              "      <th>2</th>\n",
              "      <th>3</th>\n",
              "      <th>4</th>\n",
              "      <th>5</th>\n",
              "      <th>6</th>\n",
              "      <th>7</th>\n",
              "      <th>8</th>\n",
              "      <th>9</th>\n",
              "      <th>10</th>\n",
              "      <th>11</th>\n",
              "      <th>12</th>\n",
              "      <th>13</th>\n",
              "      <th>14</th>\n",
              "      <th>Labels</th>\n",
              "    </tr>\n",
              "  </thead>\n",
              "  <tbody>\n",
              "    <tr>\n",
              "      <th>Topic 1</th>\n",
              "      <td>get</td>\n",
              "      <td>like</td>\n",
              "      <td>time</td>\n",
              "      <td>feel</td>\n",
              "      <td>people</td>\n",
              "      <td>make</td>\n",
              "      <td>really</td>\n",
              "      <td>know</td>\n",
              "      <td>want</td>\n",
              "      <td>even</td>\n",
              "      <td>think</td>\n",
              "      <td>work</td>\n",
              "      <td>class</td>\n",
              "      <td>thing</td>\n",
              "      <td>year</td>\n",
              "      <td>mental_health</td>\n",
              "    </tr>\n",
              "    <tr>\n",
              "      <th>Topic 2</th>\n",
              "      <td>year</td>\n",
              "      <td>program</td>\n",
              "      <td>get</td>\n",
              "      <td>science</td>\n",
              "      <td>student</td>\n",
              "      <td>gpa</td>\n",
              "      <td>first</td>\n",
              "      <td>apply</td>\n",
              "      <td>engineering</td>\n",
              "      <td>would</td>\n",
              "      <td>degree</td>\n",
              "      <td>transfer</td>\n",
              "      <td>school</td>\n",
              "      <td>major</td>\n",
              "      <td>know</td>\n",
              "      <td>degree_program</td>\n",
              "    </tr>\n",
              "    <tr>\n",
              "      <th>Topic 3</th>\n",
              "      <td>course</td>\n",
              "      <td>take</td>\n",
              "      <td>class</td>\n",
              "      <td>spring</td>\n",
              "      <td>anyone</td>\n",
              "      <td>math</td>\n",
              "      <td>semester</td>\n",
              "      <td>summer</td>\n",
              "      <td>fall</td>\n",
              "      <td>term</td>\n",
              "      <td>would</td>\n",
              "      <td>winter</td>\n",
              "      <td>year</td>\n",
              "      <td>online</td>\n",
              "      <td>one</td>\n",
              "      <td>courses</td>\n",
              "    </tr>\n",
              "    <tr>\n",
              "      <th>Topic 4</th>\n",
              "      <td>get</td>\n",
              "      <td>email</td>\n",
              "      <td>anyone</td>\n",
              "      <td>say</td>\n",
              "      <td>student</td>\n",
              "      <td>still</td>\n",
              "      <td>know</td>\n",
              "      <td>time</td>\n",
              "      <td>application</td>\n",
              "      <td>class</td>\n",
              "      <td>deadline</td>\n",
              "      <td>beartracks</td>\n",
              "      <td>back</td>\n",
              "      <td>day</td>\n",
              "      <td>receive</td>\n",
              "      <td>administration</td>\n",
              "    </tr>\n",
              "    <tr>\n",
              "      <th>Topic 5</th>\n",
              "      <td>student</td>\n",
              "      <td>university</td>\n",
              "      <td>ualberta</td>\n",
              "      <td>alberta</td>\n",
              "      <td>www</td>\n",
              "      <td>com</td>\n",
              "      <td>international</td>\n",
              "      <td>research</td>\n",
              "      <td>canada</td>\n",
              "      <td>club</td>\n",
              "      <td>look</td>\n",
              "      <td>join</td>\n",
              "      <td>group</td>\n",
              "      <td>campus</td>\n",
              "      <td>uofa</td>\n",
              "      <td>politics</td>\n",
              "    </tr>\n",
              "    <tr>\n",
              "      <th>Topic 6</th>\n",
              "      <td>anyone</td>\n",
              "      <td>class</td>\n",
              "      <td>please</td>\n",
              "      <td>note</td>\n",
              "      <td>know</td>\n",
              "      <td>help</td>\n",
              "      <td>study</td>\n",
              "      <td>would</td>\n",
              "      <td>lecture</td>\n",
              "      <td>econ</td>\n",
              "      <td>remove</td>\n",
              "      <td>soc</td>\n",
              "      <td>thanks</td>\n",
              "      <td>syllabus</td>\n",
              "      <td>someone</td>\n",
              "      <td>courses2</td>\n",
              "    </tr>\n",
              "    <tr>\n",
              "      <th>Topic 7</th>\n",
              "      <td>final</td>\n",
              "      <td>exam</td>\n",
              "      <td>grade</td>\n",
              "      <td>midterm</td>\n",
              "      <td>mark</td>\n",
              "      <td>write</td>\n",
              "      <td>question</td>\n",
              "      <td>get</td>\n",
              "      <td>prof</td>\n",
              "      <td>average</td>\n",
              "      <td>assignment</td>\n",
              "      <td>math</td>\n",
              "      <td>class</td>\n",
              "      <td>reddit</td>\n",
              "      <td>test</td>\n",
              "      <td>assessments</td>\n",
              "    </tr>\n",
              "    <tr>\n",
              "      <th>Topic 8</th>\n",
              "      <td>campus</td>\n",
              "      <td>know</td>\n",
              "      <td>anyone</td>\n",
              "      <td>place</td>\n",
              "      <td>find</td>\n",
              "      <td>get</td>\n",
              "      <td>use</td>\n",
              "      <td>one</td>\n",
              "      <td>park</td>\n",
              "      <td>lose</td>\n",
              "      <td>building</td>\n",
              "      <td>open</td>\n",
              "      <td>room</td>\n",
              "      <td>laptop</td>\n",
              "      <td>pay</td>\n",
              "      <td>resources</td>\n",
              "    </tr>\n",
              "    <tr>\n",
              "      <th>Topic 9</th>\n",
              "      <td>lab</td>\n",
              "      <td>use</td>\n",
              "      <td>book</td>\n",
              "      <td>textbook</td>\n",
              "      <td>library</td>\n",
              "      <td>open</td>\n",
              "      <td>floor</td>\n",
              "      <td>access</td>\n",
              "      <td>name</td>\n",
              "      <td>need</td>\n",
              "      <td>tutor</td>\n",
              "      <td>video</td>\n",
              "      <td>code</td>\n",
              "      <td>buy</td>\n",
              "      <td>free</td>\n",
              "      <td>resources2</td>\n",
              "    </tr>\n",
              "    <tr>\n",
              "      <th>Topic 10</th>\n",
              "      <td>preview_redd_it</td>\n",
              "      <td>night</td>\n",
              "      <td>food</td>\n",
              "      <td>png_width_format_png_auto_webp</td>\n",
              "      <td>covid</td>\n",
              "      <td>fuck</td>\n",
              "      <td>test</td>\n",
              "      <td>day</td>\n",
              "      <td>doctor</td>\n",
              "      <td>morning</td>\n",
              "      <td>today</td>\n",
              "      <td>server</td>\n",
              "      <td>eat</td>\n",
              "      <td>vaccination</td>\n",
              "      <td>man</td>\n",
              "      <td>covid</td>\n",
              "    </tr>\n",
              "    <tr>\n",
              "      <th>Topic 11</th>\n",
              "      <td>music</td>\n",
              "      <td>strike</td>\n",
              "      <td>remove</td>\n",
              "      <td>thegatewayonline</td>\n",
              "      <td>mask</td>\n",
              "      <td>appeal</td>\n",
              "      <td>presentation</td>\n",
              "      <td>the_gateway</td>\n",
              "      <td>launchpad</td>\n",
              "      <td>report</td>\n",
              "      <td>ghoul</td>\n",
              "      <td>data</td>\n",
              "      <td>academic</td>\n",
              "      <td>law</td>\n",
              "      <td>war</td>\n",
              "      <td>student_life</td>\n",
              "    </tr>\n",
              "  </tbody>\n",
              "</table>\n",
              "</div>\n",
              "      <button class=\"colab-df-convert\" onclick=\"convertToInteractive('df-fb38b182-ed92-4d35-964c-b295928fb95b')\"\n",
              "              title=\"Convert this dataframe to an interactive table.\"\n",
              "              style=\"display:none;\">\n",
              "        \n",
              "  <svg xmlns=\"http://www.w3.org/2000/svg\" height=\"24px\"viewBox=\"0 0 24 24\"\n",
              "       width=\"24px\">\n",
              "    <path d=\"M0 0h24v24H0V0z\" fill=\"none\"/>\n",
              "    <path d=\"M18.56 5.44l.94 2.06.94-2.06 2.06-.94-2.06-.94-.94-2.06-.94 2.06-2.06.94zm-11 1L8.5 8.5l.94-2.06 2.06-.94-2.06-.94L8.5 2.5l-.94 2.06-2.06.94zm10 10l.94 2.06.94-2.06 2.06-.94-2.06-.94-.94-2.06-.94 2.06-2.06.94z\"/><path d=\"M17.41 7.96l-1.37-1.37c-.4-.4-.92-.59-1.43-.59-.52 0-1.04.2-1.43.59L10.3 9.45l-7.72 7.72c-.78.78-.78 2.05 0 2.83L4 21.41c.39.39.9.59 1.41.59.51 0 1.02-.2 1.41-.59l7.78-7.78 2.81-2.81c.8-.78.8-2.07 0-2.86zM5.41 20L4 18.59l7.72-7.72 1.47 1.35L5.41 20z\"/>\n",
              "  </svg>\n",
              "      </button>\n",
              "      \n",
              "  <style>\n",
              "    .colab-df-container {\n",
              "      display:flex;\n",
              "      flex-wrap:wrap;\n",
              "      gap: 12px;\n",
              "    }\n",
              "\n",
              "    .colab-df-convert {\n",
              "      background-color: #E8F0FE;\n",
              "      border: none;\n",
              "      border-radius: 50%;\n",
              "      cursor: pointer;\n",
              "      display: none;\n",
              "      fill: #1967D2;\n",
              "      height: 32px;\n",
              "      padding: 0 0 0 0;\n",
              "      width: 32px;\n",
              "    }\n",
              "\n",
              "    .colab-df-convert:hover {\n",
              "      background-color: #E2EBFA;\n",
              "      box-shadow: 0px 1px 2px rgba(60, 64, 67, 0.3), 0px 1px 3px 1px rgba(60, 64, 67, 0.15);\n",
              "      fill: #174EA6;\n",
              "    }\n",
              "\n",
              "    [theme=dark] .colab-df-convert {\n",
              "      background-color: #3B4455;\n",
              "      fill: #D2E3FC;\n",
              "    }\n",
              "\n",
              "    [theme=dark] .colab-df-convert:hover {\n",
              "      background-color: #434B5C;\n",
              "      box-shadow: 0px 1px 3px 1px rgba(0, 0, 0, 0.15);\n",
              "      filter: drop-shadow(0px 1px 2px rgba(0, 0, 0, 0.3));\n",
              "      fill: #FFFFFF;\n",
              "    }\n",
              "  </style>\n",
              "\n",
              "      <script>\n",
              "        const buttonEl =\n",
              "          document.querySelector('#df-fb38b182-ed92-4d35-964c-b295928fb95b button.colab-df-convert');\n",
              "        buttonEl.style.display =\n",
              "          google.colab.kernel.accessAllowed ? 'block' : 'none';\n",
              "\n",
              "        async function convertToInteractive(key) {\n",
              "          const element = document.querySelector('#df-fb38b182-ed92-4d35-964c-b295928fb95b');\n",
              "          const dataTable =\n",
              "            await google.colab.kernel.invokeFunction('convertToInteractive',\n",
              "                                                     [key], {});\n",
              "          if (!dataTable) return;\n",
              "\n",
              "          const docLinkHtml = 'Like what you see? Visit the ' +\n",
              "            '<a target=\"_blank\" href=https://colab.research.google.com/notebooks/data_table.ipynb>data table notebook</a>'\n",
              "            + ' to learn more about interactive tables.';\n",
              "          element.innerHTML = '';\n",
              "          dataTable['output_type'] = 'display_data';\n",
              "          await google.colab.output.renderOutput(dataTable, element);\n",
              "          const docLink = document.createElement('div');\n",
              "          docLink.innerHTML = docLinkHtml;\n",
              "          element.appendChild(docLink);\n",
              "        }\n",
              "      </script>\n",
              "    </div>\n",
              "  </div>\n",
              "  "
            ]
          },
          "metadata": {},
          "execution_count": 57
        }
      ]
    },
    {
      "cell_type": "markdown",
      "source": [
        "### Label the topics"
      ],
      "metadata": {
        "id": "QaA1vRoJ106F"
      }
    },
    {
      "cell_type": "code",
      "source": [
        "labels = ['mental_health', 'degree_program', 'courses', 'administration', 'politics', 'courses2', 'assessments', 'resources', 'resources2', 'covid','student_life']"
      ],
      "metadata": {
        "id": "U2nXD6G8318k"
      },
      "execution_count": null,
      "outputs": []
    },
    {
      "cell_type": "code",
      "source": [
        "topics['Labels'] = labels"
      ],
      "metadata": {
        "id": "uiNvQKR-7BSn"
      },
      "execution_count": null,
      "outputs": []
    },
    {
      "cell_type": "code",
      "source": [
        "topics2['Labels'] = labels"
      ],
      "metadata": {
        "id": "_BH3fvSh7tZy"
      },
      "execution_count": null,
      "outputs": []
    },
    {
      "cell_type": "code",
      "source": [
        "topics.to_csv('RelevancyTopics.csv', header=True)"
      ],
      "metadata": {
        "id": "CKhabVWwfv4s"
      },
      "execution_count": null,
      "outputs": []
    },
    {
      "cell_type": "code",
      "source": [
        "topics.to_json('RelevancyTopics.json', orient='columns')"
      ],
      "metadata": {
        "id": "PjCXPnUHf9oI"
      },
      "execution_count": null,
      "outputs": []
    },
    {
      "cell_type": "code",
      "source": [
        "topics2.to_csv('FrequencyTopics.csv', header=True)"
      ],
      "metadata": {
        "id": "UFlfWHBk5XnS"
      },
      "execution_count": null,
      "outputs": []
    },
    {
      "cell_type": "code",
      "source": [
        "topics2.to_json('FrequencyTopics.json', orient='columns')"
      ],
      "metadata": {
        "id": "mK2WOgCd5Zid"
      },
      "execution_count": null,
      "outputs": []
    },
    {
      "cell_type": "markdown",
      "source": [
        "## Save the Models"
      ],
      "metadata": {
        "id": "PibmME4HRMYj"
      }
    },
    {
      "cell_type": "code",
      "source": [
        "ldamodel.save(\"Model\")"
      ],
      "metadata": {
        "colab": {
          "base_uri": "https://localhost:8080/"
        },
        "id": "awRnm0gWROma",
        "outputId": "6fa72f12-96cc-4e40-c94f-43175f52b407"
      },
      "execution_count": null,
      "outputs": [
        {
          "output_type": "stream",
          "name": "stderr",
          "text": [
            "/usr/local/lib/python3.7/dist-packages/smart_open/smart_open_lib.py:494: DeprecationWarning: This function is deprecated.  See https://github.com/RaRe-Technologies/smart_open/blob/develop/MIGRATING_FROM_OLDER_VERSIONS.rst for more information\n",
            "  warnings.warn(message, category=DeprecationWarning)\n",
            "/usr/local/lib/python3.7/dist-packages/smart_open/smart_open_lib.py:494: DeprecationWarning: This function is deprecated.  See https://github.com/RaRe-Technologies/smart_open/blob/develop/MIGRATING_FROM_OLDER_VERSIONS.rst for more information\n",
            "  warnings.warn(message, category=DeprecationWarning)\n",
            "/usr/local/lib/python3.7/dist-packages/smart_open/smart_open_lib.py:494: DeprecationWarning: This function is deprecated.  See https://github.com/RaRe-Technologies/smart_open/blob/develop/MIGRATING_FROM_OLDER_VERSIONS.rst for more information\n",
            "  warnings.warn(message, category=DeprecationWarning)\n"
          ]
        }
      ]
    },
    {
      "cell_type": "markdown",
      "source": [
        "## Load the Models"
      ],
      "metadata": {
        "id": "vBRZEUIrPqak"
      }
    },
    {
      "cell_type": "code",
      "source": [
        "model = models.ldamodel.LdaModel.load(\"Model\")"
      ],
      "metadata": {
        "id": "UFm2ShXcOubv",
        "colab": {
          "base_uri": "https://localhost:8080/"
        },
        "outputId": "8f717ae3-642e-4f58-bd9f-8ad72d0af5a6"
      },
      "execution_count": null,
      "outputs": [
        {
          "output_type": "stream",
          "name": "stderr",
          "text": [
            "/usr/local/lib/python3.7/dist-packages/smart_open/smart_open_lib.py:494: DeprecationWarning: This function is deprecated.  See https://github.com/RaRe-Technologies/smart_open/blob/develop/MIGRATING_FROM_OLDER_VERSIONS.rst for more information\n",
            "  warnings.warn(message, category=DeprecationWarning)\n",
            "/usr/local/lib/python3.7/dist-packages/smart_open/smart_open_lib.py:494: DeprecationWarning: This function is deprecated.  See https://github.com/RaRe-Technologies/smart_open/blob/develop/MIGRATING_FROM_OLDER_VERSIONS.rst for more information\n",
            "  warnings.warn(message, category=DeprecationWarning)\n",
            "/usr/local/lib/python3.7/dist-packages/smart_open/smart_open_lib.py:494: DeprecationWarning: This function is deprecated.  See https://github.com/RaRe-Technologies/smart_open/blob/develop/MIGRATING_FROM_OLDER_VERSIONS.rst for more information\n",
            "  warnings.warn(message, category=DeprecationWarning)\n"
          ]
        }
      ]
    }
  ],
  "metadata": {
    "colab": {
      "name": "LDA.ipynb",
      "provenance": [],
      "collapsed_sections": []
    },
    "gpuClass": "standard",
    "kernelspec": {
      "display_name": "Python 3",
      "name": "python3"
    },
    "language_info": {
      "name": "python"
    }
  },
  "nbformat": 4,
  "nbformat_minor": 0
}