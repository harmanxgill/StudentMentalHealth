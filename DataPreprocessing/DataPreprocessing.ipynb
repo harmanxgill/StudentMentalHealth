{
  "nbformat": 4,
  "nbformat_minor": 0,
  "metadata": {
    "colab": {
      "name": "DataPreprocessing.ipynb",
      "provenance": []
    },
    "kernelspec": {
      "name": "python3",
      "display_name": "Python 3"
    },
    "language_info": {
      "name": "python"
    }
  },
  "cells": [
    {
      "cell_type": "markdown",
      "source": [
        "# Student Mental Health\n",
        "## Data Preprocessing\n",
        "Author: Harman Gill\n",
        "\n",
        "\n"
      ],
      "metadata": {
        "id": "fWbyXw2NlnLs"
      }
    },
    {
      "cell_type": "markdown",
      "source": [
        "## Install Libraries"
      ],
      "metadata": {
        "id": "1P9u8R6HotY9"
      }
    },
    {
      "cell_type": "code",
      "source": [
        "!pip install emot"
      ],
      "metadata": {
        "colab": {
          "base_uri": "https://localhost:8080/"
        },
        "id": "evHlCU1tnCMF",
        "outputId": "f236e283-0a87-4687-e41f-0f6e36cf47bd"
      },
      "execution_count": null,
      "outputs": [
        {
          "output_type": "stream",
          "name": "stdout",
          "text": [
            "Looking in indexes: https://pypi.org/simple, https://us-python.pkg.dev/colab-wheels/public/simple/\n",
            "Collecting emot\n",
            "  Downloading emot-3.1-py3-none-any.whl (61 kB)\n",
            "\u001b[K     |████████████████████████████████| 61 kB 17 kB/s \n",
            "\u001b[?25hInstalling collected packages: emot\n",
            "Successfully installed emot-3.1\n"
          ]
        }
      ]
    },
    {
      "cell_type": "code",
      "source": [
        "!pip install pdfplumber"
      ],
      "metadata": {
        "colab": {
          "base_uri": "https://localhost:8080/",
          "height": 538
        },
        "id": "5OzU5H-bygK4",
        "outputId": "8bede97a-d602-452e-9bc7-3db2e1dced98"
      },
      "execution_count": null,
      "outputs": [
        {
          "output_type": "stream",
          "name": "stdout",
          "text": [
            "Looking in indexes: https://pypi.org/simple, https://us-python.pkg.dev/colab-wheels/public/simple/\n",
            "Collecting pdfplumber\n",
            "  Downloading pdfplumber-0.7.4-py3-none-any.whl (40 kB)\n",
            "\u001b[K     |████████████████████████████████| 40 kB 3.3 MB/s \n",
            "\u001b[?25hCollecting Pillow>=9.1\n",
            "  Downloading Pillow-9.2.0-cp37-cp37m-manylinux_2_17_x86_64.manylinux2014_x86_64.whl (3.1 MB)\n",
            "\u001b[K     |████████████████████████████████| 3.1 MB 7.6 MB/s \n",
            "\u001b[?25hCollecting pdfminer.six==20220524\n",
            "  Downloading pdfminer.six-20220524-py3-none-any.whl (5.6 MB)\n",
            "\u001b[K     |████████████████████████████████| 5.6 MB 29.6 MB/s \n",
            "\u001b[?25hCollecting Wand>=0.6.7\n",
            "  Downloading Wand-0.6.9-py2.py3-none-any.whl (142 kB)\n",
            "\u001b[K     |████████████████████████████████| 142 kB 50.9 MB/s \n",
            "\u001b[?25hRequirement already satisfied: charset-normalizer>=2.0.0 in /usr/local/lib/python3.7/dist-packages (from pdfminer.six==20220524->pdfplumber) (2.1.0)\n",
            "Collecting cryptography>=36.0.0\n",
            "  Downloading cryptography-37.0.4-cp36-abi3-manylinux_2_24_x86_64.whl (4.1 MB)\n",
            "\u001b[K     |████████████████████████████████| 4.1 MB 39.2 MB/s \n",
            "\u001b[?25hRequirement already satisfied: cffi>=1.12 in /usr/local/lib/python3.7/dist-packages (from cryptography>=36.0.0->pdfminer.six==20220524->pdfplumber) (1.15.1)\n",
            "Requirement already satisfied: pycparser in /usr/local/lib/python3.7/dist-packages (from cffi>=1.12->cryptography>=36.0.0->pdfminer.six==20220524->pdfplumber) (2.21)\n",
            "Installing collected packages: cryptography, Wand, Pillow, pdfminer.six, pdfplumber\n",
            "  Attempting uninstall: Pillow\n",
            "    Found existing installation: Pillow 7.1.2\n",
            "    Uninstalling Pillow-7.1.2:\n",
            "      Successfully uninstalled Pillow-7.1.2\n",
            "Successfully installed Pillow-9.2.0 Wand-0.6.9 cryptography-37.0.4 pdfminer.six-20220524 pdfplumber-0.7.4\n"
          ]
        },
        {
          "output_type": "display_data",
          "data": {
            "application/vnd.colab-display-data+json": {
              "pip_warning": {
                "packages": [
                  "PIL"
                ]
              }
            }
          },
          "metadata": {}
        }
      ]
    },
    {
      "cell_type": "markdown",
      "source": [
        "## Import Libraries"
      ],
      "metadata": {
        "id": "5PrfT3pFo00v"
      }
    },
    {
      "cell_type": "code",
      "execution_count": null,
      "metadata": {
        "colab": {
          "base_uri": "https://localhost:8080/"
        },
        "id": "3bI_Ad44lSZL",
        "outputId": "1e8ba83c-2494-4f71-d763-d0ea44fbf536"
      },
      "outputs": [
        {
          "output_type": "stream",
          "name": "stderr",
          "text": [
            "[nltk_data] Downloading package stopwords to /root/nltk_data...\n",
            "[nltk_data]   Package stopwords is already up-to-date!\n",
            "[nltk_data] Downloading package wordnet to /root/nltk_data...\n",
            "[nltk_data]   Package wordnet is already up-to-date!\n",
            "[nltk_data] Downloading package omw-1.4 to /root/nltk_data...\n",
            "[nltk_data]   Package omw-1.4 is already up-to-date!\n",
            "[nltk_data] Downloading package averaged_perceptron_tagger to\n",
            "[nltk_data]     /root/nltk_data...\n",
            "[nltk_data]   Package averaged_perceptron_tagger is already up-to-\n",
            "[nltk_data]       date!\n",
            "[nltk_data] Downloading package punkt to /root/nltk_data...\n",
            "[nltk_data]   Package punkt is already up-to-date!\n"
          ]
        }
      ],
      "source": [
        "# Dependencies\n",
        "import pandas as pd\n",
        "from google.colab import files\n",
        "import numpy as np\n",
        "\n",
        "# Dependencies for Pre-processing\n",
        "import string\n",
        "import nltk\n",
        "nltk.download('stopwords')\n",
        "from nltk.corpus import stopwords\n",
        "from nltk.tokenize import word_tokenize\n",
        "from nltk.stem import WordNetLemmatizer\n",
        "nltk.download('wordnet')\n",
        "nltk.download('omw-1.4')\n",
        "from nltk.corpus import wordnet\n",
        "nltk.download('averaged_perceptron_tagger')\n",
        "nltk.download('punkt')\n",
        "import re\n",
        "import pickle\n",
        "import emot\n",
        "from emot.emo_unicode import UNICODE_EMOJI\n",
        "import gensim\n",
        "from gensim import corpora\n",
        "import pdfplumber"
      ]
    },
    {
      "cell_type": "markdown",
      "source": [
        "## Upload Data\n",
        "\n",
        "\n"
      ],
      "metadata": {
        "id": "ghrBVKzio5ma"
      }
    },
    {
      "cell_type": "code",
      "source": [
        "uploaded = files.upload()"
      ],
      "metadata": {
        "id": "S3xk3UAMpEiP",
        "colab": {
          "resources": {
            "http://localhost:8080/nbextensions/google.colab/files.js": {
              "data": "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",
              "ok": true,
              "headers": [
                [
                  "content-type",
                  "application/javascript"
                ]
              ],
              "status": 200,
              "status_text": ""
            }
          },
          "base_uri": "https://localhost:8080/",
          "height": 73
        },
        "outputId": "4912b8ed-deb8-4eed-f5c4-4eb6e40ee179"
      },
      "execution_count": null,
      "outputs": [
        {
          "output_type": "display_data",
          "data": {
            "text/plain": [
              "<IPython.core.display.HTML object>"
            ],
            "text/html": [
              "\n",
              "     <input type=\"file\" id=\"files-c03582ff-7551-4c29-8745-aa24faa5d76f\" name=\"files[]\" multiple disabled\n",
              "        style=\"border:none\" />\n",
              "     <output id=\"result-c03582ff-7551-4c29-8745-aa24faa5d76f\">\n",
              "      Upload widget is only available when the cell has been executed in the\n",
              "      current browser session. Please rerun this cell to enable.\n",
              "      </output>\n",
              "      <script src=\"/nbextensions/google.colab/files.js\"></script> "
            ]
          },
          "metadata": {}
        },
        {
          "output_type": "stream",
          "name": "stdout",
          "text": [
            "Saving RedditPosts.csv to RedditPosts.csv\n"
          ]
        }
      ]
    },
    {
      "cell_type": "markdown",
      "source": [
        "## Load the Data"
      ],
      "metadata": {
        "id": "8y7Ld95_X3IT"
      }
    },
    {
      "cell_type": "code",
      "source": [
        "df = pd.read_csv('RedditPosts.csv')\n",
        "preprocessed_df = df[['id','title','selftext','author','author_flair_text','created_utc','num_comments']]\n",
        "preprocessed_df['post'] = preprocessed_df['title'].fillna('') + str(\". \") + preprocessed_df['selftext'].fillna('')\n",
        "preprocessed_df = preprocessed_df.drop(['title','selftext'], axis=1)\n",
        "preprocessed_df['post'].replace('', np.nan, inplace=True)\n",
        "preprocessed_df['post'].isna().sum()\n",
        "preprocessed_df= preprocessed_df.dropna(subset=['post'])\n",
        "print(preprocessed_df)"
      ],
      "metadata": {
        "id": "-XwWmOqKX_2c",
        "colab": {
          "base_uri": "https://localhost:8080/"
        },
        "outputId": "35924895-034a-4088-a52c-3b15d896e070"
      },
      "execution_count": null,
      "outputs": [
        {
          "output_type": "stream",
          "name": "stderr",
          "text": [
            "/usr/local/lib/python3.7/dist-packages/IPython/core/interactiveshell.py:2882: DtypeWarning: Columns (1,9,10,25,44,68,70,76,77,78,79,81,82,83,84,85,86,87,88,89,91,93,95) have mixed types.Specify dtype option on import or set low_memory=False.\n",
            "  exec(code_obj, self.user_global_ns, self.user_ns)\n",
            "/usr/local/lib/python3.7/dist-packages/ipykernel_launcher.py:3: SettingWithCopyWarning: \n",
            "A value is trying to be set on a copy of a slice from a DataFrame.\n",
            "Try using .loc[row_indexer,col_indexer] = value instead\n",
            "\n",
            "See the caveats in the documentation: https://pandas.pydata.org/pandas-docs/stable/user_guide/indexing.html#returning-a-view-versus-a-copy\n",
            "  This is separate from the ipykernel package so we can avoid doing imports until\n"
          ]
        },
        {
          "output_type": "stream",
          "name": "stdout",
          "text": [
            "           id                author  \\\n",
            "0      abcz5u           lit12345yxz   \n",
            "1      abd016        PolysciStudent   \n",
            "2      abdm2o       doyouevenschool   \n",
            "3      abev8w         ilovedogs1017   \n",
            "4      abewo8              delciopp   \n",
            "...       ...                   ...   \n",
            "56256  vodkit             vivian352   \n",
            "56257  vodxga           WildWiggety   \n",
            "56258  voh3lj             Kermolion   \n",
            "56259  vojc2e                nurkee   \n",
            "56260  voky74  Mysterious-Chart-930   \n",
            "\n",
            "                                    author_flair_text  \\\n",
            "0                                                 NaN   \n",
            "1                                                 NaN   \n",
            "2                                                 NaN   \n",
            "3                                                 NaN   \n",
            "4                                        MEC E Year 2   \n",
            "...                                               ...   \n",
            "56256                                             NaN   \n",
            "56257    Prospective Student - Faculty of Engineering   \n",
            "56258         Undergraduate Student - Faculty of Arts   \n",
            "56259  Undergraduate Student - Faculty of Engineering   \n",
            "56260          Prospective Student - Faculty of _____   \n",
            "\n",
            "                         created_utc  num_comments  \\\n",
            "0      1970-01-01 00:00:01.546301594             1   \n",
            "1      1970-01-01 00:00:01.546301745            18   \n",
            "2      1970-01-01 00:00:01.546306023             9   \n",
            "3      1970-01-01 00:00:01.546316423             2   \n",
            "4      1970-01-01 00:00:01.546316766            11   \n",
            "...                              ...           ...   \n",
            "56256  1970-01-01 00:00:01.656609253             0   \n",
            "56257  1970-01-01 00:00:01.656610197             0   \n",
            "56258  1970-01-01 00:00:01.656618394             0   \n",
            "56259  1970-01-01 00:00:01.656624297             0   \n",
            "56260  1970-01-01 00:00:01.656628556             0   \n",
            "\n",
            "                                                    post  \n",
            "0      PharmD Application. I was hoping anything that...  \n",
            "1      Happy New Years. I wish you all a happy new ye...  \n",
            "2      New Year’s Resolution.... Learn to accept that...  \n",
            "3      Winter Term Midterms. Does anyone know if midt...  \n",
            "4                    What's your New Years resolution?.   \n",
            "...                                                  ...  \n",
            "56256  Are starbucks, tim hortons...etc always hiring...  \n",
            "56257  Laptop/Computer for Engineer. I am seeking rec...  \n",
            "56258  Computer Game Development Certificate Question...  \n",
            "56259  Unofficial Second Year ENG GPA Submission. Fir...  \n",
            "56260  Student Health Care. Can anyone explain the pr...  \n",
            "\n",
            "[56261 rows x 6 columns]\n"
          ]
        }
      ]
    },
    {
      "cell_type": "code",
      "source": [
        "posts = pd.DataFrame(preprocessed_df.post)\n",
        "posts.head()"
      ],
      "metadata": {
        "id": "hcbnjh6pY2G6",
        "colab": {
          "base_uri": "https://localhost:8080/",
          "height": 206
        },
        "outputId": "c7d5010d-94b9-4e35-8af6-0e544ed7a98d"
      },
      "execution_count": null,
      "outputs": [
        {
          "output_type": "execute_result",
          "data": {
            "text/plain": [
              "                                                post\n",
              "0  PharmD Application. I was hoping anything that...\n",
              "1  Happy New Years. I wish you all a happy new ye...\n",
              "2  New Year’s Resolution.... Learn to accept that...\n",
              "3  Winter Term Midterms. Does anyone know if midt...\n",
              "4                What's your New Years resolution?. "
            ],
            "text/html": [
              "\n",
              "  <div id=\"df-f3e3f5aa-db72-4933-9c6a-52e36abd5244\">\n",
              "    <div class=\"colab-df-container\">\n",
              "      <div>\n",
              "<style scoped>\n",
              "    .dataframe tbody tr th:only-of-type {\n",
              "        vertical-align: middle;\n",
              "    }\n",
              "\n",
              "    .dataframe tbody tr th {\n",
              "        vertical-align: top;\n",
              "    }\n",
              "\n",
              "    .dataframe thead th {\n",
              "        text-align: right;\n",
              "    }\n",
              "</style>\n",
              "<table border=\"1\" class=\"dataframe\">\n",
              "  <thead>\n",
              "    <tr style=\"text-align: right;\">\n",
              "      <th></th>\n",
              "      <th>post</th>\n",
              "    </tr>\n",
              "  </thead>\n",
              "  <tbody>\n",
              "    <tr>\n",
              "      <th>0</th>\n",
              "      <td>PharmD Application. I was hoping anything that...</td>\n",
              "    </tr>\n",
              "    <tr>\n",
              "      <th>1</th>\n",
              "      <td>Happy New Years. I wish you all a happy new ye...</td>\n",
              "    </tr>\n",
              "    <tr>\n",
              "      <th>2</th>\n",
              "      <td>New Year’s Resolution.... Learn to accept that...</td>\n",
              "    </tr>\n",
              "    <tr>\n",
              "      <th>3</th>\n",
              "      <td>Winter Term Midterms. Does anyone know if midt...</td>\n",
              "    </tr>\n",
              "    <tr>\n",
              "      <th>4</th>\n",
              "      <td>What's your New Years resolution?.</td>\n",
              "    </tr>\n",
              "  </tbody>\n",
              "</table>\n",
              "</div>\n",
              "      <button class=\"colab-df-convert\" onclick=\"convertToInteractive('df-f3e3f5aa-db72-4933-9c6a-52e36abd5244')\"\n",
              "              title=\"Convert this dataframe to an interactive table.\"\n",
              "              style=\"display:none;\">\n",
              "        \n",
              "  <svg xmlns=\"http://www.w3.org/2000/svg\" height=\"24px\"viewBox=\"0 0 24 24\"\n",
              "       width=\"24px\">\n",
              "    <path d=\"M0 0h24v24H0V0z\" fill=\"none\"/>\n",
              "    <path d=\"M18.56 5.44l.94 2.06.94-2.06 2.06-.94-2.06-.94-.94-2.06-.94 2.06-2.06.94zm-11 1L8.5 8.5l.94-2.06 2.06-.94-2.06-.94L8.5 2.5l-.94 2.06-2.06.94zm10 10l.94 2.06.94-2.06 2.06-.94-2.06-.94-.94-2.06-.94 2.06-2.06.94z\"/><path d=\"M17.41 7.96l-1.37-1.37c-.4-.4-.92-.59-1.43-.59-.52 0-1.04.2-1.43.59L10.3 9.45l-7.72 7.72c-.78.78-.78 2.05 0 2.83L4 21.41c.39.39.9.59 1.41.59.51 0 1.02-.2 1.41-.59l7.78-7.78 2.81-2.81c.8-.78.8-2.07 0-2.86zM5.41 20L4 18.59l7.72-7.72 1.47 1.35L5.41 20z\"/>\n",
              "  </svg>\n",
              "      </button>\n",
              "      \n",
              "  <style>\n",
              "    .colab-df-container {\n",
              "      display:flex;\n",
              "      flex-wrap:wrap;\n",
              "      gap: 12px;\n",
              "    }\n",
              "\n",
              "    .colab-df-convert {\n",
              "      background-color: #E8F0FE;\n",
              "      border: none;\n",
              "      border-radius: 50%;\n",
              "      cursor: pointer;\n",
              "      display: none;\n",
              "      fill: #1967D2;\n",
              "      height: 32px;\n",
              "      padding: 0 0 0 0;\n",
              "      width: 32px;\n",
              "    }\n",
              "\n",
              "    .colab-df-convert:hover {\n",
              "      background-color: #E2EBFA;\n",
              "      box-shadow: 0px 1px 2px rgba(60, 64, 67, 0.3), 0px 1px 3px 1px rgba(60, 64, 67, 0.15);\n",
              "      fill: #174EA6;\n",
              "    }\n",
              "\n",
              "    [theme=dark] .colab-df-convert {\n",
              "      background-color: #3B4455;\n",
              "      fill: #D2E3FC;\n",
              "    }\n",
              "\n",
              "    [theme=dark] .colab-df-convert:hover {\n",
              "      background-color: #434B5C;\n",
              "      box-shadow: 0px 1px 3px 1px rgba(0, 0, 0, 0.15);\n",
              "      filter: drop-shadow(0px 1px 2px rgba(0, 0, 0, 0.3));\n",
              "      fill: #FFFFFF;\n",
              "    }\n",
              "  </style>\n",
              "\n",
              "      <script>\n",
              "        const buttonEl =\n",
              "          document.querySelector('#df-f3e3f5aa-db72-4933-9c6a-52e36abd5244 button.colab-df-convert');\n",
              "        buttonEl.style.display =\n",
              "          google.colab.kernel.accessAllowed ? 'block' : 'none';\n",
              "\n",
              "        async function convertToInteractive(key) {\n",
              "          const element = document.querySelector('#df-f3e3f5aa-db72-4933-9c6a-52e36abd5244');\n",
              "          const dataTable =\n",
              "            await google.colab.kernel.invokeFunction('convertToInteractive',\n",
              "                                                     [key], {});\n",
              "          if (!dataTable) return;\n",
              "\n",
              "          const docLinkHtml = 'Like what you see? Visit the ' +\n",
              "            '<a target=\"_blank\" href=https://colab.research.google.com/notebooks/data_table.ipynb>data table notebook</a>'\n",
              "            + ' to learn more about interactive tables.';\n",
              "          element.innerHTML = '';\n",
              "          dataTable['output_type'] = 'display_data';\n",
              "          await google.colab.output.renderOutput(dataTable, element);\n",
              "          const docLink = document.createElement('div');\n",
              "          docLink.innerHTML = docLinkHtml;\n",
              "          element.appendChild(docLink);\n",
              "        }\n",
              "      </script>\n",
              "    </div>\n",
              "  </div>\n",
              "  "
            ]
          },
          "metadata": {},
          "execution_count": 10
        }
      ]
    },
    {
      "cell_type": "markdown",
      "source": [
        "## Clean the Data"
      ],
      "metadata": {
        "id": "g_gA_BkIQvy3"
      }
    },
    {
      "cell_type": "code",
      "source": [
        "posts['clean_posts'] = [clean(i) for i in (posts.loc[:,'post'])]"
      ],
      "metadata": {
        "id": "Oyw_LnC5Zac5"
      },
      "execution_count": null,
      "outputs": []
    },
    {
      "cell_type": "code",
      "source": [
        "print(posts)"
      ],
      "metadata": {
        "colab": {
          "base_uri": "https://localhost:8080/"
        },
        "id": "bOUXJKA9Z87l",
        "outputId": "28159c9a-21e5-4b3e-bb60-00605342f018"
      },
      "execution_count": null,
      "outputs": [
        {
          "output_type": "stream",
          "name": "stdout",
          "text": [
            "                                                    post  \\\n",
            "0      PharmD Application. I was hoping anything that...   \n",
            "1      Happy New Years. I wish you all a happy new ye...   \n",
            "2      New Year’s Resolution.... Learn to accept that...   \n",
            "3      Winter Term Midterms. Does anyone know if midt...   \n",
            "4                    What's your New Years resolution?.    \n",
            "...                                                  ...   \n",
            "56256  Are starbucks, tim hortons...etc always hiring...   \n",
            "56257  Laptop/Computer for Engineer. I am seeking rec...   \n",
            "56258  Computer Game Development Certificate Question...   \n",
            "56259  Unofficial Second Year ENG GPA Submission. Fir...   \n",
            "56260  Student Health Care. Can anyone explain the pr...   \n",
            "\n",
            "                                             clean_posts  \n",
            "0      pharmd application hop anything applied pharmd...  \n",
            "1      happy new year wish happy new year learn succe...  \n",
            "2      new year ’ resolution learn accept polyscistud...  \n",
            "3      winter term midterm anyone know midterm genera...  \n",
            "4                                  s new year resolution  \n",
            "...                                                  ...  \n",
            "56256  starbucks tim hortons etc always hire interest...  \n",
            "56257  laptop computer engineer seek recommendation a...  \n",
            "56258  computer game development certificate question...  \n",
            "56259  unofficial second year eng gpa submission firs...  \n",
            "56260  student health care anyone explain process get...  \n",
            "\n",
            "[56261 rows x 2 columns]\n"
          ]
        }
      ]
    },
    {
      "cell_type": "code",
      "source": [
        "def clean(text):\n",
        "  _steps = [\n",
        "           lowercase,\n",
        "           remove_stopwords,\n",
        "           remove_numbers,\n",
        "           remove_line_breaks,\n",
        "           remove_URL,\n",
        "           remove_punctuation,\n",
        "           convert_emojis,\n",
        "           lemma,  \n",
        "  ]\n",
        "  for step in _steps:\n",
        "      text = step(text)\n",
        "  return(text)"
      ],
      "metadata": {
        "id": "xm4GUJMKRc-r"
      },
      "execution_count": null,
      "outputs": []
    },
    {
      "cell_type": "markdown",
      "source": [
        "### Lowercase"
      ],
      "metadata": {
        "id": "y4IqvQ3IRT__"
      }
    },
    {
      "cell_type": "code",
      "source": [
        "def lowercase(text):\n",
        "  low_text = [token.lower() for token in word_tokenize(text)]\n",
        "  return ' '.join(low_text)"
      ],
      "metadata": {
        "id": "QgwjbWh5QRDg"
      },
      "execution_count": null,
      "outputs": []
    },
    {
      "cell_type": "markdown",
      "source": [
        "### Removing Line Breaks"
      ],
      "metadata": {
        "id": "tddWrAnf2LQv"
      }
    },
    {
      "cell_type": "code",
      "source": [
        "def remove_line_breaks(doc):\n",
        "  doc = doc.replace('\\r',' ').replace('\\n',' ')\n",
        "  return doc"
      ],
      "metadata": {
        "id": "7lSKtmqg1ejF"
      },
      "execution_count": null,
      "outputs": []
    },
    {
      "cell_type": "markdown",
      "source": [
        "### Remove URL"
      ],
      "metadata": {
        "id": "OwOku9aB-kSX"
      }
    },
    {
      "cell_type": "code",
      "source": [
        "def remove_URL(text):\n",
        "    return re.sub(r\"http\\S+\", \"\", text)"
      ],
      "metadata": {
        "id": "ckhoULPj-l_W"
      },
      "execution_count": null,
      "outputs": []
    },
    {
      "cell_type": "markdown",
      "source": [
        "### Remove Numbers"
      ],
      "metadata": {
        "id": "7HlcrGcQ1A4a"
      }
    },
    {
      "cell_type": "code",
      "source": [
        "def remove_numbers(text):\n",
        "  text = ''.join(c for c in text if not c.isdigit())\n",
        "  return text"
      ],
      "metadata": {
        "id": "uGv8tJjN1CqN"
      },
      "execution_count": null,
      "outputs": []
    },
    {
      "cell_type": "markdown",
      "source": [
        "### Remove Punctuation"
      ],
      "metadata": {
        "id": "kw_oKdi48g21"
      }
    },
    {
      "cell_type": "code",
      "source": [
        "def remove_punctuation(text):\n",
        "    re_replacements = re.compile(\"__[A-Z]+__\")\n",
        "    re_punctuation = re.compile(\"[%s]\" % re.escape(string.punctuation))\n",
        "    '''Escape all the characters in pattern except ASCII letters and numbers'''\n",
        "    tokens = word_tokenize(text)\n",
        "    tokens_zero_punctuation = []\n",
        "    for token in tokens:\n",
        "        if not re_replacements.match(token):\n",
        "            token = re_punctuation.sub(\" \", token)\n",
        "        tokens_zero_punctuation.append(token)\n",
        "    return ' '.join(tokens_zero_punctuation)"
      ],
      "metadata": {
        "id": "wPmTY0FY8aFZ"
      },
      "execution_count": null,
      "outputs": []
    },
    {
      "cell_type": "markdown",
      "source": [
        "### Remove Stopwords"
      ],
      "metadata": {
        "id": "dq6uHfWPPbag"
      }
    },
    {
      "cell_type": "code",
      "source": [
        "def remove_stopwords(text):\n",
        "  new_stopwords = ['&amp;#x200B', 'amp', 'x200b', 'www', 'https', 'http', 'com']\n",
        "  stop = nltk.corpus.stopwords.words('english')\n",
        "  stop.extend(new_stopwords)\n",
        "  word_tokens = nltk.word_tokenize(text)\n",
        "  text = \" \".join([word for word in word_tokens if word not in stop])\n",
        "  return text"
      ],
      "metadata": {
        "id": "RDX2PotDNBGL"
      },
      "execution_count": null,
      "outputs": []
    },
    {
      "cell_type": "markdown",
      "source": [
        "### Handle emojis"
      ],
      "metadata": {
        "id": "THhWtUHMmIUF"
      }
    },
    {
      "cell_type": "code",
      "source": [
        "def extract_emojis(s):\n",
        "    return ''.join((' '+c+' ') if c in emot.UNICODE_EMOJI else c for c in s)"
      ],
      "metadata": {
        "id": "mjqExP5C-Sjv"
      },
      "execution_count": null,
      "outputs": []
    },
    {
      "cell_type": "code",
      "source": [
        "def convert_emojis(text):\n",
        "  text = extract_emojis(text)\n",
        "  for emot in UNICODE_EMOJI:\n",
        "    text = text.replace(emot, \"_\".join(UNICODE_EMOJI[emot].replace(\",\", \"\").replace(\":\",\"\").split()))\n",
        "  return text"
      ],
      "metadata": {
        "id": "DnllM-6emeLR"
      },
      "execution_count": null,
      "outputs": []
    },
    {
      "cell_type": "markdown",
      "source": [
        "### Lemmatization"
      ],
      "metadata": {
        "id": "3ZFub51EQjEP"
      }
    },
    {
      "cell_type": "code",
      "source": [
        "def lemma(text):\n",
        "  lemmatizer = WordNetLemmatizer()\n",
        "  word_tokens = nltk.pos_tag(nltk.word_tokenize(text))\n",
        "  word_tagged = list(map(lambda x: (x[0], tagger(x[1])), word_tokens))\n",
        "  lemma_text = []\n",
        "  for word, tag in word_tagged:\n",
        "      if tag is None:\n",
        "          lemma_text.append(word)\n",
        "      else:       \n",
        "          lemma_text.append(lemmatizer.lemmatize(word, tag))\n",
        "  lemma_text = \" \".join(lemma_text)\n",
        "  return lemma_text"
      ],
      "metadata": {
        "id": "3yMHTVjhQora"
      },
      "execution_count": null,
      "outputs": []
    },
    {
      "cell_type": "code",
      "source": [
        "def tagger(tag):\n",
        "  if tag.startswith('J'):\n",
        "    return wordnet.ADJ\n",
        "  elif tag.startswith('V'):\n",
        "    return wordnet.VERB\n",
        "  elif tag.startswith('N'):\n",
        "    return wordnet.NOUN\n",
        "  elif tag.startswith('R'):\n",
        "    return wordnet.ADV\n",
        "  else:\n",
        "    return None"
      ],
      "metadata": {
        "id": "Gpls4jzRVSij"
      },
      "execution_count": null,
      "outputs": []
    },
    {
      "cell_type": "markdown",
      "source": [
        "## Form Bigrams"
      ],
      "metadata": {
        "id": "qmQPN8j-QWDR"
      }
    },
    {
      "cell_type": "code",
      "source": [
        "bigram_measures = nltk.collocations.BigramAssocMeasures()\n",
        "finder = nltk.collocations.BigramCollocationFinder.from_documents([post.split() for post in (posts.loc[:,'clean_posts'])])\n",
        "finder.apply_freq_filter(50)\n",
        "bigram_scores = finder.score_ngrams(bigram_measures.pmi)"
      ],
      "metadata": {
        "id": "t1ww-Gs5QbOy"
      },
      "execution_count": null,
      "outputs": []
    },
    {
      "cell_type": "code",
      "source": [
        "bigram_pmi = pd.DataFrame(bigram_scores)\n",
        "bigram_pmi.columns = ['bigram', 'pmi']\n",
        "bigram_pmi.sort_values(by='pmi', axis=0, ascending=False, inplace=True)"
      ],
      "metadata": {
        "id": "pwvfRp48UMoE"
      },
      "execution_count": null,
      "outputs": []
    },
    {
      "cell_type": "markdown",
      "source": [
        "### Filter for bigrams with only noun-type structures"
      ],
      "metadata": {
        "id": "0zTxPKpNUmv9"
      }
    },
    {
      "cell_type": "code",
      "source": [
        "def bigram_filter(bigram):\n",
        "  tag = nltk.pos_tag(bigram)\n",
        "  if tag[0][1] not in ['JJ', 'NN'] and tag[1][1] not in ['NN']:\n",
        "    return False\n",
        "  return True"
      ],
      "metadata": {
        "id": "KAZtA7gBUlib"
      },
      "execution_count": null,
      "outputs": []
    },
    {
      "cell_type": "code",
      "source": [
        "filtered_bigram = bigram_pmi[bigram_pmi.apply(lambda bigram:\\\n",
        "                                              bigram_filter(bigram['bigram'])\\\n",
        "                                              and bigram.pmi > 5, axis = 1)][:100]\n",
        "\n",
        "bigrams = [' '.join(x) for x in filtered_bigram.bigram.values if len(x[0]) > 2 or len(x[1]) > 2]"
      ],
      "metadata": {
        "id": "PbftyES2ers8"
      },
      "execution_count": null,
      "outputs": []
    },
    {
      "cell_type": "code",
      "source": [
        "bigrams[:100]"
      ],
      "metadata": {
        "id": "7_qLaR0AhWW1",
        "colab": {
          "base_uri": "https://localhost:8080/"
        },
        "outputId": "491e662f-acfc-463c-e97f-f154f2c7dfe1"
      },
      "execution_count": null,
      "outputs": [
        {
          "output_type": "execute_result",
          "data": {
            "text/plain": [
              "['poid returnto',\n",
              " '\\u200d female_sign',\n",
              " 'kyle nash',\n",
              " 'catoid poid',\n",
              " 'ufile io',\n",
              " 'sai yiu',\n",
              " 'usp sf',\n",
              " 'lisa smithson',\n",
              " 'php catoid',\n",
              " 'linear algebra',\n",
              " 'van vliet',\n",
              " 'immunology infection',\n",
              " 'claire scavuzzo',\n",
              " 'gordon lee',\n",
              " 'female_sign ️',\n",
              " 'jason lang',\n",
              " 'viewform usp',\n",
              " 'andrew wong',\n",
              " 'red_heart ️',\n",
              " 'formula sheet',\n",
              " 'vice president',\n",
              " 'dental hygiene',\n",
              " 'index html',\n",
              " 'y all',\n",
              " 'auto webp',\n",
              " 'pjpg auto',\n",
              " 'the gateway',\n",
              " 'pro con',\n",
              " 'jpg width',\n",
              " 'redd it',\n",
              " 'hub mall',\n",
              " 'preview redd',\n",
              " 'format pjpg',\n",
              " 'width format',\n",
              " 'discord gg',\n",
              " 'arc card',\n",
              " 'cr ncr',\n",
              " 'docs google',\n",
              " 'pre reqs',\n",
              " 'comp sci',\n",
              " 'opt out',\n",
              " 'conditional acceptance',\n",
              " 'bear track',\n",
              " 'pre req',\n",
              " 'doc google',\n",
              " 'unpopular opinion',\n",
              " 'pre requisite',\n",
              " 'wear mask',\n",
              " 'png width',\n",
              " 'sf link',\n",
              " 'png auto',\n",
              " 'budget cut',\n",
              " 'form gle',\n",
              " 'gift card',\n",
              " 'civ e',\n",
              " 'loudly_crying_face loudly_crying_face',\n",
              " 'mec e',\n",
              " 'access database',\n",
              " 'cameron library',\n",
              " 'statement result',\n",
              " 'academic standing',\n",
              " 'view poll',\n",
              " 'mat e',\n",
              " 'format png',\n",
              " 'rapid test',\n",
              " 'tuesday thursday',\n",
              " 'mental health',\n",
              " 'discord server',\n",
              " 'swap daily',\n",
              " 'count towards',\n",
              " 'wan na',\n",
              " 'gon na',\n",
              " 'social medium',\n",
              " 'story short',\n",
              " 'template letter',\n",
              " 'imgur com',\n",
              " 'schedule builder',\n",
              " 'su election',\n",
              " 'academic probation',\n",
              " 'entrance scholarship',\n",
              " 'multiple choice',\n",
              " 'tip trick',\n",
              " 'bank account',\n",
              " 'database end',\n",
              " 'lang scholarship',\n",
              " 'casper test',\n",
              " 'comment thread',\n",
              " 'elementary education',\n",
              " 'gmail com',\n",
              " 'zoom meeting',\n",
              " 'job prospect',\n",
              " 'official transcript',\n",
              " 'tuition deposit']"
            ]
          },
          "metadata": {},
          "execution_count": 30
        }
      ]
    },
    {
      "cell_type": "markdown",
      "source": [
        "### Concatenate n-grams"
      ],
      "metadata": {
        "id": "WDtmPvB_hvDR"
      }
    },
    {
      "cell_type": "code",
      "source": [
        "def replace_ngram(x):\n",
        "  for gram in bigrams:\n",
        "    x = x.replace(gram, '_'.join(gram.split()))\n",
        "  return x"
      ],
      "metadata": {
        "id": "e1qrng38hJYz"
      },
      "execution_count": null,
      "outputs": []
    },
    {
      "cell_type": "code",
      "source": [
        "posts_w_ngrams = posts.copy()"
      ],
      "metadata": {
        "id": "7q7O6cWvh1Ye"
      },
      "execution_count": null,
      "outputs": []
    },
    {
      "cell_type": "code",
      "source": [
        "posts_w_ngrams.clean_posts = posts_w_ngrams.clean_posts.map(lambda x: replace_ngram(x))"
      ],
      "metadata": {
        "id": "Boai7bhqiANX"
      },
      "execution_count": null,
      "outputs": []
    },
    {
      "cell_type": "code",
      "source": [
        "print(posts_w_ngrams)"
      ],
      "metadata": {
        "colab": {
          "base_uri": "https://localhost:8080/"
        },
        "id": "RLE7tBZIic9B",
        "outputId": "cc181681-0c59-450e-9739-1a442bbcd6ae"
      },
      "execution_count": null,
      "outputs": [
        {
          "output_type": "stream",
          "name": "stdout",
          "text": [
            "                                                    post  \\\n",
            "0      PharmD Application. I was hoping anything that...   \n",
            "1      Happy New Years. I wish you all a happy new ye...   \n",
            "2      New Year’s Resolution.... Learn to accept that...   \n",
            "3      Winter Term Midterms. Does anyone know if midt...   \n",
            "4                    What's your New Years resolution?.    \n",
            "...                                                  ...   \n",
            "56256  Are starbucks, tim hortons...etc always hiring...   \n",
            "56257  Laptop/Computer for Engineer. I am seeking rec...   \n",
            "56258  Computer Game Development Certificate Question...   \n",
            "56259  Unofficial Second Year ENG GPA Submission. Fir...   \n",
            "56260  Student Health Care. Can anyone explain the pr...   \n",
            "\n",
            "                                             clean_posts  \n",
            "0      pharmd application hop anything applied pharmd...  \n",
            "1      happy new year wish happy new year learn succe...  \n",
            "2      new year ’ resolution learn accept polyscistud...  \n",
            "3      winter term midterm anyone know midterm genera...  \n",
            "4                                  s new year resolution  \n",
            "...                                                  ...  \n",
            "56256  starbucks tim hortons etc always hire interest...  \n",
            "56257  laptop computer engineer seek recommendation a...  \n",
            "56258  computer game development certificate question...  \n",
            "56259  unofficial second year eng gpa submission firs...  \n",
            "56260  student health care anyone explain process get...  \n",
            "\n",
            "[56261 rows x 2 columns]\n"
          ]
        }
      ]
    },
    {
      "cell_type": "markdown",
      "source": [
        "## Tokenize posts and remove words with less than 2 characters"
      ],
      "metadata": {
        "id": "lBSd2lD8itos"
      }
    },
    {
      "cell_type": "code",
      "source": [
        "posts_w_ngrams = posts_w_ngrams.clean_posts.map(lambda x: [word for word in x.split() if len(word) > 2])"
      ],
      "metadata": {
        "id": "OLKNgFgAisSD"
      },
      "execution_count": null,
      "outputs": []
    },
    {
      "cell_type": "code",
      "source": [
        "print(posts_w_ngrams)"
      ],
      "metadata": {
        "colab": {
          "base_uri": "https://localhost:8080/"
        },
        "id": "E9MWBcHJj1NI",
        "outputId": "6cdd9f43-de2b-4e11-c073-b44a4ef393ea"
      },
      "execution_count": null,
      "outputs": [
        {
          "output_type": "stream",
          "name": "stdout",
          "text": [
            "0        [pharmd, application, hop, anything, applied, ...\n",
            "1        [happy, new, year, wish, happy, new, year, lea...\n",
            "2        [new, year, resolution, learn, accept, polysci...\n",
            "3        [winter, term, midterm, anyone, know, midterm,...\n",
            "4                                  [new, year, resolution]\n",
            "                               ...                        \n",
            "56256    [starbucks, tim, hortons, etc, always, hire, i...\n",
            "56257    [laptop, computer, engineer, seek, recommendat...\n",
            "56258    [computer, game, development, certificate, que...\n",
            "56259    [unofficial, second, year, eng, gpa, submissio...\n",
            "56260    [student, health, care, anyone, explain, proce...\n",
            "Name: clean_posts, Length: 56261, dtype: object\n"
          ]
        }
      ]
    },
    {
      "cell_type": "markdown",
      "source": [
        "## Add the preprocessed posts to dataframe"
      ],
      "metadata": {
        "id": "BiwNJ3bDmYWZ"
      }
    },
    {
      "cell_type": "code",
      "source": [
        "preprocessed_df['preprocessed_post'] = posts_w_ngrams.values"
      ],
      "metadata": {
        "id": "p5kE5lZHm5yO"
      },
      "execution_count": null,
      "outputs": []
    },
    {
      "cell_type": "code",
      "source": [
        "preprocessed_df = preprocessed_df.reset_index(drop=True)"
      ],
      "metadata": {
        "id": "C_TCer_Iq34A"
      },
      "execution_count": null,
      "outputs": []
    },
    {
      "cell_type": "code",
      "source": [
        "print(preprocessed_df)"
      ],
      "metadata": {
        "colab": {
          "base_uri": "https://localhost:8080/"
        },
        "id": "mNJ4a4pAnNvV",
        "outputId": "393b4686-91bf-4bc8-c2fe-78e32727c7e1"
      },
      "execution_count": null,
      "outputs": [
        {
          "output_type": "stream",
          "name": "stdout",
          "text": [
            "           id                author  \\\n",
            "0      abcz5u           lit12345yxz   \n",
            "1      abd016        PolysciStudent   \n",
            "2      abdm2o       doyouevenschool   \n",
            "3      abev8w         ilovedogs1017   \n",
            "4      abewo8              delciopp   \n",
            "...       ...                   ...   \n",
            "56256  vodkit             vivian352   \n",
            "56257  vodxga           WildWiggety   \n",
            "56258  voh3lj             Kermolion   \n",
            "56259  vojc2e                nurkee   \n",
            "56260  voky74  Mysterious-Chart-930   \n",
            "\n",
            "                                    author_flair_text  \\\n",
            "0                                                 NaN   \n",
            "1                                                 NaN   \n",
            "2                                                 NaN   \n",
            "3                                                 NaN   \n",
            "4                                        MEC E Year 2   \n",
            "...                                               ...   \n",
            "56256                                             NaN   \n",
            "56257    Prospective Student - Faculty of Engineering   \n",
            "56258         Undergraduate Student - Faculty of Arts   \n",
            "56259  Undergraduate Student - Faculty of Engineering   \n",
            "56260          Prospective Student - Faculty of _____   \n",
            "\n",
            "                         created_utc  num_comments  \\\n",
            "0      1970-01-01 00:00:01.546301594             1   \n",
            "1      1970-01-01 00:00:01.546301745            18   \n",
            "2      1970-01-01 00:00:01.546306023             9   \n",
            "3      1970-01-01 00:00:01.546316423             2   \n",
            "4      1970-01-01 00:00:01.546316766            11   \n",
            "...                              ...           ...   \n",
            "56256  1970-01-01 00:00:01.656609253             0   \n",
            "56257  1970-01-01 00:00:01.656610197             0   \n",
            "56258  1970-01-01 00:00:01.656618394             0   \n",
            "56259  1970-01-01 00:00:01.656624297             0   \n",
            "56260  1970-01-01 00:00:01.656628556             0   \n",
            "\n",
            "                                                    post  \\\n",
            "0      PharmD Application. I was hoping anything that...   \n",
            "1      Happy New Years. I wish you all a happy new ye...   \n",
            "2      New Year’s Resolution.... Learn to accept that...   \n",
            "3      Winter Term Midterms. Does anyone know if midt...   \n",
            "4                    What's your New Years resolution?.    \n",
            "...                                                  ...   \n",
            "56256  Are starbucks, tim hortons...etc always hiring...   \n",
            "56257  Laptop/Computer for Engineer. I am seeking rec...   \n",
            "56258  Computer Game Development Certificate Question...   \n",
            "56259  Unofficial Second Year ENG GPA Submission. Fir...   \n",
            "56260  Student Health Care. Can anyone explain the pr...   \n",
            "\n",
            "                                       preprocessed_post  \n",
            "0      [pharmd, application, hop, anything, applied, ...  \n",
            "1      [happy, new, year, wish, happy, new, year, lea...  \n",
            "2      [new, year, resolution, learn, accept, polysci...  \n",
            "3      [winter, term, midterm, anyone, know, midterm,...  \n",
            "4                                [new, year, resolution]  \n",
            "...                                                  ...  \n",
            "56256  [starbucks, tim, hortons, etc, always, hire, i...  \n",
            "56257  [laptop, computer, engineer, seek, recommendat...  \n",
            "56258  [computer, game, development, certificate, que...  \n",
            "56259  [unofficial, second, year, eng, gpa, submissio...  \n",
            "56260  [student, health, care, anyone, explain, proce...  \n",
            "\n",
            "[56261 rows x 7 columns]\n"
          ]
        }
      ]
    },
    {
      "cell_type": "code",
      "source": [
        "preprocessed_df.to_csv('PreprocessedPosts.csv', header=True, index=False)"
      ],
      "metadata": {
        "id": "NlDaSfubqMLm"
      },
      "execution_count": null,
      "outputs": []
    },
    {
      "cell_type": "code",
      "source": [
        "preprocessed_df.to_json('PreprocessedPosts.json', orient='columns')"
      ],
      "metadata": {
        "id": "fDGHBVLoAG97"
      },
      "execution_count": null,
      "outputs": []
    }
  ]
}