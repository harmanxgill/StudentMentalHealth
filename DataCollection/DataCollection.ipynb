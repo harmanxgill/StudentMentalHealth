{
  "nbformat": 4,
  "nbformat_minor": 0,
  "metadata": {
    "colab": {
      "name": "DataCollection.ipynb",
      "provenance": []
    },
    "kernelspec": {
      "name": "python3",
      "display_name": "Python 3"
    },
    "language_info": {
      "name": "python"
    }
  },
  "cells": [
    {
      "cell_type": "markdown",
      "source": [
        "# Student Mental Health\n",
        "## Data Collection\n",
        "Author: Harman Gill\n",
        "\n",
        "Description: Python program to gather Reddit Submissions for r/uAlberta from January 1, 2019 to June 30,2022 using Pushshift's API and storing them into CSV and JSON formats to be further processed for data analysis."
      ],
      "metadata": {
        "id": "9P6A-lJQK-9s"
      }
    },
    {
      "cell_type": "code",
      "source": [
        "!pip install pmaw pandas"
      ],
      "metadata": {
        "colab": {
          "base_uri": "https://localhost:8080/"
        },
        "id": "l23ythyWHh_P",
        "outputId": "217ddb5a-9cdc-4cbd-fa3f-4d4f049c8ada"
      },
      "execution_count": null,
      "outputs": [
        {
          "output_type": "stream",
          "name": "stdout",
          "text": [
            "Looking in indexes: https://pypi.org/simple, https://us-python.pkg.dev/colab-wheels/public/simple/\n",
            "Requirement already satisfied: pmaw in /usr/local/lib/python3.7/dist-packages (2.1.3)\n",
            "Requirement already satisfied: pandas in /usr/local/lib/python3.7/dist-packages (1.3.5)\n",
            "Requirement already satisfied: requests in /usr/local/lib/python3.7/dist-packages (from pmaw) (2.23.0)\n",
            "Requirement already satisfied: praw in /usr/local/lib/python3.7/dist-packages (from pmaw) (7.6.0)\n",
            "Requirement already satisfied: numpy>=1.17.3 in /usr/local/lib/python3.7/dist-packages (from pandas) (1.21.6)\n",
            "Requirement already satisfied: python-dateutil>=2.7.3 in /usr/local/lib/python3.7/dist-packages (from pandas) (2.8.2)\n",
            "Requirement already satisfied: pytz>=2017.3 in /usr/local/lib/python3.7/dist-packages (from pandas) (2022.1)\n",
            "Requirement already satisfied: six>=1.5 in /usr/local/lib/python3.7/dist-packages (from python-dateutil>=2.7.3->pandas) (1.15.0)\n",
            "Requirement already satisfied: update-checker>=0.18 in /usr/local/lib/python3.7/dist-packages (from praw->pmaw) (0.18.0)\n",
            "Requirement already satisfied: prawcore<3,>=2.1 in /usr/local/lib/python3.7/dist-packages (from praw->pmaw) (2.3.0)\n",
            "Requirement already satisfied: websocket-client>=0.54.0 in /usr/local/lib/python3.7/dist-packages (from praw->pmaw) (1.3.3)\n",
            "Requirement already satisfied: idna<3,>=2.5 in /usr/local/lib/python3.7/dist-packages (from requests->pmaw) (2.10)\n",
            "Requirement already satisfied: chardet<4,>=3.0.2 in /usr/local/lib/python3.7/dist-packages (from requests->pmaw) (3.0.4)\n",
            "Requirement already satisfied: certifi>=2017.4.17 in /usr/local/lib/python3.7/dist-packages (from requests->pmaw) (2022.6.15)\n",
            "Requirement already satisfied: urllib3!=1.25.0,!=1.25.1,<1.26,>=1.21.1 in /usr/local/lib/python3.7/dist-packages (from requests->pmaw) (1.24.3)\n"
          ]
        }
      ]
    },
    {
      "cell_type": "code",
      "source": [
        "import pandas as pd\n",
        "from pmaw import PushshiftAPI\n",
        "import datetime as dt\n",
        "from datetime import timezone"
      ],
      "metadata": {
        "id": "oWQAvOdCHrGR"
      },
      "execution_count": null,
      "outputs": []
    },
    {
      "cell_type": "code",
      "source": [
        "api = PushshiftAPI()"
      ],
      "metadata": {
        "id": "Wz05F5JCH5zb"
      },
      "execution_count": null,
      "outputs": []
    },
    {
      "cell_type": "code",
      "source": [
        "before = int(dt.datetime(2022,7,1,0,0,0, tzinfo=timezone.utc).timestamp())\n",
        "after = int(dt.datetime(2019,1,1,0,0,0, tzinfo=timezone.utc).timestamp())\n",
        "subreddit = \"uAlberta\""
      ],
      "metadata": {
        "id": "fc_l7y5pH-EK"
      },
      "execution_count": null,
      "outputs": []
    },
    {
      "cell_type": "code",
      "source": [
        "posts = api.search_submissions(subreddit=subreddit, before=before, after=after, limit=None, sort_type='created_utc')\n",
        "print(f'Retrieved {len(posts)} posts from Pushshift')\n",
        "df = pd.DataFrame(posts).sort_values(by='created_utc')\n",
        "\n",
        "df = df.reset_index(drop=True)\n",
        "print(df)"
      ],
      "metadata": {
        "colab": {
          "base_uri": "https://localhost:8080/"
        },
        "id": "IHxsWCtRIkTA",
        "outputId": "2bab881a-0ae5-4f4b-e9f1-67f01a03859c"
      },
      "execution_count": null,
      "outputs": [
        {
          "output_type": "stream",
          "name": "stderr",
          "text": [
            "WARNING:pmaw.PushshiftAPIBase:Not all PushShift shards are active. Query results may be incomplete.\n",
            "WARNING:pmaw.PushshiftAPIBase:Not all PushShift shards are active. Query results may be incomplete.\n",
            "WARNING:pmaw.PushshiftAPIBase:Not all PushShift shards are active. Query results may be incomplete.\n",
            "WARNING:pmaw.PushshiftAPIBase:Not all PushShift shards are active. Query results may be incomplete.\n",
            "WARNING:pmaw.PushshiftAPIBase:Not all PushShift shards are active. Query results may be incomplete.\n",
            "WARNING:pmaw.PushshiftAPIBase:Not all PushShift shards are active. Query results may be incomplete.\n",
            "WARNING:pmaw.PushshiftAPIBase:Not all PushShift shards are active. Query results may be incomplete.\n",
            "WARNING:pmaw.PushshiftAPIBase:Not all PushShift shards are active. Query results may be incomplete.\n",
            "WARNING:pmaw.PushshiftAPIBase:Not all PushShift shards are active. Query results may be incomplete.\n",
            "WARNING:pmaw.PushshiftAPIBase:Not all PushShift shards are active. Query results may be incomplete.\n",
            "WARNING:pmaw.PushshiftAPIBase:Not all PushShift shards are active. Query results may be incomplete.\n",
            "WARNING:pmaw.PushshiftAPIBase:Not all PushShift shards are active. Query results may be incomplete.\n",
            "WARNING:pmaw.PushshiftAPIBase:Not all PushShift shards are active. Query results may be incomplete.\n",
            "WARNING:pmaw.PushshiftAPIBase:Not all PushShift shards are active. Query results may be incomplete.\n",
            "WARNING:pmaw.PushshiftAPIBase:Not all PushShift shards are active. Query results may be incomplete.\n",
            "WARNING:pmaw.PushshiftAPIBase:Not all PushShift shards are active. Query results may be incomplete.\n",
            "WARNING:pmaw.PushshiftAPIBase:Not all PushShift shards are active. Query results may be incomplete.\n",
            "WARNING:pmaw.PushshiftAPIBase:Not all PushShift shards are active. Query results may be incomplete.\n",
            "WARNING:pmaw.PushshiftAPIBase:Not all PushShift shards are active. Query results may be incomplete.\n",
            "WARNING:pmaw.PushshiftAPIBase:Not all PushShift shards are active. Query results may be incomplete.\n",
            "WARNING:pmaw.PushshiftAPIBase:Not all PushShift shards are active. Query results may be incomplete.\n",
            "WARNING:pmaw.PushshiftAPIBase:Not all PushShift shards are active. Query results may be incomplete.\n",
            "WARNING:pmaw.PushshiftAPIBase:Not all PushShift shards are active. Query results may be incomplete.\n",
            "WARNING:pmaw.PushshiftAPIBase:Not all PushShift shards are active. Query results may be incomplete.\n",
            "WARNING:pmaw.PushshiftAPIBase:Not all PushShift shards are active. Query results may be incomplete.\n",
            "WARNING:pmaw.PushshiftAPIBase:Not all PushShift shards are active. Query results may be incomplete.\n",
            "WARNING:pmaw.PushshiftAPIBase:Not all PushShift shards are active. Query results may be incomplete.\n",
            "WARNING:pmaw.PushshiftAPIBase:Not all PushShift shards are active. Query results may be incomplete.\n",
            "WARNING:pmaw.PushshiftAPIBase:Not all PushShift shards are active. Query results may be incomplete.\n",
            "WARNING:pmaw.PushshiftAPIBase:Not all PushShift shards are active. Query results may be incomplete.\n",
            "WARNING:pmaw.PushshiftAPIBase:Not all PushShift shards are active. Query results may be incomplete.\n",
            "WARNING:pmaw.PushshiftAPIBase:Not all PushShift shards are active. Query results may be incomplete.\n",
            "WARNING:pmaw.PushshiftAPIBase:Not all PushShift shards are active. Query results may be incomplete.\n",
            "WARNING:pmaw.PushshiftAPIBase:Not all PushShift shards are active. Query results may be incomplete.\n",
            "WARNING:pmaw.PushshiftAPIBase:Not all PushShift shards are active. Query results may be incomplete.\n"
          ]
        },
        {
          "output_type": "stream",
          "name": "stdout",
          "text": [
            "Retrieved 56261 posts from Pushshift\n",
            "      all_awardings                author author_flair_css_class  \\\n",
            "0               NaN           lit12345yxz                   None   \n",
            "1               NaN        PolysciStudent                   None   \n",
            "2               NaN       doyouevenschool                   None   \n",
            "3               NaN         ilovedogs1017                   None   \n",
            "4               NaN              delciopp                 alumni   \n",
            "...             ...                   ...                    ...   \n",
            "56256            []             vivian352                   None   \n",
            "56257            []           WildWiggety                  Staff   \n",
            "56258            []             Kermolion          Undergraduate   \n",
            "56259            []                nurkee          Undergraduate   \n",
            "56260            []  Mysterious-Chart-930    Prospective Student   \n",
            "\n",
            "                                   author_flair_richtext  \\\n",
            "0                                                     []   \n",
            "1                                                     []   \n",
            "2                                                     []   \n",
            "3                                                     []   \n",
            "4                   [{'e': 'text', 't': 'MEC E Year 2'}]   \n",
            "...                                                  ...   \n",
            "56256                                                 []   \n",
            "56257  [{'e': 'text', 't': 'Prospective Student - Fac...   \n",
            "56258  [{'e': 'text', 't': 'Undergraduate Student - F...   \n",
            "56259  [{'e': 'text', 't': 'Undergraduate Student - F...   \n",
            "56260  [{'e': 'text', 't': 'Prospective Student - Fac...   \n",
            "\n",
            "                                    author_flair_text author_flair_type  \\\n",
            "0                                                None              text   \n",
            "1                                                None              text   \n",
            "2                                                None              text   \n",
            "3                                                None              text   \n",
            "4                                        MEC E Year 2          richtext   \n",
            "...                                               ...               ...   \n",
            "56256                                            None              text   \n",
            "56257    Prospective Student - Faculty of Engineering          richtext   \n",
            "56258         Undergraduate Student - Faculty of Arts          richtext   \n",
            "56259  Undergraduate Student - Faculty of Engineering          richtext   \n",
            "56260          Prospective Student - Faculty of _____          richtext   \n",
            "\n",
            "      author_fullname author_patreon_flair  can_mod_post  contest_mode  ...  \\\n",
            "0         t2_1trmr45n                False         False         False  ...   \n",
            "1          t2_sn0hk65                False         False         False  ...   \n",
            "2         t2_2ngrbv3u                False         False         False  ...   \n",
            "3         t2_127vw8hr                False         False         False  ...   \n",
            "4         t2_1j4hc0x5                False         False         False  ...   \n",
            "...               ...                  ...           ...           ...  ...   \n",
            "56256        t2_yhldw                False         False         False  ...   \n",
            "56257     t2_48iubsoy                False         False         False  ...   \n",
            "56258       t2_sybo8n                False         False         False  ...   \n",
            "56259     t2_4u960xex                False         False         False  ...   \n",
            "56260     t2_7r36yis0                False         False         False  ...   \n",
            "\n",
            "       removed_by distinguished gilded collections og_description  og_title  \\\n",
            "0             NaN           NaN    NaN         NaN            NaN       NaN   \n",
            "1             NaN           NaN    NaN         NaN            NaN       NaN   \n",
            "2             NaN           NaN    NaN         NaN            NaN       NaN   \n",
            "3             NaN           NaN    NaN         NaN            NaN       NaN   \n",
            "4             NaN           NaN    NaN         NaN            NaN       NaN   \n",
            "...           ...           ...    ...         ...            ...       ...   \n",
            "56256         NaN           NaN    NaN         NaN            NaN       NaN   \n",
            "56257         NaN           NaN    NaN         NaN            NaN       NaN   \n",
            "56258         NaN           NaN    NaN         NaN            NaN       NaN   \n",
            "56259         NaN           NaN    NaN         NaN            NaN       NaN   \n",
            "56260         NaN           NaN    NaN         NaN            NaN       NaN   \n",
            "\n",
            "       event_end  event_is_live  event_start  tournament_data  \n",
            "0            NaN            NaN          NaN              NaN  \n",
            "1            NaN            NaN          NaN              NaN  \n",
            "2            NaN            NaN          NaN              NaN  \n",
            "3            NaN            NaN          NaN              NaN  \n",
            "4            NaN            NaN          NaN              NaN  \n",
            "...          ...            ...          ...              ...  \n",
            "56256        NaN            NaN          NaN              NaN  \n",
            "56257        NaN            NaN          NaN              NaN  \n",
            "56258        NaN            NaN          NaN              NaN  \n",
            "56259        NaN            NaN          NaN              NaN  \n",
            "56260        NaN            NaN          NaN              NaN  \n",
            "\n",
            "[56261 rows x 96 columns]\n"
          ]
        }
      ]
    },
    {
      "cell_type": "code",
      "source": [
        "print(df.loc[:, 'created_utc'])"
      ],
      "metadata": {
        "id": "jW8LpabG5P4h",
        "outputId": "5213eff6-5f32-47ec-e57a-94b186766650",
        "colab": {
          "base_uri": "https://localhost:8080/"
        }
      },
      "execution_count": null,
      "outputs": [
        {
          "output_type": "stream",
          "name": "stdout",
          "text": [
            "0        1546301594\n",
            "1        1546301745\n",
            "2        1546306023\n",
            "3        1546316423\n",
            "4        1546316766\n",
            "            ...    \n",
            "56256    1656609253\n",
            "56257    1656610197\n",
            "56258    1656618394\n",
            "56259    1656624297\n",
            "56260    1656628556\n",
            "Name: created_utc, Length: 56261, dtype: int64\n"
          ]
        }
      ]
    },
    {
      "cell_type": "code",
      "source": [
        "df.to_csv('RedditPosts.csv', header=True, index=False)\n",
        "df.to_json('RedditPosts.json', orient='columns')"
      ],
      "metadata": {
        "id": "Zg7Lu4kxR6Er"
      },
      "execution_count": null,
      "outputs": []
    }
  ]
}